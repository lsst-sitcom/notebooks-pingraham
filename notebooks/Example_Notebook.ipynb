{
 "cells": [
  {
   "cell_type": "markdown",
   "id": "6f4102e7",
   "metadata": {},
   "source": [
    "# Personal Notebook Example"
   ]
  },
  {
   "cell_type": "markdown",
   "id": "36659fb2",
   "metadata": {},
   "source": [
    "This is an example of a notebook that employs the structure of the Rubin personal notebook repository. <br>\n",
    "In this case we import a local method, stored in this repo, that is used to support this notebook. <br>\n",
    "The method simply multiples a user-declared value by a user-declared multiplier.\n",
    "This example method also contains unit tests in the \"tests\" directory of the repo"
   ]
  },
  {
   "cell_type": "markdown",
   "id": "6c11bbab",
   "metadata": {},
   "source": [
    "## Import required libraries"
   ]
  },
  {
   "cell_type": "code",
   "execution_count": 4,
   "id": "5acea5f6",
   "metadata": {},
   "outputs": [
    {
     "ename": "ModuleNotFoundError",
     "evalue": "No module named 'lsst'",
     "output_type": "error",
     "traceback": [
      "\u001b[1;31m---------------------------------------------------------------------------\u001b[0m",
      "\u001b[1;31mModuleNotFoundError\u001b[0m                       Traceback (most recent call last)",
      "\u001b[1;32mC:\\Users\\PINGRA~1\\AppData\\Local\\Temp/ipykernel_12240/3516262046.py\u001b[0m in \u001b[0;36m<module>\u001b[1;34m\u001b[0m\n\u001b[0;32m      1\u001b[0m \u001b[1;32mimport\u001b[0m \u001b[0mlogging\u001b[0m\u001b[1;33m\u001b[0m\u001b[1;33m\u001b[0m\u001b[0m\n\u001b[1;32m----> 2\u001b[1;33m \u001b[1;32mfrom\u001b[0m \u001b[0mlsst\u001b[0m\u001b[1;33m.\u001b[0m\u001b[0msitcom\u001b[0m\u001b[1;33m.\u001b[0m\u001b[0mexample_method\u001b[0m \u001b[1;32mimport\u001b[0m \u001b[0mexample_method\u001b[0m\u001b[1;33m\u001b[0m\u001b[1;33m\u001b[0m\u001b[0m\n\u001b[0m",
      "\u001b[1;31mModuleNotFoundError\u001b[0m: No module named 'lsst'"
     ]
    }
   ],
   "source": [
    "import logging\n",
    "from lsst.sitcom.example_method import example_method"
   ]
  },
  {
   "cell_type": "code",
   "execution_count": 7,
   "id": "55734eca",
   "metadata": {},
   "outputs": [],
   "source": [
    "logging.basicConfig()\n",
    "logger = logging.getLogger(__name__)\n",
    "logger.level=logging.DEBUG"
   ]
  },
  {
   "cell_type": "markdown",
   "id": "569cd1c5",
   "metadata": {},
   "source": [
    "## Declare variables "
   ]
  },
  {
   "cell_type": "code",
   "execution_count": 5,
   "id": "8e34584a",
   "metadata": {},
   "outputs": [],
   "source": [
    "number = 3  # the value that I wish to multiply by a declared multiplier\n",
    "multiplier = 7 # The value of which the above number will be multiplied"
   ]
  },
  {
   "cell_type": "code",
   "execution_count": 8,
   "id": "35232f76",
   "metadata": {},
   "outputs": [
    {
     "ename": "NameError",
     "evalue": "name 'example_method' is not defined",
     "output_type": "error",
     "traceback": [
      "\u001b[1;31m---------------------------------------------------------------------------\u001b[0m",
      "\u001b[1;31mNameError\u001b[0m                                 Traceback (most recent call last)",
      "\u001b[1;32mC:\\Users\\PINGRA~1\\AppData\\Local\\Temp/ipykernel_12240/1526767667.py\u001b[0m in \u001b[0;36m<module>\u001b[1;34m\u001b[0m\n\u001b[1;32m----> 1\u001b[1;33m \u001b[0mresult\u001b[0m \u001b[1;33m=\u001b[0m \u001b[0mexample_method\u001b[0m\u001b[1;33m(\u001b[0m\u001b[0mnumber\u001b[0m\u001b[1;33m,\u001b[0m \u001b[0mmultiplier\u001b[0m\u001b[1;33m=\u001b[0m\u001b[0mmultiplier\u001b[0m\u001b[1;33m)\u001b[0m\u001b[1;33m\u001b[0m\u001b[1;33m\u001b[0m\u001b[0m\n\u001b[0m\u001b[0;32m      2\u001b[0m \u001b[0mlogger\u001b[0m\u001b[1;33m.\u001b[0m\u001b[0minfo\u001b[0m\u001b[1;33m(\u001b[0m\u001b[1;34mf'The result is: {result}'\u001b[0m\u001b[1;33m)\u001b[0m\u001b[1;33m\u001b[0m\u001b[1;33m\u001b[0m\u001b[0m\n",
      "\u001b[1;31mNameError\u001b[0m: name 'example_method' is not defined"
     ]
    }
   ],
   "source": [
    "result = example_method(number, multiplier=multiplier)\n",
    "logger.info(f'The result is: {result}')"
   ]
  },
  {
   "cell_type": "code",
   "execution_count": null,
   "id": "a522558f",
   "metadata": {},
   "outputs": [],
   "source": []
  }
 ],
 "metadata": {
  "kernelspec": {
   "display_name": "Python 3 (ipykernel)",
   "language": "python",
   "name": "python3"
  },
  "language_info": {
   "codemirror_mode": {
    "name": "ipython",
    "version": 3
   },
   "file_extension": ".py",
   "mimetype": "text/x-python",
   "name": "python",
   "nbconvert_exporter": "python",
   "pygments_lexer": "ipython3",
   "version": "3.9.7"
  }
 },
 "nbformat": 4,
 "nbformat_minor": 5
}
