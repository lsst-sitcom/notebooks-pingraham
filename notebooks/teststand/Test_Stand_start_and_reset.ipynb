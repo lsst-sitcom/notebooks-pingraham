{
 "cells": [
  {
   "cell_type": "markdown",
   "id": "053eae8e-aaa8-4d8e-9b6b-e3fe74d302fd",
   "metadata": {
    "tags": []
   },
   "source": [
    "## This notebook prepares and shuts down the test-stand."
   ]
  },
  {
   "cell_type": "code",
   "execution_count": null,
   "id": "e78296e0-4c89-4fb4-b410-df3cf6a10d44",
   "metadata": {},
   "outputs": [],
   "source": [
    "import sys\n",
    "import asyncio\n",
    "import time\n",
    "import os\n",
    "\n",
    "import numpy as np\n",
    "import logging \n",
    "import yaml\n",
    "import matplotlib.pyplot as plt\n",
    "import astropy\n",
    "\n",
    "from lsst.ts import salobj\n",
    "from lsst.ts.externalscripts.auxtel.latiss_cwfs_align import LatissCWFSAlign\n",
    "from lsst.ts.observatory.control.utils import RotType\n",
    "\n",
    "from lsst.ts.idl.enums.Script import ScriptState\n",
    "\n",
    "from lsst.ts.observing.utilities.decorated_logger import DecoratedLogger"
   ]
  },
  {
   "cell_type": "code",
   "execution_count": null,
   "id": "fb1289ba-5e6e-487b-b33b-ccd19f0dc58b",
   "metadata": {},
   "outputs": [],
   "source": [
    "logger = DecoratedLogger.get_decorated_logger()\n",
    "logger.level = logging.DEBUG"
   ]
  },
  {
   "cell_type": "code",
   "execution_count": null,
   "id": "201d3b77-1f31-4344-8a8b-270a302c0bb4",
   "metadata": {},
   "outputs": [],
   "source": []
  },
  {
   "cell_type": "markdown",
   "id": "fabf0be1-a4c0-45b8-a44e-2b7b1935fb2d",
   "metadata": {},
   "source": [
    "## Instantiate the CWFS Script\n",
    "\n",
    "First derive and index for the script that is specific to your user"
   ]
  },
  {
   "cell_type": "code",
   "execution_count": null,
   "id": "9fca8dd7-1fad-447f-9694-9ab85739d1e9",
   "metadata": {},
   "outputs": [],
   "source": [
    "logger.info(f'Your UID is {os.getuid()}')\n",
    "index=os.getuid()*10+np.random.randint(0,9)\n",
    "logger.info(f'The generated index is {index}')"
   ]
  },
  {
   "cell_type": "markdown",
   "id": "8a4d4d28-f05b-44fa-b0cb-2f6c46f20bd9",
   "metadata": {},
   "source": [
    "Instantiate the script then start all remotes"
   ]
  },
  {
   "cell_type": "code",
   "execution_count": null,
   "id": "9f6c7a2d-c881-442a-bb9a-78d0550b9177",
   "metadata": {
    "tags": []
   },
   "outputs": [],
   "source": [
    "script = LatissCWFSAlign(index=index, remotes=True)  # this essentially calls the init method\n",
    "await script.start_task"
   ]
  },
  {
   "cell_type": "code",
   "execution_count": null,
   "id": "af5fc65a-7e5e-4f6c-9498-351e2c00c8ec",
   "metadata": {},
   "outputs": [],
   "source": []
  },
  {
   "cell_type": "code",
   "execution_count": null,
   "id": "8418f983-ebf5-4ea1-9f5d-ac0bf295848a",
   "metadata": {},
   "outputs": [],
   "source": [
    "await script.atcs.enable_dome_following()"
   ]
  },
  {
   "cell_type": "code",
   "execution_count": null,
   "id": "bcf64262-408b-473d-af61-4a33fbaaae44",
   "metadata": {},
   "outputs": [],
   "source": [
    "await script.atcs.enable(settings={'athexapod':'ncsa', 'ataos':'current','atdome':'current'})"
   ]
  },
  {
   "cell_type": "code",
   "execution_count": null,
   "id": "97bd1606-5629-4bf8-86f0-32868fb96382",
   "metadata": {},
   "outputs": [],
   "source": [
    "await script.atcs.enable"
   ]
  },
  {
   "cell_type": "code",
   "execution_count": null,
   "id": "4c4c9839-5d7c-4b92-8585-9e6b69179d57",
   "metadata": {},
   "outputs": [],
   "source": [
    "tmp=await salobj.set_summary_state(script.atcs.rem.athexapod, salobj.State.ENABLED, settingsToApply='ncsa',timeout=20)\n",
    "print(tmp)"
   ]
  },
  {
   "cell_type": "code",
   "execution_count": null,
   "id": "e2b3e3b8-b99a-4002-ae55-86a17e9d1451",
   "metadata": {},
   "outputs": [],
   "source": []
  },
  {
   "cell_type": "code",
   "execution_count": null,
   "id": "ffc777c0-aae8-4b32-b5c1-1ed3d889a5af",
   "metadata": {},
   "outputs": [],
   "source": [
    "tmp=await salobj.set_summary_state(script.atcs.rem.ataos, salobj.State.ENABLED, settingsToApply='current',timeout=20)\n",
    "print(tmp)"
   ]
  },
  {
   "cell_type": "code",
   "execution_count": null,
   "id": "43c98292-7f7f-4c0d-bf5d-d7e72ae929d2",
   "metadata": {},
   "outputs": [],
   "source": [
    "await script.atcs.rem.ataos.cmd_setLogLevel.set_start(level=logging.DEBUG)"
   ]
  },
  {
   "cell_type": "code",
   "execution_count": null,
   "id": "5151bc78-94ed-4a59-be15-52585d86fb5b",
   "metadata": {},
   "outputs": [],
   "source": [
    "tmp=await salobj.set_summary_state(script.atcs.rem.atpneumatics, salobj.State.ENABLED,timeout=20)\n",
    "print(tmp)"
   ]
  },
  {
   "cell_type": "code",
   "execution_count": null,
   "id": "fc0d9f7a-3765-4d9b-bf7b-72c1154628e7",
   "metadata": {},
   "outputs": [],
   "source": [
    "await script.atcs.prepare_for_onsky()"
   ]
  },
  {
   "cell_type": "code",
   "execution_count": null,
   "id": "2a57c498-ebbf-4a74-b952-e15e37ec9313",
   "metadata": {},
   "outputs": [],
   "source": []
  },
  {
   "cell_type": "code",
   "execution_count": null,
   "id": "4a6c367f-98d6-415d-8c48-8ac9bf8c0df2",
   "metadata": {
    "tags": []
   },
   "outputs": [],
   "source": [
    "await script.atcs.rem.ataos.cmd_enableCorrection.set_start(m1=True, hexapod=True, atspectrograph=True, timeout=15)"
   ]
  },
  {
   "cell_type": "code",
   "execution_count": null,
   "id": "f5de00ad-de91-4914-a7c7-12561ae68509",
   "metadata": {},
   "outputs": [],
   "source": [
    "tmp = await script.atcs.rem.ataos.evt_settingVersions.aget()\n",
    "print(tmp)"
   ]
  },
  {
   "cell_type": "code",
   "execution_count": null,
   "id": "3ba37e68-c00e-47be-a081-43a0f34b574f",
   "metadata": {},
   "outputs": [],
   "source": [
    "script.atcs?"
   ]
  },
  {
   "cell_type": "code",
   "execution_count": null,
   "id": "88ca8f2a-aed9-4b02-ad67-68cd3dcf6fc0",
   "metadata": {},
   "outputs": [],
   "source": [
    "await script.atcs.shutdown()"
   ]
  },
  {
   "cell_type": "code",
   "execution_count": null,
   "id": "6ed3fc3a-1756-4271-936c-5e87187f3d9a",
   "metadata": {},
   "outputs": [],
   "source": [
    "await script.atcs.enable(settings={'athexapod':'ncsa', 'ataos':'current','atdome':'current'})"
   ]
  }
 ],
 "metadata": {
  "kernelspec": {
   "display_name": "LSST",
   "language": "python",
   "name": "lsst"
  },
  "language_info": {
   "codemirror_mode": {
    "name": "ipython",
    "version": 3
   },
   "file_extension": ".py",
   "mimetype": "text/x-python",
   "name": "python",
   "nbconvert_exporter": "python",
   "pygments_lexer": "ipython3",
   "version": "3.8.12"
  }
 },
 "nbformat": 4,
 "nbformat_minor": 5
}
