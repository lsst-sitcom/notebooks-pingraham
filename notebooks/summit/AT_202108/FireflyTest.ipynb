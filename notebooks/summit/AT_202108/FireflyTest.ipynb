{
 "cells": [
  {
   "cell_type": "code",
   "execution_count": null,
   "metadata": {},
   "outputs": [],
   "source": [
    "# This notebook just tests image display"
   ]
  },
  {
   "cell_type": "code",
   "execution_count": 1,
   "metadata": {},
   "outputs": [],
   "source": [
    "import lsst.afw.display as afwDisplay\n",
    "import lsst.daf.persistence as dafPersist\n",
    "import os\n",
    "from matplotlib import pyplot as plt"
   ]
  },
  {
   "cell_type": "code",
   "execution_count": 2,
   "metadata": {},
   "outputs": [],
   "source": [
    "# Want to display in firefly?\n",
    "afwDisplay.setDefaultBackend('firefly')\n",
    "#os.environ['FIREFLY_HTML'] = \"slate.html\"\n",
    "#os.environ['FIREFLY_URL'] = 'http://139.229.170.210:8080/firefly/'\n",
    "#os.environ['FIREFLY_URL'] = 'https://lsst-nts-k8s.ncsa.illinois.edu/portal/app/' # 'http://139.229.170.210:8080/firefly/'"
   ]
  },
  {
   "cell_type": "code",
   "execution_count": 4,
   "metadata": {},
   "outputs": [
    {
     "ename": "RuntimeError",
     "evalue": "No default mapper could be established from inputs:[] and no mapper specified for outputs:[RepoData(id=139899281997392,repoArgs=RepositoryArgs(root='/repo/LATISS', cfgRoot=None, mapper=None, mapperArgs=None, tags=set(), mode='rw', policy=None)cfg=RepositoryCfg(root='/repo/LATISS', mapper=None, mapperArgs={}, parents=[], policy=None),cfgOrigin=new,cfgRoot=/repo/LATISS,repo=None,parentRepoDatas=[],isV1Repository=False,role=output,parentRegistry=None)]",
     "output_type": "error",
     "traceback": [
      "\u001b[0;31m---------------------------------------------------------------------------\u001b[0m",
      "\u001b[0;31mRuntimeError\u001b[0m                              Traceback (most recent call last)",
      "Input \u001b[0;32mIn [4]\u001b[0m, in \u001b[0;36m<module>\u001b[0;34m\u001b[0m\n\u001b[1;32m      1\u001b[0m datapath \u001b[38;5;241m=\u001b[39m \u001b[38;5;124m'\u001b[39m\u001b[38;5;124m/repo/LATISS\u001b[39m\u001b[38;5;124m'\u001b[39m\n\u001b[1;32m      2\u001b[0m repo \u001b[38;5;241m=\u001b[39m os\u001b[38;5;241m.\u001b[39mpath\u001b[38;5;241m.\u001b[39mjoin(datapath)\u001b[38;5;66;03m#, mapper={'calibRoot': \"/home/saluser/ingest/dmcs/CALIB\"})\u001b[39;00m\n\u001b[0;32m----> 3\u001b[0m butler \u001b[38;5;241m=\u001b[39m \u001b[43mdafPersist\u001b[49m\u001b[38;5;241;43m.\u001b[39;49m\u001b[43mButler\u001b[49m\u001b[43m(\u001b[49m\u001b[43mrepo\u001b[49m\u001b[43m)\u001b[49m\n",
      "File \u001b[0;32m/opt/lsst/software/stack/stack/miniconda3-py38_4.9.2-1.0.0/Linux64/daf_persistence/g6a31054a6e+6003f74e16/python/lsst/daf/persistence/butler.py:527\u001b[0m, in \u001b[0;36mButler.__init__\u001b[0;34m(self, root, mapper, inputs, outputs, **mapperArgs)\u001b[0m\n\u001b[1;32m    523\u001b[0m \u001b[38;5;28mself\u001b[39m\u001b[38;5;241m.\u001b[39m_addParents(repoDataList)\n\u001b[1;32m    525\u001b[0m \u001b[38;5;28mself\u001b[39m\u001b[38;5;241m.\u001b[39m_setAndVerifyParentsLists(repoDataList)\n\u001b[0;32m--> 527\u001b[0m \u001b[38;5;28;43mself\u001b[39;49m\u001b[38;5;241;43m.\u001b[39;49m\u001b[43m_setDefaultMapper\u001b[49m\u001b[43m(\u001b[49m\u001b[43mrepoDataList\u001b[49m\u001b[43m)\u001b[49m\n\u001b[1;32m    529\u001b[0m \u001b[38;5;28mself\u001b[39m\u001b[38;5;241m.\u001b[39m_connectParentRepoDatas(repoDataList)\n\u001b[1;32m    531\u001b[0m \u001b[38;5;28mself\u001b[39m\u001b[38;5;241m.\u001b[39m_repos \u001b[38;5;241m=\u001b[39m RepoDataContainer(repoDataList)\n",
      "File \u001b[0;32m/opt/lsst/software/stack/stack/miniconda3-py38_4.9.2-1.0.0/Linux64/daf_persistence/g6a31054a6e+6003f74e16/python/lsst/daf/persistence/butler.py:922\u001b[0m, in \u001b[0;36mButler._setDefaultMapper\u001b[0;34m(self, repoDataList)\u001b[0m\n\u001b[1;32m    920\u001b[0m \u001b[38;5;28;01mif\u001b[39;00m \u001b[38;5;28mlen\u001b[39m(mappers) \u001b[38;5;241m!=\u001b[39m \u001b[38;5;241m1\u001b[39m:\n\u001b[1;32m    921\u001b[0m     inputs \u001b[38;5;241m=\u001b[39m [rd \u001b[38;5;28;01mfor\u001b[39;00m rd \u001b[38;5;129;01min\u001b[39;00m repoDataList \u001b[38;5;28;01mif\u001b[39;00m rd\u001b[38;5;241m.\u001b[39mrole \u001b[38;5;241m==\u001b[39m \u001b[38;5;124m'\u001b[39m\u001b[38;5;124minput\u001b[39m\u001b[38;5;124m'\u001b[39m]\n\u001b[0;32m--> 922\u001b[0m     \u001b[38;5;28;01mraise\u001b[39;00m \u001b[38;5;167;01mRuntimeError\u001b[39;00m(\n\u001b[1;32m    923\u001b[0m         (\u001b[38;5;124m\"\u001b[39m\u001b[38;5;124mNo default mapper could be established from inputs:\u001b[39m\u001b[38;5;132;01m{}\u001b[39;00m\u001b[38;5;124m and no mapper specified \u001b[39m\u001b[38;5;124m\"\u001b[39m\n\u001b[1;32m    924\u001b[0m          \u001b[38;5;124m\"\u001b[39m\u001b[38;5;124mfor outputs:\u001b[39m\u001b[38;5;132;01m{}\u001b[39;00m\u001b[38;5;124m\"\u001b[39m)\u001b[38;5;241m.\u001b[39mformat(inputs, needyOutputs))\n\u001b[1;32m    925\u001b[0m defaultMapper \u001b[38;5;241m=\u001b[39m mappers\u001b[38;5;241m.\u001b[39mpop()\n\u001b[1;32m    926\u001b[0m \u001b[38;5;28;01mfor\u001b[39;00m repoData \u001b[38;5;129;01min\u001b[39;00m needyOutputs:\n",
      "\u001b[0;31mRuntimeError\u001b[0m: No default mapper could be established from inputs:[] and no mapper specified for outputs:[RepoData(id=139899281997392,repoArgs=RepositoryArgs(root='/repo/LATISS', cfgRoot=None, mapper=None, mapperArgs=None, tags=set(), mode='rw', policy=None)cfg=RepositoryCfg(root='/repo/LATISS', mapper=None, mapperArgs={}, parents=[], policy=None),cfgOrigin=new,cfgRoot=/repo/LATISS,repo=None,parentRepoDatas=[],isV1Repository=False,role=output,parentRegistry=None)]"
     ]
    }
   ],
   "source": [
    "datapath = '/repo/LATISS'\n",
    "repo = os.path.join(datapath)#, mapper={'calibRoot': \"/home/saluser/ingest/dmcs/CALIB\"})\n",
    "butler = dafPersist.Butler(repo)"
   ]
  },
  {
   "cell_type": "code",
   "execution_count": null,
   "metadata": {},
   "outputs": [],
   "source": [
    "dayObs = \"2021-08-17\"\n",
    "seqNum = \"225\"\n",
    "dataId = dict(dayObs=dayObs, seqNum=seqNum)\n",
    "dataset='raw'\n",
    "exp = butler.get(dataset, dataId)"
   ]
  },
  {
   "cell_type": "code",
   "execution_count": null,
   "metadata": {},
   "outputs": [],
   "source": [
    "plt.close('all')\n",
    "disp = afwDisplay.Display(2, reopenPlot=True, verbose=True, name='PatrickFireFly')\n",
    "# Print the link\n",
    "disp.getClient().display_url()"
   ]
  },
  {
   "cell_type": "code",
   "execution_count": null,
   "metadata": {},
   "outputs": [],
   "source": [
    "if True: # display the image in firefly\n",
    "    #plt.close('all')\n",
    "    #disp = afwDisplay.Display(2, reopenPlot=True)\n",
    "    disp.setMaskPlaneColor('SAT', afwDisplay.IGNORE)\n",
    "    disp.setImageColormap('gray')\n",
    "    disp.scale('linear', 'zscale')\n",
    "    disp.mtv(exp, title='dayobs = {}, seqNum = {}'.format(dayObs,seqNum))\n",
    "    #cgUtils.overlayCcdBoxes(isr_corr_exposure.getDetector(), isTrimmed=True, display=disp)"
   ]
  },
  {
   "cell_type": "code",
   "execution_count": null,
   "metadata": {},
   "outputs": [],
   "source": [
    "disp.getClient().display_url()"
   ]
  },
  {
   "cell_type": "code",
   "execution_count": null,
   "metadata": {},
   "outputs": [],
   "source": [
    "tmp=exp.getInfo()\n",
    "tmp2=tmp.getMetadata()"
   ]
  },
  {
   "cell_type": "code",
   "execution_count": null,
   "metadata": {},
   "outputs": [],
   "source": [
    "# print(tmp2)"
   ]
  },
  {
   "cell_type": "code",
   "execution_count": null,
   "metadata": {},
   "outputs": [],
   "source": [
    "from lsst.rapid.analysis import BestEffortIsr\n",
    "bestEffort = BestEffortIsr(datapath)\n",
    "bestEffort.writePostIsrImages = False  # Don't write to butler database"
   ]
  },
  {
   "cell_type": "code",
   "execution_count": null,
   "metadata": {},
   "outputs": [],
   "source": []
  },
  {
   "cell_type": "code",
   "execution_count": null,
   "metadata": {},
   "outputs": [],
   "source": [
    "exp = bestEffort.getExposure(dataId, skipCosmics=True)"
   ]
  },
  {
   "cell_type": "code",
   "execution_count": null,
   "metadata": {},
   "outputs": [],
   "source": [
    "if True: # display the image in firefly\n",
    "    #plt.close('all')\n",
    "    #disp = afwDisplay.Display(2, reopenPlot=True)\n",
    "    disp.setMaskPlaneColor('SAT', afwDisplay.IGNORE)\n",
    "    disp.setImageColormap('gray')\n",
    "    disp.scale('linear', 'zscale')\n",
    "    disp.mtv(exp, title='dayobs = {}, seqNum = {}'.format(dayObs,seqNum))\n",
    "    #cgUtils.overlayCcdBoxes(isr_corr_exposure.getDetector(), isTrimmed=True, display=disp)"
   ]
  },
  {
   "cell_type": "code",
   "execution_count": null,
   "metadata": {},
   "outputs": [],
   "source": []
  }
 ],
 "metadata": {
  "kernelspec": {
   "display_name": "LSST",
   "language": "python",
   "name": "lsst"
  },
  "language_info": {
   "codemirror_mode": {
    "name": "ipython",
    "version": 3
   },
   "file_extension": ".py",
   "mimetype": "text/x-python",
   "name": "python",
   "nbconvert_exporter": "python",
   "pygments_lexer": "ipython3",
   "version": "3.8.12"
  }
 },
 "nbformat": 4,
 "nbformat_minor": 4
}
