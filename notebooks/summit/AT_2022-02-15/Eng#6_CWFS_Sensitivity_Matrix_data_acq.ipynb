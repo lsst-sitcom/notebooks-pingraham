{
 "cells": [
  {
   "cell_type": "markdown",
   "id": "7a9268cb-1d74-4d83-be25-b9c4f5a2311e",
   "metadata": {},
   "source": [
    "## Induce hexapod translations and take CWFS datasets (without correcting) \n",
    "\n",
    "Test requires low turbulence (good seeing) ideally."
   ]
  },
  {
   "cell_type": "code",
   "execution_count": null,
   "id": "62812334-f3ff-4dfc-9c45-6ac34cb7cb11",
   "metadata": {
    "tags": []
   },
   "outputs": [],
   "source": [
    "import sys\n",
    "import asyncio\n",
    "import time\n",
    "import os\n",
    "\n",
    "import numpy as np\n",
    "import logging \n",
    "import yaml\n",
    "import matplotlib.pyplot as plt\n",
    "import astropy\n",
    "\n",
    "from lsst.ts import salobj\n",
    "from lsst.ts.externalscripts.auxtel.latiss_cwfs_align import LatissCWFSAlign\n",
    "from lsst.ts.observatory.control.utils import RotType\n",
    "\n",
    "from lsst.ts.idl.enums.Script import ScriptState\n",
    "\n",
    "from lsst.ts.observing.utilities.decorated_logger import DecoratedLogger"
   ]
  },
  {
   "cell_type": "code",
   "execution_count": null,
   "id": "a24e635c-4740-441c-a32f-5db68e7ed6d9",
   "metadata": {},
   "outputs": [],
   "source": [
    "logger = DecoratedLogger.get_decorated_logger()\n",
    "logger.level = logging.DEBUG"
   ]
  },
  {
   "cell_type": "code",
   "execution_count": null,
   "id": "639b9d09-4797-4efa-acd4-d8bc692c691d",
   "metadata": {},
   "outputs": [],
   "source": []
  },
  {
   "cell_type": "markdown",
   "id": "4563ed73-e47f-48cb-9448-aeb5b3b786b2",
   "metadata": {},
   "source": [
    "## Instantiate the CWFS Script\n",
    "\n",
    "First derive and index for the script that is specific to your user"
   ]
  },
  {
   "cell_type": "code",
   "execution_count": null,
   "id": "228aa3e8-0de8-40f4-96ef-095de4dc4bb7",
   "metadata": {},
   "outputs": [],
   "source": [
    "logger.info(f'Your UID is {os.getuid()}')\n",
    "index=os.getuid()*10+np.random.randint(0,9)\n",
    "logger.info(f'The generated index is {index}')"
   ]
  },
  {
   "cell_type": "markdown",
   "id": "2166b7e3-b975-4034-8b93-9edacf540c1f",
   "metadata": {},
   "source": [
    "Instantiate the script then start all remotes"
   ]
  },
  {
   "cell_type": "code",
   "execution_count": null,
   "id": "c4c0ef88-071b-4660-9a73-9e5f19146a6c",
   "metadata": {
    "tags": []
   },
   "outputs": [],
   "source": [
    "script = LatissCWFSAlign(index=index, remotes=True)  # this essentially calls the init method\n",
    "await script.start_task"
   ]
  },
  {
   "cell_type": "markdown",
   "id": "3fd58de0-bf97-49e5-b07f-8f5aad356059",
   "metadata": {},
   "source": [
    "Set the script to have a DEBUG log level"
   ]
  },
  {
   "cell_type": "code",
   "execution_count": null,
   "id": "a6b6138c-6d60-440f-baf9-e45d4b275733",
   "metadata": {},
   "outputs": [],
   "source": [
    "script.log.level = logging.DEBUG"
   ]
  },
  {
   "cell_type": "markdown",
   "id": "828e62e5-ea61-45b5-827d-5bf58c5c1f30",
   "metadata": {},
   "source": [
    "## Slew to a target to focus the telescope\n",
    "This is not part of the actual script but seems to come in handy, so the code is here in the notebook for convenience"
   ]
  },
  {
   "cell_type": "markdown",
   "id": "b3cbdb0c-d808-4c90-bbaa-775b38950ac0",
   "metadata": {},
   "source": [
    "Print the available instrument filter and gratings. <br>\n",
    "This is useful both for slewing and for the configuration steps below"
   ]
  },
  {
   "cell_type": "code",
   "execution_count": null,
   "id": "36b94a39-c0e0-451e-860e-e620da90fe96",
   "metadata": {},
   "outputs": [],
   "source": [
    "inst_setup = await script.latiss.get_available_instrument_setup()\n",
    "logger.info(f'filters are: {inst_setup[0]},\\n gratings are: {inst_setup[1]}')"
   ]
  },
  {
   "cell_type": "markdown",
   "id": "9d8363c7-616e-4062-a108-3feb635e8bbe",
   "metadata": {},
   "source": [
    "### Set filter"
   ]
  },
  {
   "cell_type": "code",
   "execution_count": null,
   "id": "9f97ba14-8657-4518-8622-a0535f9535f7",
   "metadata": {},
   "outputs": [],
   "source": [
    "filt='SDSSg'"
   ]
  },
  {
   "cell_type": "markdown",
   "id": "b8994604-d2b0-4e00-aaa0-381071b0b458",
   "metadata": {},
   "source": [
    "### Find/Specify a target based on the Az/El and slew to it"
   ]
  },
  {
   "cell_type": "code",
   "execution_count": null,
   "id": "bf7df566-95b5-4a4f-aada-40d48916c7b3",
   "metadata": {},
   "outputs": [],
   "source": [
    "# Find target\n",
    "target = await script.atcs.find_target(170,74,mag_limit=9.0)"
   ]
  },
  {
   "cell_type": "code",
   "execution_count": null,
   "id": "24a177e1-c28b-4a59-a7ff-b4d29939551d",
   "metadata": {
    "tags": []
   },
   "outputs": [],
   "source": [
    "# or introduce target name here:\n",
    "# target = \"TIC 181887100\"  "
   ]
  },
  {
   "cell_type": "markdown",
   "id": "1215b906-bc73-4505-b6a2-9b0ac97affa9",
   "metadata": {},
   "source": [
    "### Slew to target, setting the rotator to have azimuth along the X-axis (rows), and elevation along the Y-axis (columns)"
   ]
  },
  {
   "cell_type": "code",
   "execution_count": null,
   "id": "e1309e82-e883-4fbe-aa32-01541ceb6629",
   "metadata": {
    "tags": []
   },
   "outputs": [],
   "source": [
    "await script.atcs.slew_object(target, rot_type=RotType.Parallactic, rot=90)"
   ]
  },
  {
   "cell_type": "code",
   "execution_count": null,
   "id": "cb9a3292-4cb4-40bc-9f41-30ab32f66553",
   "metadata": {},
   "outputs": [],
   "source": []
  },
  {
   "cell_type": "markdown",
   "id": "5134d748-edf4-49d4-8fd8-fb48af7c1620",
   "metadata": {},
   "source": [
    "Check that the target is in the field"
   ]
  },
  {
   "cell_type": "code",
   "execution_count": null,
   "id": "854eb37a-10b2-4cf3-b940-e7ae64041182",
   "metadata": {
    "tags": []
   },
   "outputs": [],
   "source": [
    "test_image = await script.latiss.take_engtest(exptime=15, n=1, filter=filt, grating='empty_1')\n",
    "print ('Check saturation test_image = ' + str(test_image))"
   ]
  },
  {
   "cell_type": "markdown",
   "id": "08fd9547-e5f2-45d5-83c0-eef72d302c02",
   "metadata": {},
   "source": [
    "### Offset the telescope, set to zero if not required\n",
    "Offsets are in detector X/Y coordinates and in arcseconds"
   ]
  },
  {
   "cell_type": "code",
   "execution_count": null,
   "id": "3f897d1f-ae5d-48a9-a3f0-64fe2c466e1d",
   "metadata": {},
   "outputs": [],
   "source": [
    "xoffset=0; yoffset=0\n",
    "await script.atcs.offset_xy(x=xoffset, y=yoffset)"
   ]
  },
  {
   "cell_type": "markdown",
   "id": "35998912-29ee-40b3-a542-f4a187bebaa8",
   "metadata": {},
   "source": [
    "## Collimate and Focus the Telescope"
   ]
  },
  {
   "cell_type": "markdown",
   "id": "89680e8c-5049-4221-b306-c0840c6af9cf",
   "metadata": {},
   "source": [
    "## Configure the script"
   ]
  },
  {
   "cell_type": "code",
   "execution_count": null,
   "id": "685ded5a-309d-40ad-bbbf-967e2bf5073c",
   "metadata": {},
   "outputs": [],
   "source": [
    "configuration = yaml.safe_dump({\"filter\": filt, \n",
    "                                \"grating\": 'empty_1',\n",
    "                                \"exposure_time\": 20,})"
   ]
  },
  {
   "cell_type": "markdown",
   "id": "27f91621-e550-4e9a-92a7-85c53895b097",
   "metadata": {},
   "source": [
    "Set script state to UNCONFIGURED. <br>\n",
    "The next line is not required the first time the script is run, however, in each additional instance the cell is run, an error will be thrown if it is not included. <br>\n",
    "Therefore, it is included here despite being a non-operation in the first instance."
   ]
  },
  {
   "cell_type": "code",
   "execution_count": null,
   "id": "da78aa8f-b6d5-4bd8-a893-b9c7fdec1ee2",
   "metadata": {},
   "outputs": [],
   "source": [
    "script.set_state(ScriptState.UNCONFIGURED)"
   ]
  },
  {
   "cell_type": "markdown",
   "id": "f2909406-3cac-4ac4-9f7d-7f1b4c3cf9c1",
   "metadata": {},
   "source": [
    "## Put the ScriptState to CONFIGURED"
   ]
  },
  {
   "cell_type": "code",
   "execution_count": null,
   "id": "5df55676-d0df-473f-8647-abc497e89662",
   "metadata": {},
   "outputs": [],
   "source": [
    "config_data = script.cmd_configure.DataType()\n",
    "config_data.config = configuration\n",
    "await script.do_configure(config_data)"
   ]
  },
  {
   "cell_type": "markdown",
   "id": "7f91a51d-9b18-4dff-8e26-9c8c3611f45a",
   "metadata": {},
   "source": [
    "Set these script parameters to None to verify a re-reduction does not happen of the images"
   ]
  },
  {
   "cell_type": "code",
   "execution_count": null,
   "id": "c185b30a-2aee-49b3-8452-2f8f64f44cc6",
   "metadata": {},
   "outputs": [],
   "source": [
    "script.intra_visit_id = None\n",
    "script.extra_visit_id = None\n",
    "script.short_timeout = 10"
   ]
  },
  {
   "cell_type": "markdown",
   "id": "6b313454-8402-4b4e-a446-9ca06782bbd0",
   "metadata": {},
   "source": [
    "## Set groupID and launch the script\n",
    "This sets the same group ID for all exposures taken in the script"
   ]
  },
  {
   "cell_type": "code",
   "execution_count": null,
   "id": "ecc77abf-62b8-4bb7-a14b-78b574b1ab7d",
   "metadata": {},
   "outputs": [],
   "source": [
    "group_id_data = script.cmd_setGroupId.DataType(\n",
    "                groupId=astropy.time.Time.now().isot\n",
    "            )\n",
    "await script.do_setGroupId(group_id_data)\n",
    "await script.arun()"
   ]
  },
  {
   "cell_type": "markdown",
   "id": "8c53a920-7dcf-42e8-a630-d598e6528be8",
   "metadata": {},
   "source": [
    "## Telescope is now collimated and in focus"
   ]
  },
  {
   "cell_type": "markdown",
   "id": "78a17293-98e6-41cf-bc70-863c16e21577",
   "metadata": {},
   "source": [
    "### Grab focus offsets incase we need to come back into focus"
   ]
  },
  {
   "cell_type": "code",
   "execution_count": null,
   "id": "1474b2a8-59ff-46f2-b634-42b4a028d63a",
   "metadata": {
    "tags": []
   },
   "outputs": [],
   "source": [
    "original_focus_offset = await script.atcs.rem.ataos.evt_focusOffsetSummary.aget()\n",
    "print(original_focus_offset)"
   ]
  },
  {
   "cell_type": "markdown",
   "id": "42ae61d9-d49f-4910-a8a9-66b55e75c8e4",
   "metadata": {},
   "source": [
    "### Also grab the hexapod offsets - especially the x/y values"
   ]
  },
  {
   "cell_type": "code",
   "execution_count": null,
   "id": "dbf6e3cc-0fe4-441c-8916-c76d404fb9e3",
   "metadata": {},
   "outputs": [],
   "source": [
    "original_hexapod_offset = await script.atcs.rem.ataos.evt_correctionOffsets.aget()\n",
    "print(original_hexapod_offset)"
   ]
  },
  {
   "cell_type": "code",
   "execution_count": null,
   "id": "419811e0-e7eb-4279-a492-733a161b3904",
   "metadata": {},
   "outputs": [],
   "source": []
  },
  {
   "cell_type": "markdown",
   "id": "6c83f9ab-555c-4ac5-a3bd-f0e210cfb69d",
   "metadata": {
    "tags": []
   },
   "source": [
    "\n",
    "# Run loop over hexapod translations of the secondary mirror"
   ]
  },
  {
   "cell_type": "markdown",
   "id": "76670ddf-ba4e-4eff-8ee2-aa9b86baffac",
   "metadata": {
    "tags": []
   },
   "source": [
    "### Take a test image if desired"
   ]
  },
  {
   "cell_type": "code",
   "execution_count": null,
   "id": "961510fc-d412-4b02-84db-d6192a5e3afa",
   "metadata": {},
   "outputs": [],
   "source": [
    "# await script.latiss.take_engtest(exptime=2, n=1, filter=filt,grating='empty_1')"
   ]
  },
  {
   "cell_type": "markdown",
   "id": "b467ab5a-f39f-4a25-8d01-f1c9851d3b5c",
   "metadata": {},
   "source": [
    "## x-y secondary offset grid\n",
    "The telescope will offset to compensate for the hexapod offsets so the image stays centered in the detector. "
   ]
  },
  {
   "cell_type": "code",
   "execution_count": null,
   "id": "3af2dbb8-7264-4fc1-94ed-7ba2e88d90ff",
   "metadata": {},
   "outputs": [],
   "source": [
    "# Define here the number of images and exposure times!!\n",
    "n_of_pairs = 2"
   ]
  },
  {
   "cell_type": "code",
   "execution_count": null,
   "id": "bc41c056-8e72-4ed4-9c2b-920c8414581a",
   "metadata": {},
   "outputs": [],
   "source": [
    "hexapod_offset_scale = [\n",
    "    [52.459, 0.0, 0.0],\n",
    "    [0.0, 50.468, 0.0],\n",
    "    [0.0, 0.0, 0.0],\n",
    "]"
   ]
  },
  {
   "cell_type": "code",
   "execution_count": null,
   "id": "4d37a2f6-e92b-4a1e-82ac-7867888e6df5",
   "metadata": {},
   "outputs": [],
   "source": [
    "axes = ['x','y','both', 'both different signs']\n",
    "axes = ['x']\n",
    "# offsets = [2.0, 1.0, 0.25, -0.25, -1.0, -2.0]\n",
    "step=0.15\n",
    "offsets=np.arange(-2*step, 2.1*step, 0.15) # the 0.1 is so the endpoint is included\n",
    "print(offsets)"
   ]
  },
  {
   "cell_type": "code",
   "execution_count": null,
   "id": "03e34dad-3455-425d-8748-4d9a790707ba",
   "metadata": {},
   "outputs": [],
   "source": [
    "# Increase to 8 due to mount issues\n",
    "script.atcs.tel_settle_time=3"
   ]
  },
  {
   "cell_type": "code",
   "execution_count": null,
   "id": "d8073983-90ed-4f96-932b-f0bb5a5fc409",
   "metadata": {},
   "outputs": [],
   "source": [
    "# First grab the current offsets\n",
    "current_hexapod_offset = await script.atcs.rem.ataos.evt_correctionOffsets.aget()\n",
    "original_ptg_offsets = await script.atcs.rem.atptg.evt_offsetSummary.aget()\n",
    "\n",
    "for axis in axes:\n",
    "    for offset in offsets:\n",
    "        script.log.debug(f'axis is {axis}, offset is {offset}')\n",
    "        # Assign hexapod offsets as an array\n",
    "        if axis == 'x':\n",
    "            hexapod_offset = [original_hexapod_offset.x-current_hexapod_offset.x+offset,\n",
    "                              0,\n",
    "                              0]        \n",
    "        elif axis == 'y':\n",
    "            hexapod_offset = [0,\n",
    "                              original_hexapod_offset.y-current_hexapod_offset.y+offset,\n",
    "                              0]\n",
    "        elif axis == 'both': \n",
    "            hexapod_offset = [original_hexapod_offset.x-current_hexapod_offset.x+offset,\n",
    "                              original_hexapod_offset.y-current_hexapod_offset.y+offset,\n",
    "                              0]\n",
    "        elif axis == 'both different signs':\n",
    "            hexapod_offset = [original_hexapod_offset.x-current_hexapod_offset.x+offset,\n",
    "                              -(original_hexapod_offset.y-current_hexapod_offset.y+offset),\n",
    "                              0]\n",
    "        else:\n",
    "            raise RuntimeError(f'Specified axis [{axis}] is invalid')\n",
    "        \n",
    "        # Apply the pointing offset\n",
    "        await script.atcs.rem.ataos.cmd_offset.set_start(x=hexapod_offset[0], y=hexapod_offset[1])\n",
    "\n",
    "        script.log.debug(f'Hexapod offsets from the current position to the target are: {hexapod_offset} [mm]')\n",
    "\n",
    "       \n",
    "        # Calculating telescope az and elevation offsets to keep image centered.         \n",
    "        tel_offset = np.matmul(hexapod_offset, hexapod_offset_scale) \n",
    "\n",
    "        script.log.debug(f'Telescope will be offset {tel_offset[1]} arcsec in azimuth ' \n",
    "              f'and {tel_offset[0]} arcsec in elevation relative to the'\n",
    "               'starting position.')\n",
    "        await script.atcs.offset_azel(az=tel_offset[1], el=tel_offset[0],\n",
    "                                      relative=True, persistent=False)\n",
    "\n",
    "        # Take a cwfs pair\n",
    "        script.log.debug(f'Taking a CWFS pair')\n",
    "        await script.take_intra_extra()\n",
    "        \n",
    "# Send hexapod to original position\n",
    "script.log.info('CWFS_SENS_TEST:Loop Completed Sending hexapod to original position and send back to the original offsets')\n",
    "await script.atcs.offset_xy(xoffset, yoffset)\n",
    "await script.atcs.rem.ataos.cmd_offset.set_start(x=original_hexapod_offset.x-current_hexapod_offset.x,\n",
    "                                                 y=original_hexapod_offset.y-current_hexapod_offset.y)"
   ]
  },
  {
   "cell_type": "code",
   "execution_count": null,
   "id": "c40b8118-e33e-497c-bb2f-11fba7eea493",
   "metadata": {},
   "outputs": [],
   "source": []
  }
 ],
 "metadata": {
  "kernelspec": {
   "display_name": "LSST",
   "language": "python",
   "name": "lsst"
  },
  "language_info": {
   "codemirror_mode": {
    "name": "ipython",
    "version": 3
   },
   "file_extension": ".py",
   "mimetype": "text/x-python",
   "name": "python",
   "nbconvert_exporter": "python",
   "pygments_lexer": "ipython3",
   "version": "3.8.13"
  },
  "toc-autonumbering": false,
  "toc-showmarkdowntxt": false
 },
 "nbformat": 4,
 "nbformat_minor": 5
}
