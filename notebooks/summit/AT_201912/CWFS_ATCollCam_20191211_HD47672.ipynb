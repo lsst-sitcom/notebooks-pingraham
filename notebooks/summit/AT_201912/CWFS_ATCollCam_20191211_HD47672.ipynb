{
 "cells": [
  {
   "cell_type": "markdown",
   "metadata": {},
   "source": [
    "### Notebook used to to measure collimation of the telescope using ATCollCam using the CWFS algorithm/package developed by Bo Xin.\n",
    "\n",
    "#### Now using fork by David Thomas: https://github.com/davidthomas5412/cwfs \n",
    "\n",
    "#### This requires that the parameter file for the CWFS algorithm be placed in the cwfs directory structure. "
   ]
  },
  {
   "cell_type": "code",
   "execution_count": 1,
   "metadata": {},
   "outputs": [],
   "source": [
    "import numpy as np\n",
    "#from lsst.ts import salobj\n",
    "import asyncio\n",
    "from astropy.io import fits\n",
    "\n",
    "import warnings\n",
    "#import matplotlib.pyplot as plt  # imported as py above\n",
    "from astropy.modeling import models, fitting\n",
    "from scipy.ndimage.filters import gaussian_filter\n",
    "from scipy import ndimage\n",
    "from scipy.signal import medfilt\n",
    "from matplotlib import pyplot as plt\n",
    "#%matplotlib ipympl\n",
    "plt.rcParams['figure.figsize'] = [7, 6]\n",
    "\n",
    "\n",
    "import matplotlib.pyplot as plt\n",
    "%matplotlib inline\n",
    "import time\n",
    "\n",
    "import os\n",
    "import copy\n",
    "from pathlib import Path\n",
    "\n",
    "import logging\n",
    "logging.basicConfig(level=logging.INFO,\n",
    "                    format='%(asctime)s %(name)-12s %(levelname)-8s %(message)s')\n",
    "logger = logging.getLogger('image_display_notebook')\n"
   ]
  },
  {
   "cell_type": "code",
   "execution_count": 2,
   "metadata": {},
   "outputs": [],
   "source": [
    "#Import CWFS package\n",
    "from lsst import cwfs\n",
    "from lsst.cwfs.instrument import Instrument\n",
    "from lsst.cwfs.algorithm import Algorithm\n",
    "from lsst.cwfs.image import Image, readFile, aperture2image, showProjection\n",
    "import lsst.cwfs.plots as plots"
   ]
  },
  {
   "cell_type": "code",
   "execution_count": null,
   "metadata": {},
   "outputs": [],
   "source": []
  },
  {
   "cell_type": "code",
   "execution_count": 3,
   "metadata": {},
   "outputs": [],
   "source": [
    "import numpy as np\n",
    "import logging\n",
    "logger = logging.getLogger('calc_CofM_logger')\n",
    "\n",
    "# declare Centroiding algorithm\n",
    "def calc_CofM(array, offset=(0,0)):\n",
    "    # Function takes a a 2d Array and computes the CofM\n",
    "    \n",
    "    # offset is the coordinate of the minimum y and x pixel\n",
    "    \n",
    "    \n",
    "    #just make it easier to parse the code below\n",
    "    shape=array.shape\n",
    "        \n",
    "    # Build 2d index arrays for calculations\n",
    "    pix_index_1d_arr=np.arange(0, shape[0], 1)+ offset[0]\n",
    "    ones_array_2d=np.ones([shape[1], shape[0]])\n",
    "    y_index_arr_2d=np.transpose(pix_index_1d_arr*ones_array_2d)\n",
    "    \n",
    "    # Can't just use the transpose of the y_index_arr_2d\n",
    "    # since we're supporting non-symmetrical arrays\n",
    "    pix_index_1d_arr=np.arange(0, shape[1], 1) + offset[1]\n",
    "    ones_array_2d=np.ones([shape[0], shape[1]])\n",
    "    # array will be left to right so need to transpose\n",
    "    x_index_arr_2d=pix_index_1d_arr*ones_array_2d\n",
    "\n",
    "    # Calculate the centroid\n",
    "    y_CofM = np.sum(y_index_arr_2d*array)/np.sum(array)\n",
    "    x_CofM = np.sum(x_index_arr_2d*array)/np.sum(array)\n",
    "    \n",
    "    logger.info('y_CofM is {}'.format(y_CofM))\n",
    "    logger.info('x_CofM is {}'.format(x_CofM))\n",
    "\n",
    "    return(y_CofM, x_CofM)"
   ]
  },
  {
   "cell_type": "code",
   "execution_count": 4,
   "metadata": {},
   "outputs": [],
   "source": [
    "# This is just used to test the CofM algorithm.\n",
    "def make_circle(yxdims, radius, center=None):\n",
    "    \n",
    "    #Creates a circle where the internal pixels equal 1 and the rest are zero\n",
    "    \n",
    "    #dims is y,x dimensions\n",
    "    \n",
    "    # If center isn't declared then put it at the center of the box\n",
    "    if center==None:\n",
    "        center=(yxdims[0]/2, yxdims[1]/2)\n",
    "    \n",
    "    # Build 2d index arrays for calculations\n",
    "    pix_index_1d_arr=np.arange(0, yxdims[1] , 1) - center[1]\n",
    "    ones_array_2d=np.ones((yxdims[0], yxdims[1]))\n",
    "    x_index_arr_2d=pix_index_1d_arr*ones_array_2d\n",
    "    \n",
    "    # Can't just transpose x-indice array since we're supporting non-symmetrical arrays\n",
    "    pix_index_1d_arr=np.arange(0, yxdims[0], 1) - center[0]\n",
    "    ones_array_2d=np.ones((yxdims[1],yxdims[0]))\n",
    "    # array will be left to right so need to transpose\n",
    "    y_index_arr_2d=np.transpose(pix_index_1d_arr*ones_array_2d)\n",
    "    \n",
    "    # creates an array with a given side, and a circle of radius x and position xy\n",
    "    r_arr= np.sqrt(y_index_arr_2d**2 + x_index_arr_2d**2)\n",
    "    \n",
    "    arr=np.zeros((yxdims[0],yxdims[1]) ,dtype=float)\n",
    "    \n",
    "    arr[r_arr < radius] = 1\n",
    "    return(arr)"
   ]
  },
  {
   "cell_type": "code",
   "execution_count": 5,
   "metadata": {},
   "outputs": [],
   "source": [
    "# Testing the CofM code\n",
    "if False:\n",
    "    center=(1400,750)\n",
    "    stamp=make_circle((2500,1400), 100, center=center)\n",
    "\n",
    "    calc_CofM(stamp)\n",
    "\n",
    "    # Now try with subimage and reference to corner\n",
    "    side=300\n",
    "    guess_center = np.array((1550, 610))\n",
    "    stamp2= stamp[guess_center[0]-side:guess_center[0]+side, \n",
    "                  guess_center[1]-side:guess_center[1]+side].copy()\n",
    "    calc_CofM(stamp2, offset=(guess_center-side))\n",
    "\n",
    "    if False:\n",
    "        fig, ax = plt.subplots(figsize=(7,6))\n",
    "        ax.imshow(stamp, interpolation='none')\n",
    "        stamp.shape\n",
    "\n",
    "        fig2, ax2 = plt.subplots(figsize=(7,6))\n",
    "        ax2.imshow(stamp2, interpolation='none')\n",
    "        stamp2.shape"
   ]
  },
  {
   "cell_type": "code",
   "execution_count": null,
   "metadata": {},
   "outputs": [],
   "source": []
  },
  {
   "cell_type": "code",
   "execution_count": 6,
   "metadata": {},
   "outputs": [],
   "source": [
    "#Kevin Reil:flag-cl: 11:06 PM\n",
    "#ra = Angle(“22:23:20.27”, unit=u.hour)\n",
    "#dec = Angle(“-45:43:56.6\", unit=u.deg)\n",
    "#target_name=“faint 9.7 Grus”\n",
    "#radec = ICRS(ra, dec)"
   ]
  },
  {
   "cell_type": "code",
   "execution_count": null,
   "metadata": {},
   "outputs": [],
   "source": []
  },
  {
   "cell_type": "code",
   "execution_count": 7,
   "metadata": {},
   "outputs": [],
   "source": [
    "from lsst.ts import salobj\n",
    "import wget"
   ]
  },
  {
   "cell_type": "code",
   "execution_count": 8,
   "metadata": {},
   "outputs": [
    {
     "name": "stderr",
     "output_type": "stream",
     "text": [
      "2019-12-14 02:10:35,809 ATHexapod    INFO     Read historical data in 7.23 sec\n",
      "2019-12-14 02:10:36,451 GenericCamera INFO     Read historical data in 7.88 sec\n"
     ]
    }
   ],
   "source": [
    "d = salobj.Domain()\n",
    "gencam = salobj.Remote(d, 'GenericCamera', index=1)\n",
    "athexapod = salobj.Remote(d, 'ATHexapod')\n",
    "await gencam.start_task\n",
    "await athexapod.start_task"
   ]
  },
  {
   "cell_type": "code",
   "execution_count": 9,
   "metadata": {},
   "outputs": [
    {
     "data": {
      "text/plain": [
       "True"
      ]
     },
     "execution_count": 9,
     "metadata": {},
     "output_type": "execute_result"
    }
   ],
   "source": [
    "gencam.cmd_setLogLevel.set(level=logging.DEBUG)\n",
    "athexapod.cmd_setLogLevel.set(level=logging.DEBUG)"
   ]
  },
  {
   "cell_type": "code",
   "execution_count": 10,
   "metadata": {},
   "outputs": [
    {
     "name": "stdout",
     "output_type": "stream",
     "text": [
      "State.ENABLED\n",
      "State.ENABLED\n"
     ]
    }
   ],
   "source": [
    "# Get summary state\n",
    "print(salobj.State(gencam.evt_summaryState.get().summaryState))\n",
    "print(salobj.State(athexapod.evt_summaryState.get().summaryState))"
   ]
  },
  {
   "cell_type": "code",
   "execution_count": 11,
   "metadata": {},
   "outputs": [],
   "source": [
    "# Declare where data is located and where output will be written, notably the stacked images\n",
    "data_folder = Path(\"/home/saluser/develop/ts_notebooks/pingraham/summit_notebooks/AT_201912\")\n",
    "output_folder = Path(\"/home/saluser/data/output\")"
   ]
  },
  {
   "cell_type": "code",
   "execution_count": 119,
   "metadata": {},
   "outputs": [
    {
     "name": "stdout",
     "output_type": "stream",
     "text": [
      "Hexapod position: \n",
      " x= -4.30000146914, \n",
      " y= 1.29995860508, \n",
      " z= 0.550000800782, \n",
      " U= 0.350985979227, \n",
      " V= 0.220008612889\n"
     ]
    }
   ],
   "source": [
    "# Print Hexapod Current position (given by last successful command)\n",
    "curr_hex_pos = await athexapod.evt_positionUpdate.aget(timeout=10)\n",
    "print('Hexapod position: \\n x= {}, \\n y= {}, \\n z= {}, \\n U= {}, \\n V= {}'\n",
    "      .format(curr_hex_pos.positionX, curr_hex_pos.positionY, curr_hex_pos.positionZ, curr_hex_pos.positionU, curr_hex_pos.positionV))"
   ]
  },
  {
   "cell_type": "code",
   "execution_count": 120,
   "metadata": {},
   "outputs": [
    {
     "name": "stderr",
     "output_type": "stream",
     "text": [
      "2019-12-12 05:29:41,246 ATHexapod    WARNING  RemoteTelemetry(ATHexapod, 0, positionStatus) falling behind; read 100 messages\n",
      "2019-12-12 05:29:41,349 GenericCamera WARNING  RemoteEvent(GenericCamera, 1, heartbeat) falling behind; read 100 messages\n",
      "2019-12-12 05:29:41,477 ATHexapod    WARNING  RemoteEvent(ATHexapod, 0, heartbeat) falling behind; read 100 messages\n"
     ]
    },
    {
     "name": "stdout",
     "output_type": "stream",
     "text": [
      "[-4.29999740658, 1.29995789561, 0.0500007777799, 0.350989110836, 0.220005609658, -2.38706988022e-06]\n"
     ]
    }
   ],
   "source": [
    "# Get current position by telemetry\n",
    "# which is a list in X,Y,Z,U,V,Rot\n",
    "await asyncio.sleep(1)\n",
    "curr_hex__pos_telem = await athexapod.tel_positionStatus.next(flush = True, timeout=10)\n",
    "print(tmp.reportedPosition)"
   ]
  },
  {
   "cell_type": "code",
   "execution_count": null,
   "metadata": {},
   "outputs": [],
   "source": []
  },
  {
   "cell_type": "code",
   "execution_count": null,
   "metadata": {},
   "outputs": [],
   "source": [
    "# Move hexapod to desired starting position (in-focus) for acquisition in intra/extra focal images\n",
    "# Note that minimal motions in X,Y,Z are ~0.3um (0.0003mm), so go to 4 decimal places\n",
    "# minimal motions in U,V are ~3.5micro rads (0.0002 degrees), so go to 4 decimal places\n",
    "# Rotation is not used\n",
    "hex_X, hex_Y, hex_Z, hex_U, hex_V, hex_R = [-4.3000, 1.3000, 0.055, 0.3500, 0.2200, 0.00]\n",
    "\n",
    "await athexapod.cmd_moveToPosition.set_start(x=hex_X, y=hex_Y,\n",
    "                                             z=hex_Z, u=hex_U, v=hex_V)"
   ]
  },
  {
   "cell_type": "markdown",
   "metadata": {},
   "source": [
    "## Get Intrafocal image"
   ]
  },
  {
   "cell_type": "code",
   "execution_count": 113,
   "metadata": {},
   "outputs": [
    {
     "data": {
      "text/plain": [
       "<lsst.ts.salobj.ddsutil.ATHexapod_ackcmd_32454a1f at 0x7fcf95c709e8>"
      ]
     },
     "execution_count": 113,
     "metadata": {},
     "output_type": "execute_result"
    }
   ],
   "source": [
    "# Intrafocal hexapod setting - offsets -0.5mm from central focus value above\n",
    "dz=0.5\n",
    "\n",
    "await athexapod.cmd_moveToPosition.set_start(x=hex_X, y=hex_Y,\n",
    "                                             z=hex_Z-dz, u=hex_U, v=hex_V)"
   ]
  },
  {
   "cell_type": "code",
   "execution_count": 55,
   "metadata": {},
   "outputs": [
    {
     "name": "stdout",
     "output_type": "stream",
     "text": [
      "1576127291-HD40762-0-1\n"
     ]
    }
   ],
   "source": [
    "# r.evt_endReadout.flush()\n",
    "expTime=20.0\n",
    "await gencam.cmd_takeImages.set_start(numImages=1, expTime=expTime, shutter=True, imageSequenceName='HD40762')\n",
    "\n",
    "tmp = await gencam.evt_endReadout.next(flush=False, timeout=1)\n",
    "tmp = gencam.evt_endReadout.get()\n",
    "print(tmp.imageName)"
   ]
  },
  {
   "cell_type": "code",
   "execution_count": 56,
   "metadata": {},
   "outputs": [
    {
     "name": "stdout",
     "output_type": "stream",
     "text": [
      "Grabbed/Wrote intra-focal image 1576127291-HD40762-0-1.fits via wget\n"
     ]
    }
   ],
   "source": [
    "wget_url = 'http://139.229.170.216:8000/data/'+tmp.imageName+'.fits'\n",
    "#print(wget_url)\n",
    "intra_fname = wget.download(wget_url)\n",
    "print('Grabbed/Wrote intra-focal image {} via wget'.format(intra_fname))"
   ]
  },
  {
   "cell_type": "markdown",
   "metadata": {},
   "source": [
    "## Get Extra-Focal Image"
   ]
  },
  {
   "cell_type": "code",
   "execution_count": 57,
   "metadata": {},
   "outputs": [
    {
     "data": {
      "text/plain": [
       "<lsst.ts.salobj.ddsutil.ATHexapod_ackcmd_32454a1f at 0x7fcf96607c18>"
      ]
     },
     "execution_count": 57,
     "metadata": {},
     "output_type": "execute_result"
    }
   ],
   "source": [
    "# Extrafocal hexapod setting\n",
    "await athexapod.cmd_moveToPosition.set_start(x=hex_X, y=hex_Y,\n",
    "                                             z=hex_Z-dz, u=hex_U, v=hex_V)"
   ]
  },
  {
   "cell_type": "code",
   "execution_count": 76,
   "metadata": {},
   "outputs": [
    {
     "name": "stderr",
     "output_type": "stream",
     "text": [
      "2019-12-12 05:11:08,221 ATHexapod    WARNING  RemoteEvent(ATHexapod, 0, heartbeat) falling behind; read 47 messages\n",
      "2019-12-12 05:11:08,280 GenericCamera WARNING  RemoteEvent(GenericCamera, 1, heartbeat) falling behind; read 46 messages\n",
      "2019-12-12 05:11:08,331 ATHexapod    WARNING  RemoteTelemetry(ATHexapod, 0, positionStatus) falling behind; read 46 messages\n"
     ]
    },
    {
     "name": "stdout",
     "output_type": "stream",
     "text": [
      "1576127468-HD40762-0-1\n"
     ]
    }
   ],
   "source": [
    "# r.evt_endReadout.flush()\n",
    "await gencam.cmd_takeImages.set_start(numImages=1, expTime=expTime, shutter=True, imageSequenceName='HD40762')\n",
    "\n",
    "tmp = await gencam.evt_endReadout.next(flush=False, timeout=1)\n",
    "tmp = gencam.evt_endReadout.get()\n",
    "print(tmp.imageName)"
   ]
  },
  {
   "cell_type": "code",
   "execution_count": 77,
   "metadata": {},
   "outputs": [
    {
     "name": "stdout",
     "output_type": "stream",
     "text": [
      "Grabbed/Wrote extra-focal image 1576127468-HD40762-0-1.fits via wget\n"
     ]
    }
   ],
   "source": [
    "wget_url = 'http://139.229.170.216:8000/data/'+tmp.imageName+'.fits'\n",
    "#print(wget_url)\n",
    "extra_fname = wget.download(wget_url)\n",
    "print('Grabbed/Wrote extra-focal image {} via wget'.format(extra_fname))"
   ]
  },
  {
   "cell_type": "markdown",
   "metadata": {},
   "source": [
    "### Declare data directories and load intra/extra raw files"
   ]
  },
  {
   "cell_type": "code",
   "execution_count": 122,
   "metadata": {},
   "outputs": [],
   "source": [
    "# Declare where data is located and where output will be written\n",
    "data_folder = Path(\"/home/saluser/develop/ts_notebooks/pingraham/summit_notebooks/AT_201912\")\n",
    "output_folder = Path(\"/home/saluser/data/output\")"
   ]
  },
  {
   "cell_type": "code",
   "execution_count": 165,
   "metadata": {},
   "outputs": [
    {
     "name": "stdout",
     "output_type": "stream",
     "text": [
      "1576127291-HD40762-0-1.fits\n",
      "1576127468-HD40762-0-1.fits\n"
     ]
    }
   ],
   "source": [
    "# for testing\n",
    "print(intra_fname)\n",
    "print(extra_fname)"
   ]
  },
  {
   "cell_type": "code",
   "execution_count": 185,
   "metadata": {},
   "outputs": [],
   "source": [
    "# Open fits files, note you can start here if your files exist already\n",
    "\n",
    "intra_fname='1576201793-HD25189-0-1.fits'\n",
    "intra_exp=(fits.open(data_folder / intra_fname))[0].data\n",
    "\n",
    "extra_fname='1576201817-HD25189-0-1.fits'\n",
    "extra_exp=(fits.open(data_folder / extra_fname))[0].data"
   ]
  },
  {
   "cell_type": "code",
   "execution_count": 186,
   "metadata": {},
   "outputs": [
    {
     "data": {
      "text/plain": [
       "<matplotlib.image.AxesImage at 0x7fcf95940748>"
      ]
     },
     "execution_count": 186,
     "metadata": {},
     "output_type": "execute_result"
    },
    {
     "data": {
      "image/png": "[encoded data removed]",
      "text/plain": [
       "<Figure size 432x288 with 1 Axes>"
      ]
     },
     "metadata": {
      "needs_background": "light"
     },
     "output_type": "display_data"
    }
   ],
   "source": [
    "# Show images added together to estimate centroid\n",
    "plt.imshow(intra_exp+extra_exp)"
   ]
  },
  {
   "cell_type": "markdown",
   "metadata": {},
   "source": [
    "### Grab centroid of images"
   ]
  },
  {
   "cell_type": "code",
   "execution_count": 227,
   "metadata": {},
   "outputs": [
    {
     "name": "stdout",
     "output_type": "stream",
     "text": [
      "Creating stamps of centroid [y,x] = [352,466] with a side length of 100 pixels\n"
     ]
    }
   ],
   "source": [
    "# Set to False to declare centroid manually!\n",
    "if True:\n",
    "    im= (intra_exp+extra_exp)\n",
    "    im_filtered = medfilt(im,[3,3])\n",
    "    im_filtered -= int(np.median(im2))\n",
    "    ceny, cenx = np.array(ndimage.measurements.center_of_mass(im2), dtype=int)\n",
    "else:\n",
    "    # Manually declare where the center is\n",
    "    ceny=350 #round(im_shape[0]/2)\n",
    "    cenx=450 # round(im_shape[1]/2)\n",
    "\n",
    "side=100 # side length of image\n",
    "print('Creating stamps of centroid [y,x] = [{},{}] with a side length of {} pixels'.format(ceny,cenx,side))\n",
    "\n",
    "im_shape=intra_exp.shape\n",
    "intra_square = intra_exp[ceny-side:ceny+side, cenx-side:cenx+side] \n",
    "extra_square = extra_exp[ceny-side:ceny+side, cenx-side:cenx+side]"
   ]
  },
  {
   "cell_type": "code",
   "execution_count": null,
   "metadata": {},
   "outputs": [],
   "source": []
  },
  {
   "cell_type": "code",
   "execution_count": 222,
   "metadata": {},
   "outputs": [],
   "source": [
    "#Create object for CWFS code\n",
    "# Select where your object is, but ours will be on-axis\n",
    "fieldXY = [0.0,0.0]\n",
    "\n",
    "# I1/I2 get modified down below, so reset here\n",
    "I1 = None; I2=None\n",
    "I1 = Image(intra_square, fieldXY, Image.INTRA)\n",
    "I2 = Image(extra_square, fieldXY, Image.EXTRA)"
   ]
  },
  {
   "cell_type": "markdown",
   "metadata": {},
   "source": [
    "## Load instrument profile from \"/home/saluser/develop/cwfs/data/auxtel\"\n",
    "### Make sure pixelSize and offset are correct for the dataset! \n",
    "### You *must* modify the file and not the loaded object!!!"
   ]
  },
  {
   "cell_type": "code",
   "execution_count": 228,
   "metadata": {},
   "outputs": [
    {
     "name": "stdout",
     "output_type": "stream",
     "text": [
      "Offset should be :20.5 [mm] at the focus, 0.5 [mm] at the hexapod\n",
      "Offset in file is :20.5 [mm] at the focus\n",
      "pixelSize should be: 1.44e-05\n"
     ]
    }
   ],
   "source": [
    "# Declare instrument\n",
    "inst=Instrument('auxtel',I1.sizeinPix) # example\n",
    "hex_to_focus_scale = 41.0\n",
    "offset=0.5 *hex_to_focus_scale # [mm] multiply hexapod dz by magnification factor\n",
    "pixelsize = 3.6e-6*4 # 4 is the binning\n",
    "# FIXME: put an assertion here and calculate binning above based on change in image size, also pull offset from filename!\n",
    "\n",
    "print('Offset should be :{} [mm] at the focus, {} [mm] at the hexapod'.format(offset, offset/hex_to_focus_scale))\n",
    "print('Offset in file is :{} [mm] at the focus'.format(1e3*inst.offset))\n",
    "print('pixelSize should be: {}'.format(pixelsize))\n",
    "\n",
    "#declare algorithm\n",
    "# declare algorithm - exponential solver.\n",
    "algo=Algorithm('exp',inst,1) # example"
   ]
  },
  {
   "cell_type": "code",
   "execution_count": null,
   "metadata": {},
   "outputs": [],
   "source": []
  },
  {
   "cell_type": "code",
   "execution_count": null,
   "metadata": {},
   "outputs": [],
   "source": [
    "inst"
   ]
  },
  {
   "cell_type": "code",
   "execution_count": 229,
   "metadata": {},
   "outputs": [
    {
     "data": {
      "image/png": "[encoded data removed]",
      "text/plain": [
       "<Figure size 432x288 with 2 Axes>"
      ]
     },
     "metadata": {
      "needs_background": "light"
     },
     "output_type": "display_data"
    },
    {
     "data": {
      "image/png": "[encoded data removed]",
      "text/plain": [
       "<Figure size 432x288 with 2 Axes>"
      ]
     },
     "metadata": {
      "needs_background": "light"
     },
     "output_type": "display_data"
    },
    {
     "name": "stdout",
     "output_type": "stream",
     "text": [
      "Extra-focal filename: 1576201817-HD25189-0-1.fits\n",
      "Intra-focal filename: 1576201793-HD25189-0-1.fits\n"
     ]
    }
   ],
   "source": [
    "# Plot images\n",
    "plots.plotImage(I1.image,'intra') \n",
    "#plots.plotImage(I_focus.image,'focus')\n",
    "plots.plotImage(I2.image,'extra')\n",
    "print('Extra-focal filename: {}'.format(extra_fname))\n",
    "print('Intra-focal filename: {}'.format(intra_fname))"
   ]
  },
  {
   "cell_type": "code",
   "execution_count": 230,
   "metadata": {},
   "outputs": [
    {
     "name": "stdout",
     "output_type": "stream",
     "text": [
      "time to run is 20.109718561172485 seconds\n"
     ]
    }
   ],
   "source": [
    "# Calculate zernikes and wavefront\n",
    "# Note that this will change I1 and I2!\n",
    "# if you ever want to rerun this with different parameters you have to reload I1 and I2!\n",
    "start_time=time.time()\n",
    "algo.runIt(inst,I1,I2,'onAxis')\n",
    "end_time=time.time()\n",
    "print('time to run is {} seconds'.format(end_time-start_time))"
   ]
  },
  {
   "cell_type": "code",
   "execution_count": 231,
   "metadata": {},
   "outputs": [
    {
     "name": "stdout",
     "output_type": "stream",
     "text": [
      "[ 90.90431804  45.30514493 -98.9037288   82.19820419 115.99576651\n",
      " -39.65042213  41.74255851   2.11209796  13.93121497  20.47047847\n",
      " -17.73241499  10.77495517  -9.42619224 -22.06816464   0.34031662\n",
      "  -3.04644227 -11.05861397   2.86972931  -8.18445874]\n"
     ]
    }
   ],
   "source": [
    "#print zernikes\n",
    "print(algo.zer4UpNm)"
   ]
  },
  {
   "cell_type": "code",
   "execution_count": 161,
   "metadata": {},
   "outputs": [
    {
     "data": {
      "image/png": "[encoded data removed]",
      "text/plain": [
       "<Figure size 432x288 with 1 Axes>"
      ]
     },
     "metadata": {
      "needs_background": "light"
     },
     "output_type": "display_data"
    }
   ],
   "source": [
    "# plot the zernikes\n",
    "plots.plotZer(algo.zer4UpNm[0:9],'nm')"
   ]
  },
  {
   "cell_type": "code",
   "execution_count": null,
   "metadata": {},
   "outputs": [],
   "source": [
    "#print zernikes\n",
    "#print(algo.zer4UpNm)"
   ]
  },
  {
   "cell_type": "code",
   "execution_count": null,
   "metadata": {},
   "outputs": [],
   "source": [
    "# plot the zernikes\n",
    "#plots.plotZer(algo.zer4UpNm[0:9],'nm')"
   ]
  },
  {
   "cell_type": "code",
   "execution_count": 41,
   "metadata": {},
   "outputs": [
    {
     "data": {
      "image/png": "[encoded data removed]",
      "text/plain": [
       "<Figure size 432x288 with 2 Axes>"
      ]
     },
     "metadata": {
      "needs_background": "light"
     },
     "output_type": "display_data"
    },
    {
     "data": {
      "image/png": "[encoded data removed]",
      "text/plain": [
       "<Figure size 432x288 with 2 Axes>"
      ]
     },
     "metadata": {
      "needs_background": "light"
     },
     "output_type": "display_data"
    }
   ],
   "source": [
    "# Plot images with masks to check mapping is correct\n",
    "# I think these plot residuals, but I1.image0 plots the original image\n",
    "plots.plotImage(I1.image,'intra', mask=algo.pMask) \n",
    "#plots.plotImage(I_focus.image,'focus')\n",
    "plots.plotImage(I2.image,'extra', mask=algo.pMask)"
   ]
  },
  {
   "cell_type": "code",
   "execution_count": null,
   "metadata": {},
   "outputs": [],
   "source": []
  },
  {
   "cell_type": "code",
   "execution_count": 42,
   "metadata": {},
   "outputs": [
    {
     "data": {
      "image/png": "[encoded data removed]",
      "text/plain": [
       "<Figure size 432x288 with 2 Axes>"
      ]
     },
     "metadata": {
      "needs_background": "light"
     },
     "output_type": "display_data"
    }
   ],
   "source": [
    "plots.plotImage(algo.Wconverge,'Final wavefront')"
   ]
  },
  {
   "cell_type": "code",
   "execution_count": null,
   "metadata": {},
   "outputs": [],
   "source": [
    "#plots.plotImage(algo.Wconverge,'Final wavefront with pupil mask applied', mask=algo.pMask)"
   ]
  },
  {
   "cell_type": "code",
   "execution_count": null,
   "metadata": {},
   "outputs": [],
   "source": []
  },
  {
   "cell_type": "code",
   "execution_count": null,
   "metadata": {},
   "outputs": [],
   "source": [
    "# Look at estimated wavefront and residual of wavefront that is not well fit\n",
    "nanMask = np.ones(I1.image.shape)\n",
    "nanMask[I1.pMask==0] = np.nan\n",
    "fig, ax = plt.subplots(1,2, figsize=[10,4])\n",
    "img = ax[0].imshow(algo.Wconverge*nanMask, origin='lower')\n",
    "ax[0].set_title('Final WF = estimated + residual')\n",
    "fig.colorbar(img, ax=ax[0])\n",
    "img = ax[1].imshow(algo.West*nanMask, origin='lower')\n",
    "ax[1].set_title('residual wavefront')\n",
    "fig.colorbar(img, ax=ax[1])"
   ]
  },
  {
   "cell_type": "code",
   "execution_count": null,
   "metadata": {},
   "outputs": [],
   "source": [
    "# Plot the residuals at each image - ideally they would be a constant\n",
    "fig, ax = plt.subplots(1,2, figsize=[10,4])\n",
    "img = ax[0].imshow(I1.image, origin='lower')\n",
    "ax[0].set_title('Intra residual image')\n",
    "fig.colorbar(img, ax=ax[0])\n",
    "img = ax[1].imshow(I2.image, origin='lower')\n",
    "ax[1].set_title('Extra residual image')\n",
    "fig.colorbar(img, ax=ax[1])"
   ]
  },
  {
   "cell_type": "markdown",
   "metadata": {},
   "source": [
    "#### Now we do the forward raytrace using our wavefront solutions. The code is simply borrowed from existing cwfs code."
   ]
  },
  {
   "cell_type": "markdown",
   "metadata": {},
   "source": [
    "#### We first set up the pupil grid. Oversample means how many ray to trace from each grid point on the pupil."
   ]
  },
  {
   "cell_type": "code",
   "execution_count": null,
   "metadata": {},
   "outputs": [],
   "source": [
    "oversample = 10\n",
    "projSamples = I1.image0.shape[0]*oversample\n",
    "\n",
    "luty, lutx = np.mgrid[\n",
    "        -(projSamples / 2 - 0.5):(projSamples / 2 + 0.5),\n",
    "        -(projSamples / 2 - 0.5):(projSamples / 2 + 0.5)]\n",
    "lutx = lutx / (projSamples / 2 / inst.sensorFactor)\n",
    "luty = luty / (projSamples / 2 / inst.sensorFactor)"
   ]
  },
  {
   "cell_type": "markdown",
   "metadata": {},
   "source": [
    "#### We now trace the rays to the image plane. Lutxp and Lutyp are image coordinates for each (oversampled) ray. showProjection() makes the intensity image. Then, to down sample the image back to original resolution, we want to use the function downResolution() which is defined for the image class."
   ]
  },
  {
   "cell_type": "code",
   "execution_count": null,
   "metadata": {},
   "outputs": [],
   "source": []
  },
  {
   "cell_type": "code",
   "execution_count": null,
   "metadata": {},
   "outputs": [],
   "source": [
    "lutxp, lutyp, J = aperture2image(I1, inst, algo, algo.converge[:,-1], lutx, luty, projSamples, 'paraxial')\n",
    "show_lutxyp = showProjection(lutxp, lutyp, inst.sensorFactor, projSamples, 1)\n",
    "I1fit = Image(show_lutxyp, fieldXY, Image.INTRA)\n",
    "I1fit.downResolution(oversample, I1.image0.shape[0], I1.image0.shape[1])"
   ]
  },
  {
   "cell_type": "markdown",
   "metadata": {},
   "source": [
    "#### Now do the same thing for extra focal image"
   ]
  },
  {
   "cell_type": "code",
   "execution_count": null,
   "metadata": {},
   "outputs": [],
   "source": [
    "luty, lutx = np.mgrid[\n",
    "        -(projSamples / 2 - 0.5):(projSamples / 2 + 0.5),\n",
    "        -(projSamples / 2 - 0.5):(projSamples / 2 + 0.5)]\n",
    "lutx = lutx / (projSamples / 2 / inst.sensorFactor)\n",
    "luty = luty / (projSamples / 2 / inst.sensorFactor)\n",
    "\n",
    "lutxp, lutyp, J = aperture2image(I2, inst, algo, algo.converge[:,-1], lutx, luty, projSamples, 'paraxial')\n",
    "show_lutxyp = showProjection(lutxp, lutyp, inst.sensorFactor, projSamples, 1)\n",
    "I2fit = Image(show_lutxyp, fieldXY, Image.EXTRA)\n",
    "I2fit.downResolution(oversample, I2.image0.shape[0], I2.image0.shape[1])"
   ]
  },
  {
   "cell_type": "code",
   "execution_count": null,
   "metadata": {},
   "outputs": [],
   "source": [
    "#The atmosphere used here is just a random Gaussian smearing. We do not care much about the size at this point\n",
    "from scipy.ndimage import gaussian_filter\n",
    "\n",
    "I1fit.image[np.isnan(I1fit.image)]=0\n",
    "a = gaussian_filter(I1fit.image, sigma=2)\n",
    "\n",
    "fig, ax = plt.subplots(1,3, figsize=[15,4])\n",
    "img = ax[0].imshow(I1fit.image, origin='lower')\n",
    "ax[0].set_title('Forward prediction (no atm) Intra')\n",
    "fig.colorbar(img, ax=ax[0])\n",
    "img = ax[1].imshow(a, origin='lower')\n",
    "ax[1].set_title('Forward prediction (w atm) Intra')\n",
    "fig.colorbar(img, ax=ax[1])\n",
    "\n",
    "img = ax[2].imshow(I1.image0, origin='lower')\n",
    "ax[2].set_title('Real Image, Intra')\n",
    "fig.colorbar(img, ax=ax[2])"
   ]
  },
  {
   "cell_type": "code",
   "execution_count": null,
   "metadata": {},
   "outputs": [],
   "source": [
    "I2fit.image[np.isnan(I2fit.image)]=0\n",
    "b = gaussian_filter(I2fit.image, sigma=2)\n",
    "\n",
    "fig, ax = plt.subplots(1,3, figsize=[15,4])\n",
    "img = ax[0].imshow(I2fit.image, origin='lower')\n",
    "ax[0].set_title('Forward prediction (no atm) Extra')\n",
    "fig.colorbar(img, ax=ax[0])\n",
    "img = ax[1].imshow(b, origin='lower')\n",
    "ax[1].set_title('Forward prediction (w atm) Extra')\n",
    "fig.colorbar(img, ax=ax[1])\n",
    "\n",
    "img = ax[2].imshow(I2.image0, origin='lower')\n",
    "ax[2].set_title('Real Image, Extra')\n",
    "fig.colorbar(img, ax=ax[2])"
   ]
  },
  {
   "cell_type": "code",
   "execution_count": null,
   "metadata": {},
   "outputs": [],
   "source": []
  }
 ],
 "metadata": {
  "kernelspec": {
   "display_name": "Python 3",
   "language": "python",
   "name": "python3"
  },
  "language_info": {
   "codemirror_mode": {
    "name": "ipython",
    "version": 3
   },
   "file_extension": ".py",
   "mimetype": "text/x-python",
   "name": "python",
   "nbconvert_exporter": "python",
   "pygments_lexer": "ipython3",
   "version": "3.7.2"
  }
 },
 "nbformat": 4,
 "nbformat_minor": 4
}
