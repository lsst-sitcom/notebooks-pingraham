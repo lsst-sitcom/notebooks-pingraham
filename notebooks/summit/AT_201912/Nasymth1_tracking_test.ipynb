{
 "cells": [
  {
   "cell_type": "markdown",
   "metadata": {},
   "source": [
    "### This notebook contains an example code showing how to slew to 5 minutes before transit, wait 5 minutes after transit and then slew back to 5 minutes before transit.\n",
    "# This is for daytime testing of the nasmyth rotator AND HAS NOT BEED TESTED"
   ]
  },
  {
   "cell_type": "code",
   "execution_count": 1,
   "metadata": {},
   "outputs": [],
   "source": [
    "import logging\n",
    "import yaml\n",
    "\n",
    "import numpy as np\n",
    "from matplotlib import pyplot as plt\n",
    "import astropy.units as u\n",
    "from astropy.time import Time\n",
    "from astropy.coordinates import AltAz, ICRS, EarthLocation, Angle, FK5\n",
    "import asyncio\n",
    "\n",
    "from lsst.ts import salobj\n",
    "\n",
    "from lsst.ts.idl.enums import ATPtg\n",
    "\n",
    "from astropy.utils import iers\n",
    "iers.conf.auto_download = False"
   ]
  },
  {
   "cell_type": "code",
   "execution_count": 2,
   "metadata": {},
   "outputs": [
    {
     "ename": "RuntimeError",
     "evalue": "Failed to create topic ATDome.abort",
     "output_type": "error",
     "traceback": [
      "\u001b[0;31m\u001b[0m",
      "\u001b[0;31mDDSException\u001b[0mTraceback (most recent call last)",
      "\u001b[0;32m~/repos/ts_salobj/python/lsst/ts/salobj/topics/base_topic.py\u001b[0m in \u001b[0;36m__init__\u001b[0;34m(self, salinfo, name, sal_prefix)\u001b[0m\n\u001b[1;32m     94\u001b[0m             self._topic = self._type.register_topic(salinfo.domain.participant, dds_name,\n\u001b[0;32m---> 95\u001b[0;31m                                                     salinfo.domain.topic_qos)\n\u001b[0m\u001b[1;32m     96\u001b[0m         \u001b[0;32mexcept\u001b[0m \u001b[0mException\u001b[0m \u001b[0;32mas\u001b[0m \u001b[0me\u001b[0m\u001b[0;34m:\u001b[0m\u001b[0;34m\u001b[0m\u001b[0;34m\u001b[0m\u001b[0m\n",
      "\u001b[0;32m~/repos/ts_salobj/python/lsst/ts/salobj/ddsutil.py\u001b[0m in \u001b[0;36mregister_topic\u001b[0;34m(self, dp, name, qos, listener)\u001b[0m\n\u001b[1;32m    123\u001b[0m \u001b[0;34m\u001b[0m\u001b[0m\n\u001b[0;32m--> 124\u001b[0;31m         \u001b[0;32mreturn\u001b[0m \u001b[0mdds\u001b[0m\u001b[0;34m.\u001b[0m\u001b[0mTopic\u001b[0m\u001b[0;34m(\u001b[0m\u001b[0mdp\u001b[0m\u001b[0;34m,\u001b[0m \u001b[0mname\u001b[0m\u001b[0;34m,\u001b[0m \u001b[0mself\u001b[0m\u001b[0;34m.\u001b[0m\u001b[0mtype_support_class\u001b[0m\u001b[0;34m(\u001b[0m\u001b[0;34m)\u001b[0m\u001b[0;34m,\u001b[0m \u001b[0mqos\u001b[0m\u001b[0;34m,\u001b[0m \u001b[0mlistener\u001b[0m\u001b[0;34m)\u001b[0m\u001b[0;34m\u001b[0m\u001b[0;34m\u001b[0m\u001b[0m\n\u001b[0m\u001b[1;32m    125\u001b[0m \u001b[0;34m\u001b[0m\u001b[0m\n",
      "\u001b[0;32mdds.pyx\u001b[0m in \u001b[0;36mdds.Topic.__init__\u001b[0;34m()\u001b[0m\n",
      "\u001b[0;31mDDSException\u001b[0m: Failed to create topic.  Return code: Bad Parameter",
      "\nThe above exception was the direct cause of the following exception:\n",
      "\u001b[0;31mRuntimeError\u001b[0mTraceback (most recent call last)",
      "\u001b[0;32m<ipython-input-2-00c8a4644b80>\u001b[0m in \u001b[0;36masync-def-wrapper\u001b[0;34m()\u001b[0m\n\u001b[1;32m     12\u001b[0m \u001b[0matdomtraj\u001b[0m \u001b[0;34m=\u001b[0m \u001b[0msalobj\u001b[0m\u001b[0;34m.\u001b[0m\u001b[0mRemote\u001b[0m\u001b[0;34m(\u001b[0m\u001b[0md\u001b[0m\u001b[0;34m,\u001b[0m \u001b[0;34m\"ATDomeTrajectory\"\u001b[0m\u001b[0;34m)\u001b[0m\u001b[0;34m\u001b[0m\u001b[0;34m\u001b[0m\u001b[0m\n\u001b[1;32m     13\u001b[0m \u001b[0;34m\u001b[0m\u001b[0m\n\u001b[0;32m---> 14\u001b[0;31m await asyncio.gather(atmcs.start_task,\n\u001b[0m\u001b[1;32m     15\u001b[0m                      \u001b[0matptg\u001b[0m\u001b[0;34m.\u001b[0m\u001b[0mstart_task\u001b[0m\u001b[0;34m,\u001b[0m\u001b[0;34m\u001b[0m\u001b[0;34m\u001b[0m\u001b[0m\n\u001b[1;32m     16\u001b[0m                      \u001b[0mataos\u001b[0m\u001b[0;34m.\u001b[0m\u001b[0mstart_task\u001b[0m\u001b[0;34m,\u001b[0m\u001b[0;34m\u001b[0m\u001b[0;34m\u001b[0m\u001b[0m\n",
      "\u001b[0;32m~/repos/ts_salobj/python/lsst/ts/salobj/remote.py\u001b[0m in \u001b[0;36m__init__\u001b[0;34m(self, domain, name, index, readonly, include, exclude, evt_max_history, tel_max_history, start)\u001b[0m\n\u001b[1;32m    143\u001b[0m             \u001b[0;32mif\u001b[0m \u001b[0;32mnot\u001b[0m \u001b[0mreadonly\u001b[0m\u001b[0;34m:\u001b[0m\u001b[0;34m\u001b[0m\u001b[0;34m\u001b[0m\u001b[0m\n\u001b[1;32m    144\u001b[0m                 \u001b[0;32mfor\u001b[0m \u001b[0mcmd_name\u001b[0m \u001b[0;32min\u001b[0m \u001b[0msalinfo\u001b[0m\u001b[0;34m.\u001b[0m\u001b[0mcommand_names\u001b[0m\u001b[0;34m:\u001b[0m\u001b[0;34m\u001b[0m\u001b[0;34m\u001b[0m\u001b[0m\n\u001b[0;32m--> 145\u001b[0;31m                     \u001b[0mcmd\u001b[0m \u001b[0;34m=\u001b[0m \u001b[0mRemoteCommand\u001b[0m\u001b[0;34m(\u001b[0m\u001b[0msalinfo\u001b[0m\u001b[0;34m,\u001b[0m \u001b[0mcmd_name\u001b[0m\u001b[0;34m)\u001b[0m\u001b[0;34m\u001b[0m\u001b[0;34m\u001b[0m\u001b[0m\n\u001b[0m\u001b[1;32m    146\u001b[0m                     \u001b[0msetattr\u001b[0m\u001b[0;34m(\u001b[0m\u001b[0mself\u001b[0m\u001b[0;34m,\u001b[0m \u001b[0mcmd\u001b[0m\u001b[0;34m.\u001b[0m\u001b[0mattr_name\u001b[0m\u001b[0;34m,\u001b[0m \u001b[0mcmd\u001b[0m\u001b[0;34m)\u001b[0m\u001b[0;34m\u001b[0m\u001b[0;34m\u001b[0m\u001b[0m\n\u001b[1;32m    147\u001b[0m \u001b[0;34m\u001b[0m\u001b[0m\n",
      "\u001b[0;32m~/repos/ts_salobj/python/lsst/ts/salobj/topics/remote_command.py\u001b[0m in \u001b[0;36m__init__\u001b[0;34m(self, salinfo, name)\u001b[0m\n\u001b[1;32m    241\u001b[0m         super().__init__(salinfo=salinfo, name=name, sal_prefix=\"command_\",\n\u001b[1;32m    242\u001b[0m                          \u001b[0mmin_seq_num\u001b[0m\u001b[0;34m=\u001b[0m\u001b[0mmin_seq_num\u001b[0m\u001b[0;34m,\u001b[0m \u001b[0mmax_seq_num\u001b[0m\u001b[0;34m=\u001b[0m\u001b[0mmax_seq_num\u001b[0m\u001b[0;34m,\u001b[0m\u001b[0;34m\u001b[0m\u001b[0;34m\u001b[0m\u001b[0m\n\u001b[0;32m--> 243\u001b[0;31m                          initial_seq_num=initial_seq_num)\n\u001b[0m\u001b[1;32m    244\u001b[0m         \u001b[0mself\u001b[0m\u001b[0;34m.\u001b[0m\u001b[0mlog\u001b[0m \u001b[0;34m=\u001b[0m \u001b[0mlogging\u001b[0m\u001b[0;34m.\u001b[0m\u001b[0mgetLogger\u001b[0m\u001b[0;34m(\u001b[0m\u001b[0;34mf\"{salinfo}.RemoteCommand.{name}\"\u001b[0m\u001b[0;34m)\u001b[0m\u001b[0;34m\u001b[0m\u001b[0;34m\u001b[0m\u001b[0m\n\u001b[1;32m    245\u001b[0m         \u001b[0;31m# dict of seq_num: CommandInfo\u001b[0m\u001b[0;34m\u001b[0m\u001b[0;34m\u001b[0m\u001b[0;34m\u001b[0m\u001b[0m\n",
      "\u001b[0;32m~/repos/ts_salobj/python/lsst/ts/salobj/topics/write_topic.py\u001b[0m in \u001b[0;36m__init__\u001b[0;34m(self, salinfo, name, sal_prefix, min_seq_num, max_seq_num, initial_seq_num)\u001b[0m\n\u001b[1;32m     66\u001b[0m     def __init__(self, *, salinfo, name, sal_prefix, min_seq_num=1, max_seq_num=MAX_SEQ_NUM,\n\u001b[1;32m     67\u001b[0m                  initial_seq_num=None):\n\u001b[0;32m---> 68\u001b[0;31m         \u001b[0msuper\u001b[0m\u001b[0;34m(\u001b[0m\u001b[0;34m)\u001b[0m\u001b[0;34m.\u001b[0m\u001b[0m__init__\u001b[0m\u001b[0;34m(\u001b[0m\u001b[0msalinfo\u001b[0m\u001b[0;34m=\u001b[0m\u001b[0msalinfo\u001b[0m\u001b[0;34m,\u001b[0m \u001b[0mname\u001b[0m\u001b[0;34m=\u001b[0m\u001b[0mname\u001b[0m\u001b[0;34m,\u001b[0m \u001b[0msal_prefix\u001b[0m\u001b[0;34m=\u001b[0m\u001b[0msal_prefix\u001b[0m\u001b[0;34m)\u001b[0m\u001b[0;34m\u001b[0m\u001b[0;34m\u001b[0m\u001b[0m\n\u001b[0m\u001b[1;32m     69\u001b[0m         \u001b[0mself\u001b[0m\u001b[0;34m.\u001b[0m\u001b[0mmin_seq_num\u001b[0m \u001b[0;34m=\u001b[0m \u001b[0mmin_seq_num\u001b[0m  \u001b[0;31m# record for unit tests\u001b[0m\u001b[0;34m\u001b[0m\u001b[0;34m\u001b[0m\u001b[0m\n\u001b[1;32m     70\u001b[0m         \u001b[0mself\u001b[0m\u001b[0;34m.\u001b[0m\u001b[0mmax_seq_num\u001b[0m \u001b[0;34m=\u001b[0m \u001b[0mmax_seq_num\u001b[0m\u001b[0;34m\u001b[0m\u001b[0;34m\u001b[0m\u001b[0m\n",
      "\u001b[0;32m~/repos/ts_salobj/python/lsst/ts/salobj/topics/base_topic.py\u001b[0m in \u001b[0;36m__init__\u001b[0;34m(self, salinfo, name, sal_prefix)\u001b[0m\n\u001b[1;32m     95\u001b[0m                                                     salinfo.domain.topic_qos)\n\u001b[1;32m     96\u001b[0m         \u001b[0;32mexcept\u001b[0m \u001b[0mException\u001b[0m \u001b[0;32mas\u001b[0m \u001b[0me\u001b[0m\u001b[0;34m:\u001b[0m\u001b[0;34m\u001b[0m\u001b[0;34m\u001b[0m\u001b[0m\n\u001b[0;32m---> 97\u001b[0;31m             \u001b[0;32mraise\u001b[0m \u001b[0mRuntimeError\u001b[0m\u001b[0;34m(\u001b[0m\u001b[0;34mf\"Failed to create topic {salinfo.name}.{name}\"\u001b[0m\u001b[0;34m)\u001b[0m \u001b[0;32mfrom\u001b[0m \u001b[0me\u001b[0m\u001b[0;34m\u001b[0m\u001b[0;34m\u001b[0m\u001b[0m\n\u001b[0m\u001b[1;32m     98\u001b[0m \u001b[0;34m\u001b[0m\u001b[0m\n\u001b[1;32m     99\u001b[0m     \u001b[0;34m@\u001b[0m\u001b[0mproperty\u001b[0m\u001b[0;34m\u001b[0m\u001b[0;34m\u001b[0m\u001b[0m\n",
      "\u001b[0;31mRuntimeError\u001b[0m: Failed to create topic ATDome.abort"
     ]
    }
   ],
   "source": [
    "# Make IDLs separately\n",
    "# make_idl_files.py ATAOS ATPneumatics ATDomeTrajectory ATHexapod\n",
    "\n",
    "d = salobj.Domain()\n",
    "\n",
    "atmcs = salobj.Remote(d, \"ATMCS\")\n",
    "atptg = salobj.Remote(d, \"ATPtg\")\n",
    "ataos = salobj.Remote(d, \"ATAOS\")\n",
    "atpne = salobj.Remote(d, \"ATPneumatics\")\n",
    "athex = salobj.Remote(d, \"ATHexapod\")\n",
    "atdome = salobj.Remote(d, \"ATDome\", index=None)\n",
    "atdomtraj = salobj.Remote(d, \"ATDomeTrajectory\")\n",
    "\n",
    "await asyncio.gather(atmcs.start_task,\n",
    "                     atptg.start_task,\n",
    "                     ataos.start_task,\n",
    "                     atpne.start_task,\n",
    "                     athex.start_task,\n",
    "                     atdome.start_task,\n",
    "                     atdomtraj.start_task)"
   ]
  },
  {
   "cell_type": "code",
   "execution_count": 7,
   "metadata": {},
   "outputs": [
    {
     "name": "stderr",
     "output_type": "stream",
     "text": [
      "RemoteEvent(ATPneumatics, 0, heartbeat) falling behind; read 70 messages\n",
      "RemoteTelemetry(ATPtg, 0, currentTargetStatus) falling behind; read 100 messages\n"
     ]
    },
    {
     "ename": "RuntimeError",
     "evalue": "Failed to create topic ATDome.abort",
     "output_type": "error",
     "traceback": [
      "\u001b[0;31m\u001b[0m",
      "\u001b[0;31mDDSException\u001b[0mTraceback (most recent call last)",
      "\u001b[0;32m~/repos/ts_salobj/python/lsst/ts/salobj/topics/base_topic.py\u001b[0m in \u001b[0;36m__init__\u001b[0;34m(self, salinfo, name, sal_prefix)\u001b[0m\n\u001b[1;32m     94\u001b[0m             self._topic = self._type.register_topic(salinfo.domain.participant, dds_name,\n\u001b[0;32m---> 95\u001b[0;31m                                                     salinfo.domain.topic_qos)\n\u001b[0m\u001b[1;32m     96\u001b[0m         \u001b[0;32mexcept\u001b[0m \u001b[0mException\u001b[0m \u001b[0;32mas\u001b[0m \u001b[0me\u001b[0m\u001b[0;34m:\u001b[0m\u001b[0;34m\u001b[0m\u001b[0;34m\u001b[0m\u001b[0m\n",
      "\u001b[0;32m~/repos/ts_salobj/python/lsst/ts/salobj/ddsutil.py\u001b[0m in \u001b[0;36mregister_topic\u001b[0;34m(self, dp, name, qos, listener)\u001b[0m\n\u001b[1;32m    123\u001b[0m \u001b[0;34m\u001b[0m\u001b[0m\n\u001b[0;32m--> 124\u001b[0;31m         \u001b[0;32mreturn\u001b[0m \u001b[0mdds\u001b[0m\u001b[0;34m.\u001b[0m\u001b[0mTopic\u001b[0m\u001b[0;34m(\u001b[0m\u001b[0mdp\u001b[0m\u001b[0;34m,\u001b[0m \u001b[0mname\u001b[0m\u001b[0;34m,\u001b[0m \u001b[0mself\u001b[0m\u001b[0;34m.\u001b[0m\u001b[0mtype_support_class\u001b[0m\u001b[0;34m(\u001b[0m\u001b[0;34m)\u001b[0m\u001b[0;34m,\u001b[0m \u001b[0mqos\u001b[0m\u001b[0;34m,\u001b[0m \u001b[0mlistener\u001b[0m\u001b[0;34m)\u001b[0m\u001b[0;34m\u001b[0m\u001b[0;34m\u001b[0m\u001b[0m\n\u001b[0m\u001b[1;32m    125\u001b[0m \u001b[0;34m\u001b[0m\u001b[0m\n",
      "\u001b[0;32mdds.pyx\u001b[0m in \u001b[0;36mdds.Topic.__init__\u001b[0;34m()\u001b[0m\n",
      "\u001b[0;31mDDSException\u001b[0m: Failed to create topic.  Return code: Bad Parameter",
      "\nThe above exception was the direct cause of the following exception:\n",
      "\u001b[0;31mRuntimeError\u001b[0mTraceback (most recent call last)",
      "\u001b[0;32m<ipython-input-7-92392761ddb6>\u001b[0m in \u001b[0;36masync-def-wrapper\u001b[0;34m()\u001b[0m\n\u001b[1;32m      4\u001b[0m \u001b[0;32mawait\u001b[0m \u001b[0masyncio\u001b[0m\u001b[0;34m.\u001b[0m\u001b[0mgather\u001b[0m\u001b[0;34m(\u001b[0m\u001b[0matdome\u001b[0m\u001b[0;34m.\u001b[0m\u001b[0mstart_task\u001b[0m\u001b[0;34m)\u001b[0m\u001b[0;34m\u001b[0m\u001b[0;34m\u001b[0m\u001b[0m\n",
      "\u001b[0;32m~/repos/ts_salobj/python/lsst/ts/salobj/remote.py\u001b[0m in \u001b[0;36m__init__\u001b[0;34m(self, domain, name, index, readonly, include, exclude, evt_max_history, tel_max_history, start)\u001b[0m\n\u001b[1;32m    143\u001b[0m             \u001b[0;32mif\u001b[0m \u001b[0;32mnot\u001b[0m \u001b[0mreadonly\u001b[0m\u001b[0;34m:\u001b[0m\u001b[0;34m\u001b[0m\u001b[0;34m\u001b[0m\u001b[0m\n\u001b[1;32m    144\u001b[0m                 \u001b[0;32mfor\u001b[0m \u001b[0mcmd_name\u001b[0m \u001b[0;32min\u001b[0m \u001b[0msalinfo\u001b[0m\u001b[0;34m.\u001b[0m\u001b[0mcommand_names\u001b[0m\u001b[0;34m:\u001b[0m\u001b[0;34m\u001b[0m\u001b[0;34m\u001b[0m\u001b[0m\n\u001b[0;32m--> 145\u001b[0;31m                     \u001b[0mcmd\u001b[0m \u001b[0;34m=\u001b[0m \u001b[0mRemoteCommand\u001b[0m\u001b[0;34m(\u001b[0m\u001b[0msalinfo\u001b[0m\u001b[0;34m,\u001b[0m \u001b[0mcmd_name\u001b[0m\u001b[0;34m)\u001b[0m\u001b[0;34m\u001b[0m\u001b[0;34m\u001b[0m\u001b[0m\n\u001b[0m\u001b[1;32m    146\u001b[0m                     \u001b[0msetattr\u001b[0m\u001b[0;34m(\u001b[0m\u001b[0mself\u001b[0m\u001b[0;34m,\u001b[0m \u001b[0mcmd\u001b[0m\u001b[0;34m.\u001b[0m\u001b[0mattr_name\u001b[0m\u001b[0;34m,\u001b[0m \u001b[0mcmd\u001b[0m\u001b[0;34m)\u001b[0m\u001b[0;34m\u001b[0m\u001b[0;34m\u001b[0m\u001b[0m\n\u001b[1;32m    147\u001b[0m \u001b[0;34m\u001b[0m\u001b[0m\n",
      "\u001b[0;32m~/repos/ts_salobj/python/lsst/ts/salobj/topics/remote_command.py\u001b[0m in \u001b[0;36m__init__\u001b[0;34m(self, salinfo, name)\u001b[0m\n\u001b[1;32m    241\u001b[0m         super().__init__(salinfo=salinfo, name=name, sal_prefix=\"command_\",\n\u001b[1;32m    242\u001b[0m                          \u001b[0mmin_seq_num\u001b[0m\u001b[0;34m=\u001b[0m\u001b[0mmin_seq_num\u001b[0m\u001b[0;34m,\u001b[0m \u001b[0mmax_seq_num\u001b[0m\u001b[0;34m=\u001b[0m\u001b[0mmax_seq_num\u001b[0m\u001b[0;34m,\u001b[0m\u001b[0;34m\u001b[0m\u001b[0;34m\u001b[0m\u001b[0m\n\u001b[0;32m--> 243\u001b[0;31m                          initial_seq_num=initial_seq_num)\n\u001b[0m\u001b[1;32m    244\u001b[0m         \u001b[0mself\u001b[0m\u001b[0;34m.\u001b[0m\u001b[0mlog\u001b[0m \u001b[0;34m=\u001b[0m \u001b[0mlogging\u001b[0m\u001b[0;34m.\u001b[0m\u001b[0mgetLogger\u001b[0m\u001b[0;34m(\u001b[0m\u001b[0;34mf\"{salinfo}.RemoteCommand.{name}\"\u001b[0m\u001b[0;34m)\u001b[0m\u001b[0;34m\u001b[0m\u001b[0;34m\u001b[0m\u001b[0m\n\u001b[1;32m    245\u001b[0m         \u001b[0;31m# dict of seq_num: CommandInfo\u001b[0m\u001b[0;34m\u001b[0m\u001b[0;34m\u001b[0m\u001b[0;34m\u001b[0m\u001b[0m\n",
      "\u001b[0;32m~/repos/ts_salobj/python/lsst/ts/salobj/topics/write_topic.py\u001b[0m in \u001b[0;36m__init__\u001b[0;34m(self, salinfo, name, sal_prefix, min_seq_num, max_seq_num, initial_seq_num)\u001b[0m\n\u001b[1;32m     66\u001b[0m     def __init__(self, *, salinfo, name, sal_prefix, min_seq_num=1, max_seq_num=MAX_SEQ_NUM,\n\u001b[1;32m     67\u001b[0m                  initial_seq_num=None):\n\u001b[0;32m---> 68\u001b[0;31m         \u001b[0msuper\u001b[0m\u001b[0;34m(\u001b[0m\u001b[0;34m)\u001b[0m\u001b[0;34m.\u001b[0m\u001b[0m__init__\u001b[0m\u001b[0;34m(\u001b[0m\u001b[0msalinfo\u001b[0m\u001b[0;34m=\u001b[0m\u001b[0msalinfo\u001b[0m\u001b[0;34m,\u001b[0m \u001b[0mname\u001b[0m\u001b[0;34m=\u001b[0m\u001b[0mname\u001b[0m\u001b[0;34m,\u001b[0m \u001b[0msal_prefix\u001b[0m\u001b[0;34m=\u001b[0m\u001b[0msal_prefix\u001b[0m\u001b[0;34m)\u001b[0m\u001b[0;34m\u001b[0m\u001b[0;34m\u001b[0m\u001b[0m\n\u001b[0m\u001b[1;32m     69\u001b[0m         \u001b[0mself\u001b[0m\u001b[0;34m.\u001b[0m\u001b[0mmin_seq_num\u001b[0m \u001b[0;34m=\u001b[0m \u001b[0mmin_seq_num\u001b[0m  \u001b[0;31m# record for unit tests\u001b[0m\u001b[0;34m\u001b[0m\u001b[0;34m\u001b[0m\u001b[0m\n\u001b[1;32m     70\u001b[0m         \u001b[0mself\u001b[0m\u001b[0;34m.\u001b[0m\u001b[0mmax_seq_num\u001b[0m \u001b[0;34m=\u001b[0m \u001b[0mmax_seq_num\u001b[0m\u001b[0;34m\u001b[0m\u001b[0;34m\u001b[0m\u001b[0m\n",
      "\u001b[0;32m~/repos/ts_salobj/python/lsst/ts/salobj/topics/base_topic.py\u001b[0m in \u001b[0;36m__init__\u001b[0;34m(self, salinfo, name, sal_prefix)\u001b[0m\n\u001b[1;32m     95\u001b[0m                                                     salinfo.domain.topic_qos)\n\u001b[1;32m     96\u001b[0m         \u001b[0;32mexcept\u001b[0m \u001b[0mException\u001b[0m \u001b[0;32mas\u001b[0m \u001b[0me\u001b[0m\u001b[0;34m:\u001b[0m\u001b[0;34m\u001b[0m\u001b[0;34m\u001b[0m\u001b[0m\n\u001b[0;32m---> 97\u001b[0;31m             \u001b[0;32mraise\u001b[0m \u001b[0mRuntimeError\u001b[0m\u001b[0;34m(\u001b[0m\u001b[0;34mf\"Failed to create topic {salinfo.name}.{name}\"\u001b[0m\u001b[0;34m)\u001b[0m \u001b[0;32mfrom\u001b[0m \u001b[0me\u001b[0m\u001b[0;34m\u001b[0m\u001b[0;34m\u001b[0m\u001b[0m\n\u001b[0m\u001b[1;32m     98\u001b[0m \u001b[0;34m\u001b[0m\u001b[0m\n\u001b[1;32m     99\u001b[0m     \u001b[0;34m@\u001b[0m\u001b[0mproperty\u001b[0m\u001b[0;34m\u001b[0m\u001b[0;34m\u001b[0m\u001b[0m\n",
      "\u001b[0;31mRuntimeError\u001b[0m: Failed to create topic ATDome.abort"
     ]
    }
   ],
   "source": [
    "d = salobj.Domain()\n",
    "\n",
    "atdome = salobj.Remote(d, \"ATDome\", index=2)\n",
    "await asyncio.gather(atdome.start_task)"
   ]
  },
  {
   "cell_type": "code",
   "execution_count": 3,
   "metadata": {},
   "outputs": [
    {
     "ename": "NameError",
     "evalue": "name 'atdome' is not defined",
     "output_type": "error",
     "traceback": [
      "\u001b[0;31m\u001b[0m",
      "\u001b[0;31mNameError\u001b[0mTraceback (most recent call last)",
      "\u001b[0;32m<ipython-input-3-8721601d1c74>\u001b[0m in \u001b[0;36masync-def-wrapper\u001b[0;34m()\u001b[0m\n",
      "\u001b[0;31mNameError\u001b[0m: name 'atdome' is not defined"
     ]
    }
   ],
   "source": [
    "await salobj.set_summary_state(atdome, salobj.State.STANDBY, settingsToApply='Default1')"
   ]
  },
  {
   "cell_type": "code",
   "execution_count": 6,
   "metadata": {},
   "outputs": [
    {
     "name": "stdout",
     "output_type": "stream",
     "text": [
      "State.STANDBY\n"
     ]
    }
   ],
   "source": [
    "# Get summary state\n",
    "print(salobj.State(athex.evt_summaryState.get().summaryState))"
   ]
  },
  {
   "cell_type": "code",
   "execution_count": null,
   "metadata": {},
   "outputs": [],
   "source": [
    "location = EarthLocation.from_geodetic(lon=-70.747698*u.deg,\n",
    "                                       lat=-30.244728*u.deg,\n",
    "                                       height=2663.0*u.m)"
   ]
  },
  {
   "cell_type": "code",
   "execution_count": null,
   "metadata": {},
   "outputs": [],
   "source": []
  },
  {
   "cell_type": "code",
   "execution_count": null,
   "metadata": {},
   "outputs": [],
   "source": [
    "nruns = 5\n",
    "​\n",
    "for i in range(nruns):\n",
    "    # Here is a small trick to get the ra before transit. Get `timeAndDate` from the pointing component, then use `RA = lst - delta`.\n",
    "    print(f\"Run {i+1} of {nruns}...\")\n",
    "    \n",
    "    time_data = await atptg.tel_timeAndDate.next(flush=True, timeout=5.)\n",
    "    lst = Angle(time_data.lst, unit=u.hour)\n",
    "    delta = Angle(10., unit=u.arcminute)\n",
    "    ra = lst + delta\n",
    "    print(\"=======================\")\n",
    "    print(f\"LST: {lst}\")\n",
    "    print(f\"delta: {delta}\")\n",
    "    print(f\"RA: {ra}\")\n",
    "    print(\"=======================\")\n",
    "    \n",
    "    # Next we get declination to be 10 degrees south of zenith. \n",
    "    dec = location.lat - Angle(6., unit=u.deg)\n",
    "    print(f\"Dec: {dec}\")\n",
    "    \n",
    "    target_name=\"Slew to Transit test\"\n",
    "    radec = ICRS(ra, dec)\n",
    "    \n",
    "    curr_time_atptg = Time(time_data.tai, format=\"mjd\", scale=\"tai\")\n",
    "    coord_frame_altaz = AltAz(location=location, obstime=curr_time_atptg)\n",
    "    alt_az = radec.transform_to(coord_frame_altaz)\n",
    "    \n",
    "    await atptg.cmd_raDecTarget.set_start(\n",
    "        targetName=target_name,\n",
    "        targetInstance=ATPtg.TargetInstances.CURRENT,\n",
    "        frame=ATPtg.CoordFrame.ICRS,\n",
    "        epoch=2000,  # should be ignored: no parallax or proper motion\n",
    "        equinox=2000,  # should be ignored for ICRS\n",
    "        ra=radec.ra.hour,\n",
    "        declination=radec.dec.deg,\n",
    "        parallax=0,\n",
    "        pmRA=0,\n",
    "        pmDec=0,\n",
    "        rv=0,\n",
    "        dRA=0,\n",
    "        dDec=0,\n",
    "        rotPA=180.-alt_az.alt.deg,\n",
    "        rotFrame=ATPtg.RotFrame.FIXED,\n",
    "        rotMode=ATPtg.RotMode.FIELD,\n",
    "        timeout=10\n",
    "    )\n",
    "    \n",
    "    print(\"Sleep for 2.5 minutes\")\n",
    "    \n",
    "    await asyncio.sleep(2.5*60.)\n",
    "\n",
    "await atptg.cmd_stopTracking.start(timeout=30)\n",
    "#  "
   ]
  },
  {
   "cell_type": "code",
   "execution_count": null,
   "metadata": {},
   "outputs": [],
   "source": []
  }
 ],
 "metadata": {
  "kernelspec": {
   "display_name": "Python 3",
   "language": "python",
   "name": "python3"
  },
  "language_info": {
   "codemirror_mode": {
    "name": "ipython",
    "version": 3
   },
   "file_extension": ".py",
   "mimetype": "text/x-python",
   "name": "python",
   "nbconvert_exporter": "python",
   "pygments_lexer": "ipython3",
   "version": "3.7.2"
  }
 },
 "nbformat": 4,
 "nbformat_minor": 4
}
