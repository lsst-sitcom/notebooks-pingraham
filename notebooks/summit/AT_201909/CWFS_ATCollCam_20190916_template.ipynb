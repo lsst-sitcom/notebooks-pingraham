{
 "cells": [
  {
   "cell_type": "markdown",
   "metadata": {},
   "source": [
    "### Notebook used to to measure collimation of the telescope using ATCollCam using the CWFS algorithm/package developed by Bo Xin.\n",
    "\n",
    "#### Now using fork by David Thomas: https://github.com/davidthomas5412/cwfs \n",
    "\n",
    "#### This requires that the parameter file for the CWFS algorithm be placed in the cwfs directory structure. "
   ]
  },
  {
   "cell_type": "code",
   "execution_count": null,
   "metadata": {},
   "outputs": [],
   "source": [
    "import numpy as np\n",
    "import asyncio\n",
    "from astropy.io import fits\n",
    "from lsst.ts import salobj\n",
    "import wget\n",
    "\n",
    "import warnings\n",
    "from astropy.modeling import models, fitting\n",
    "from scipy.ndimage.filters import gaussian_filter\n",
    "from scipy import ndimage\n",
    "from matplotlib import pyplot as plt\n",
    "#%matplotlib ipympl\n",
    "plt.rcParams['figure.figsize'] = [7, 6]\n",
    "\n",
    "\n",
    "import matplotlib.pyplot as plt\n",
    "%matplotlib inline\n",
    "import time\n",
    "\n",
    "import os\n",
    "import copy\n",
    "from pathlib import Path\n",
    "\n",
    "import logging\n",
    "logging.basicConfig(level=logging.INFO,\n",
    "                    format='%(asctime)s %(name)-12s %(levelname)-8s %(message)s')\n",
    "logger = logging.getLogger('image_display_notebook')\n"
   ]
  },
  {
   "cell_type": "code",
   "execution_count": null,
   "metadata": {},
   "outputs": [],
   "source": [
    "#Import CWFS package\n",
    "from lsst import cwfs\n",
    "from lsst.cwfs.instrument import Instrument\n",
    "from lsst.cwfs.algorithm import Algorithm\n",
    "from lsst.cwfs.image import Image, readFile, aperture2image, showProjection\n",
    "import lsst.cwfs.plots as plots"
   ]
  },
  {
   "cell_type": "code",
   "execution_count": null,
   "metadata": {},
   "outputs": [],
   "source": []
  },
  {
   "cell_type": "code",
   "execution_count": null,
   "metadata": {},
   "outputs": [],
   "source": [
    "import logging\n",
    "logger = logging.getLogger('calc_CofM_logger')\n",
    "\n",
    "# declare Centroiding algorithm\n",
    "def calc_CofM(array, offset=(0,0)):\n",
    "    # Function takes a a 2d Array and computes the CofM\n",
    "    \n",
    "    # offset is the coordinate of the minimum y and x pixel\n",
    "    \n",
    "    \n",
    "    #just make it easier to parse the code below\n",
    "    shape=array.shape\n",
    "        \n",
    "    # Build 2d index arrays for calculations\n",
    "    pix_index_1d_arr=np.arange(0, shape[0], 1)+ offset[0]\n",
    "    ones_array_2d=np.ones([shape[1], shape[0]])\n",
    "    y_index_arr_2d=np.transpose(pix_index_1d_arr*ones_array_2d)\n",
    "    \n",
    "    # Can't just use the transpose of the y_index_arr_2d\n",
    "    # since we're supporting non-symmetrical arrays\n",
    "    pix_index_1d_arr=np.arange(0, shape[1], 1) + offset[1]\n",
    "    ones_array_2d=np.ones([shape[0], shape[1]])\n",
    "    # array will be left to right so need to transpose\n",
    "    x_index_arr_2d=pix_index_1d_arr*ones_array_2d\n",
    "\n",
    "    # Calculate the centroid\n",
    "    y_CofM = np.sum(y_index_arr_2d*array)/np.sum(array)\n",
    "    x_CofM = np.sum(x_index_arr_2d*array)/np.sum(array)\n",
    "    \n",
    "    logger.info('y_CofM is {}'.format(y_CofM))\n",
    "    logger.info('x_CofM is {}'.format(x_CofM))\n",
    "\n",
    "    return(y_CofM, x_CofM)"
   ]
  },
  {
   "cell_type": "code",
   "execution_count": null,
   "metadata": {},
   "outputs": [],
   "source": []
  },
  {
   "cell_type": "code",
   "execution_count": null,
   "metadata": {},
   "outputs": [],
   "source": [
    "#Kevin Reil:flag-cl: 11:06 PM\n",
    "#ra = Angle(“22:23:20.27”, unit=u.hour)\n",
    "#dec = Angle(“-45:43:56.6\", unit=u.deg)\n",
    "#target_name=“faint 9.7 Grus”\n",
    "#radec = ICRS(ra, dec)"
   ]
  },
  {
   "cell_type": "code",
   "execution_count": null,
   "metadata": {},
   "outputs": [],
   "source": []
  },
  {
   "cell_type": "code",
   "execution_count": null,
   "metadata": {},
   "outputs": [],
   "source": [
    "d = salobj.Domain()\n",
    "gencam = salobj.Remote(d, 'GenericCamera', index=1)\n",
    "athexapod = salobj.Remote(d, 'ATHexapod')\n",
    "await gencam.start_task\n",
    "await athexapod.start_task"
   ]
  },
  {
   "cell_type": "code",
   "execution_count": null,
   "metadata": {},
   "outputs": [],
   "source": [
    "gencam.cmd_setLogLevel.set(level=logging.DEBUG)\n",
    "athexapod.cmd_setLogLevel.set(level=logging.DEBUG)"
   ]
  },
  {
   "cell_type": "code",
   "execution_count": null,
   "metadata": {},
   "outputs": [],
   "source": [
    "# Get summary state\n",
    "print(salobj.State(gencam.evt_summaryState.get().summaryState))\n",
    "print(salobj.State(athexapod.evt_summaryState.get().summaryState))"
   ]
  },
  {
   "cell_type": "code",
   "execution_count": null,
   "metadata": {},
   "outputs": [],
   "source": []
  },
  {
   "cell_type": "code",
   "execution_count": null,
   "metadata": {},
   "outputs": [],
   "source": [
    "# Intrafocal hexapod setting\n",
    "z_cen=0.35 # Central focus position\n",
    "dx=0.5 # offset on either side of focus\n",
    "await athexapod.cmd_moveToPosition.set_start(x=-4., y=1.,z=z_cen-dx, u=0.35, v=0.22)"
   ]
  },
  {
   "cell_type": "code",
   "execution_count": null,
   "metadata": {},
   "outputs": [],
   "source": [
    "#Take an image\n",
    "expTime=2.0 # exposure time\n",
    "target='bet_grus' # Change to name of target\n",
    "await gencam.cmd_takeImages.set_start(numImages=1, expTime=expTime, shutter=True, \n",
    "                                      imageSequenceName=target)\n",
    "\n",
    "tmp = await gencam.evt_endReadout.next(flush=False, timeout=1)\n",
    "tmp = gencam.evt_endReadout.get()\n",
    "print('image name is {}'.format(tmp.imageName))"
   ]
  },
  {
   "cell_type": "code",
   "execution_count": null,
   "metadata": {},
   "outputs": [],
   "source": [
    "# Download image\n",
    "wget_url = 'http://192.168.1.216:8000/'+tmp.imageName+'.fits'\n",
    "#print(wget_url)\n",
    "intra_fname = wget.download(wget_url)\n",
    "print('Grabbed/Wrote {} via wget'.format(intra_fname))"
   ]
  },
  {
   "cell_type": "code",
   "execution_count": null,
   "metadata": {},
   "outputs": [],
   "source": []
  },
  {
   "cell_type": "code",
   "execution_count": null,
   "metadata": {},
   "outputs": [],
   "source": [
    "# Extrafocal hexapod setting\n",
    "await athexapod.cmd_moveToPosition.set_start(x=-4., y=1.,z=z_cen+dx, u=0.35, v=0.22)"
   ]
  },
  {
   "cell_type": "code",
   "execution_count": null,
   "metadata": {},
   "outputs": [],
   "source": [
    "await gencam.cmd_takeImages.set_start(numImages=1, expTime=expTime, shutter=True, imageSequenceName='bet_grus')\n",
    "\n",
    "tmp = await gencam.evt_endReadout.next(flush=False, timeout=1)\n",
    "tmp = gencam.evt_endReadout.get()\n",
    "print(tmp.imageName)"
   ]
  },
  {
   "cell_type": "code",
   "execution_count": null,
   "metadata": {},
   "outputs": [],
   "source": [
    "# Download image\n",
    "wget_url = 'http://192.168.1.216:8000/'+tmp.imageName+'.fits'\n",
    "#print(wget_url)\n",
    "extra_fname = wget.download(wget_url)\n",
    "print('Grabbed/Wrote {} via wget'.format(extra_fname))"
   ]
  },
  {
   "cell_type": "code",
   "execution_count": null,
   "metadata": {},
   "outputs": [],
   "source": []
  },
  {
   "cell_type": "markdown",
   "metadata": {},
   "source": [
    "### Declare data directories and intra/extra raw file lists"
   ]
  },
  {
   "cell_type": "code",
   "execution_count": null,
   "metadata": {},
   "outputs": [],
   "source": [
    "# Declare where data is located and where output will be written, notably the stacked images\n",
    "# Note that this needs to be where this notebook is\n",
    "data_folder = Path(\"/home/saluser/develop/ts_notebooks/pingraham/summit_notebooks/AT_201909\")\n",
    "# set the data output... but not used at the moment (I think)\n",
    "output_folder = Path(\"/home/saluser/data/output\")"
   ]
  },
  {
   "cell_type": "code",
   "execution_count": null,
   "metadata": {},
   "outputs": [],
   "source": [
    "# Open fits files, note you can start here if your files exist already\n",
    "\n",
    "#intra_fname='I1_intra_20190908.fits'\n",
    "intra_exp=(fits.open(data_folder / intra_fname))[0].data\n",
    "\n",
    "#extra_fname='I2_extra_20190908.fits'\n",
    "extra_exp=(fits.open(data_folder / extra_fname))[0].data"
   ]
  },
  {
   "cell_type": "code",
   "execution_count": null,
   "metadata": {},
   "outputs": [],
   "source": [
    "# Display image\n",
    "plt.imshow(intra_exp)"
   ]
  },
  {
   "cell_type": "code",
   "execution_count": null,
   "metadata": {},
   "outputs": [],
   "source": [
    "# Define center where doughnut is, and the side of the box\n",
    "# note that side is really the half side (2*side=length, 2*side=width)\n",
    "im_shape=intra_exp.shape\n",
    "side=200\n",
    "ceny=600 #round(im_shape[0]/2)\n",
    "cenx=800 # round(im_shape[1]/2)\n",
    "intra_square = intra_exp[ceny-side:ceny+side, cenx-side:cenx+side] \n",
    "extra_square = extra_exp[ceny-side:ceny+side, cenx-side:cenx+side]"
   ]
  },
  {
   "cell_type": "code",
   "execution_count": null,
   "metadata": {},
   "outputs": [],
   "source": [
    "#Create object for CWFS code\n",
    "# Select where your object is, but ours will be on-axis\n",
    "fieldXY = [0.0,0.0]\n",
    "\n",
    "# I1/I2 get modified down below, so reset here\n",
    "I1 = None; I2=None\n",
    "I1 = Image(intra_square, fieldXY, Image.INTRA)\n",
    "I2 = Image(extra_square, fieldXY, Image.EXTRA)"
   ]
  },
  {
   "cell_type": "markdown",
   "metadata": {},
   "source": [
    "## Load instrument profile from \"cwfs/data/auxtel/auxtel.param\"\n",
    "### Make sure pixelSize and offset are correct for the dataset! "
   ]
  },
  {
   "cell_type": "code",
   "execution_count": 1,
   "metadata": {},
   "outputs": [],
   "source": [
    "# Declare instrument\n",
    "# this must reside in the cwfs/data/auxtel/auxtel.param directory\n",
    "# file consists of the following, tab separated"
   ]
  },
  {
   "cell_type": "markdown",
   "metadata": {},
   "source": [
    "#Auxiliary Telescope parameters:\n",
    "Obscuration \t\t\t\t0.3525\n",
    "Focal_length (m)\t\t\t21.6\n",
    "Aperture_diameter (m)   \t\t1.2\n",
    "Offset (m)\t\t\t\t0.0205\n",
    "Pixel_size (m)\t\t\t\t1.44e-5"
   ]
  },
  {
   "cell_type": "code",
   "execution_count": null,
   "metadata": {},
   "outputs": [],
   "source": [
    "inst=Instrument('auxtel',I1.sizeinPix)"
   ]
  },
  {
   "cell_type": "code",
   "execution_count": null,
   "metadata": {},
   "outputs": [],
   "source": [
    "hex_to_focus_scale = 41.0\n",
    "offset=0.5 *hex_to_focus_scale # [mm] multiply hexapod dz by magnification factor\n",
    "pixelsize = 3.6e-6*4 # 4 is the binning\n",
    "# FIXME: put an assertion here and calculate binning above based on change in image size, also pull offset from filename!\n",
    "\n",
    "print('Offset should be :{} [mm] at the focus, {} [mm] at the hexapod'.format(offset, offset/hex_to_focus_scale))\n",
    "print('Offset in file is :{} [mm] at the focus'.format(1e3*inst.offset))\n",
    "print('pixelSize should be: {}'.format(pixelsize))\n",
    "\n",
    "# declare algorithm - exponential solver.\n",
    "algo=Algorithm('exp',inst,1)"
   ]
  },
  {
   "cell_type": "code",
   "execution_count": null,
   "metadata": {},
   "outputs": [],
   "source": [
    "# Plot images\n",
    "plots.plotImage(I1.image,'intra') \n",
    "#plots.plotImage(I_focus.image,'focus')\n",
    "plots.plotImage(I2.image,'extra')"
   ]
  },
  {
   "cell_type": "code",
   "execution_count": null,
   "metadata": {},
   "outputs": [],
   "source": []
  },
  {
   "cell_type": "code",
   "execution_count": null,
   "metadata": {},
   "outputs": [],
   "source": [
    "# Calculate zernikes and wavefront\n",
    "# Note that this will change I1 and I2!\n",
    "# if you ever want to rerun this with different parameters you have to reload I1 and I2!\n",
    "algo.runIt(inst,I1,I2,'onAxis')"
   ]
  },
  {
   "cell_type": "code",
   "execution_count": null,
   "metadata": {},
   "outputs": [],
   "source": [
    "#print zernikes\n",
    "print(algo.zer4UpNm)"
   ]
  },
  {
   "cell_type": "code",
   "execution_count": null,
   "metadata": {},
   "outputs": [],
   "source": [
    "# plot the zernikes\n",
    "plots.plotZer(algo.zer4UpNm[0:9],'nm')"
   ]
  },
  {
   "cell_type": "code",
   "execution_count": null,
   "metadata": {},
   "outputs": [],
   "source": [
    "# Plot images with masks to check mapping is correct\n",
    "# I think these plot residuals, but I1.image0 plots the original image\n",
    "plots.plotImage(I1.image,'intra', mask=algo.pMask) \n",
    "#plots.plotImage(I_focus.image,'focus')\n",
    "plots.plotImage(I2.image,'extra', mask=algo.pMask)"
   ]
  },
  {
   "cell_type": "code",
   "execution_count": null,
   "metadata": {},
   "outputs": [],
   "source": []
  },
  {
   "cell_type": "code",
   "execution_count": null,
   "metadata": {},
   "outputs": [],
   "source": [
    "plots.plotImage(algo.Wconverge,'Final wavefront')"
   ]
  },
  {
   "cell_type": "code",
   "execution_count": null,
   "metadata": {},
   "outputs": [],
   "source": [
    "plots.plotImage(algo.Wconverge,'Final wavefront with pupil mask applied', mask=algo.pMask)"
   ]
  },
  {
   "cell_type": "code",
   "execution_count": null,
   "metadata": {},
   "outputs": [],
   "source": []
  },
  {
   "cell_type": "code",
   "execution_count": null,
   "metadata": {},
   "outputs": [],
   "source": [
    "# Look at estimated wavefront and residual of wavefront that is not well fit\n",
    "nanMask = np.ones(I1.image.shape)\n",
    "nanMask[I1.pMask==0] = np.nan\n",
    "fig, ax = plt.subplots(1,2, figsize=[10,4])\n",
    "img = ax[0].imshow(algo.Wconverge*nanMask, origin='lower')\n",
    "ax[0].set_title('Final WF = estimated + residual')\n",
    "fig.colorbar(img, ax=ax[0])\n",
    "img = ax[1].imshow(algo.West*nanMask, origin='lower')\n",
    "ax[1].set_title('residual wavefront')\n",
    "fig.colorbar(img, ax=ax[1])"
   ]
  },
  {
   "cell_type": "code",
   "execution_count": null,
   "metadata": {},
   "outputs": [],
   "source": [
    "# Plot the residuals at each image - ideally they would be a constant\n",
    "fig, ax = plt.subplots(1,2, figsize=[10,4])\n",
    "img = ax[0].imshow(I1.image, origin='lower')\n",
    "ax[0].set_title('Intra residual image')\n",
    "fig.colorbar(img, ax=ax[0])\n",
    "img = ax[1].imshow(I2.image, origin='lower')\n",
    "ax[1].set_title('Extra residual image')\n",
    "fig.colorbar(img, ax=ax[1])"
   ]
  },
  {
   "cell_type": "markdown",
   "metadata": {},
   "source": [
    "#### Now we do the forward raytrace using our wavefront solutions. The code is simply borrowed from existing cwfs code."
   ]
  },
  {
   "cell_type": "markdown",
   "metadata": {},
   "source": [
    "#### We first set up the pupil grid. Oversample means how many ray to trace from each grid point on the pupil."
   ]
  },
  {
   "cell_type": "code",
   "execution_count": null,
   "metadata": {},
   "outputs": [],
   "source": [
    "oversample = 10\n",
    "projSamples = I1.image0.shape[0]*oversample\n",
    "\n",
    "luty, lutx = np.mgrid[\n",
    "        -(projSamples / 2 - 0.5):(projSamples / 2 + 0.5),\n",
    "        -(projSamples / 2 - 0.5):(projSamples / 2 + 0.5)]\n",
    "lutx = lutx / (projSamples / 2 / inst.sensorFactor)\n",
    "luty = luty / (projSamples / 2 / inst.sensorFactor)"
   ]
  },
  {
   "cell_type": "markdown",
   "metadata": {},
   "source": [
    "#### We now trace the rays to the image plane. Lutxp and Lutyp are image coordinates for each (oversampled) ray. showProjection() makes the intensity image. Then, to down sample the image back to original resolution, we want to use the function downResolution() which is defined for the image class."
   ]
  },
  {
   "cell_type": "code",
   "execution_count": null,
   "metadata": {},
   "outputs": [],
   "source": []
  },
  {
   "cell_type": "code",
   "execution_count": null,
   "metadata": {},
   "outputs": [],
   "source": [
    "lutxp, lutyp, J = aperture2image(I1, inst, algo, algo.converge[:,-1], lutx, luty, projSamples, 'paraxial')\n",
    "show_lutxyp = showProjection(lutxp, lutyp, inst.sensorFactor, projSamples, 1)\n",
    "I1fit = Image(show_lutxyp, fieldXY, Image.INTRA)\n",
    "I1fit.downResolution(oversample, I1.image0.shape[0], I1.image0.shape[1])"
   ]
  },
  {
   "cell_type": "markdown",
   "metadata": {},
   "source": [
    "#### Now do the same thing for extra focal image"
   ]
  },
  {
   "cell_type": "code",
   "execution_count": null,
   "metadata": {},
   "outputs": [],
   "source": [
    "luty, lutx = np.mgrid[\n",
    "        -(projSamples / 2 - 0.5):(projSamples / 2 + 0.5),\n",
    "        -(projSamples / 2 - 0.5):(projSamples / 2 + 0.5)]\n",
    "lutx = lutx / (projSamples / 2 / inst.sensorFactor)\n",
    "luty = luty / (projSamples / 2 / inst.sensorFactor)\n",
    "\n",
    "lutxp, lutyp, J = aperture2image(I2, inst, algo, algo.converge[:,-1], lutx, luty, projSamples, 'paraxial')\n",
    "show_lutxyp = showProjection(lutxp, lutyp, inst.sensorFactor, projSamples, 1)\n",
    "I2fit = Image(show_lutxyp, fieldXY, Image.EXTRA)\n",
    "I2fit.downResolution(oversample, I2.image0.shape[0], I2.image0.shape[1])"
   ]
  },
  {
   "cell_type": "code",
   "execution_count": null,
   "metadata": {},
   "outputs": [],
   "source": [
    "#The atmosphere used here is just a random Gaussian smearing. We do not care much about the size at this point\n",
    "from scipy.ndimage import gaussian_filter\n",
    "\n",
    "I1fit.image[np.isnan(I1fit.image)]=0\n",
    "a = gaussian_filter(I1fit.image, sigma=2)\n",
    "\n",
    "fig, ax = plt.subplots(1,3, figsize=[15,4])\n",
    "img = ax[0].imshow(I1fit.image, origin='lower')\n",
    "ax[0].set_title('Forward prediction (no atm) Intra')\n",
    "fig.colorbar(img, ax=ax[0])\n",
    "img = ax[1].imshow(a, origin='lower')\n",
    "ax[1].set_title('Forward prediction (w atm) Intra')\n",
    "fig.colorbar(img, ax=ax[1])\n",
    "\n",
    "img = ax[2].imshow(I1.image0, origin='lower')\n",
    "ax[2].set_title('Real Image, Intra')\n",
    "fig.colorbar(img, ax=ax[2])"
   ]
  },
  {
   "cell_type": "code",
   "execution_count": null,
   "metadata": {},
   "outputs": [],
   "source": [
    "I2fit.image[np.isnan(I2fit.image)]=0\n",
    "b = gaussian_filter(I2fit.image, sigma=2)\n",
    "\n",
    "fig, ax = plt.subplots(1,3, figsize=[15,4])\n",
    "img = ax[0].imshow(I2fit.image, origin='lower')\n",
    "ax[0].set_title('Forward prediction (no atm) Extra')\n",
    "fig.colorbar(img, ax=ax[0])\n",
    "img = ax[1].imshow(b, origin='lower')\n",
    "ax[1].set_title('Forward prediction (w atm) Extra')\n",
    "fig.colorbar(img, ax=ax[1])\n",
    "\n",
    "img = ax[2].imshow(I2.image0, origin='lower')\n",
    "ax[2].set_title('Real Image, Extra')\n",
    "fig.colorbar(img, ax=ax[2])"
   ]
  },
  {
   "cell_type": "code",
   "execution_count": null,
   "metadata": {},
   "outputs": [],
   "source": []
  },
  {
   "cell_type": "code",
   "execution_count": null,
   "metadata": {},
   "outputs": [],
   "source": []
  },
  {
   "cell_type": "code",
   "execution_count": null,
   "metadata": {},
   "outputs": [],
   "source": [
    "# Basic math to estimate the expected result (from lab setup... must change for telescope!)\n",
    "D=25e-3; wave=632e-9\n",
    "f_coll=125e-3; \n",
    "\n",
    "f_tel=400e-3 # 400mm nominal\n",
    "pinhole_diam=10e-6\n",
    "\n",
    "print('Diffraction Limit (f=125mm, D=25mm, wave=632nm) is: {0:3f} [um]'.format(1e6*wave/D*f_coll))\n",
    "mag=f_tel/f_coll\n",
    "print('Magnification is f_tel/f_col {}:'.format(mag))\n",
    "im_size=1e6*mag*pinhole_diam\n",
    "print('Expected image diameter for {0:3f} diameter pinhole: {1:3f} [um]'.format(pinhole_diam, im_size))\n",
    "print('80% EE radius in pixels ~{}'.format(im_size/2/10))"
   ]
  },
  {
   "cell_type": "code",
   "execution_count": null,
   "metadata": {},
   "outputs": [],
   "source": []
  }
 ],
 "metadata": {
  "kernelspec": {
   "display_name": "Python 3",
   "language": "python",
   "name": "python3"
  },
  "language_info": {
   "codemirror_mode": {
    "name": "ipython",
    "version": 3
   },
   "file_extension": ".py",
   "mimetype": "text/x-python",
   "name": "python",
   "nbconvert_exporter": "python",
   "pygments_lexer": "ipython3",
   "version": "3.7.3"
  }
 },
 "nbformat": 4,
 "nbformat_minor": 4
}
