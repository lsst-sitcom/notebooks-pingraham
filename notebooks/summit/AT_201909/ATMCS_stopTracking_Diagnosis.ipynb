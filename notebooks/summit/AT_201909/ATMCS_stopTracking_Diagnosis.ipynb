{
 "cells": [
  {
   "cell_type": "markdown",
   "metadata": {},
   "source": [
    "## Accessing DM-EFD data\n"
   ]
  },
  {
   "cell_type": "markdown",
   "metadata": {},
   "source": [
    "In this notebook we demonstrate how to extract data from the DM-EFD using [aioinflux](https://aioinflux.readthedocs.io/en/stable/index.html), a Python client for InfluxDB, and proceed with data analysis using Pandas dataframes. \n",
    "\n",
    "This is complementaty to the [Chronograf](https://test-chronograf-efd.lsst.codes) interface which we use for time-series visualization.\n",
    "\n",
    "In addition to `aioinflux`, you'll need to install `pandas`, `numpy` and `matplotlib` to run this notebook."
   ]
  },
  {
   "cell_type": "code",
   "execution_count": null,
   "metadata": {
    "scrolled": true
   },
   "outputs": [],
   "source": [
    "import matplotlib\n",
    "%matplotlib widget\n",
    "from matplotlib import pylab as plt\n",
    "import aioinflux\n",
    "import getpass\n",
    "import pandas as pd\n",
    "import asyncio\n",
    "import numpy as np\n",
    "\n",
    "from bokeh.plotting import figure, output_notebook, show\n",
    "from bokeh.models import LinearAxis, Range1d\n",
    "output_notebook()"
   ]
  },
  {
   "cell_type": "markdown",
   "metadata": {},
   "source": [
    "We'll access the DM-EFD instance deployed at the AuxTel lab in Tucson. You need to be on site or connected to the NOAO VPN. \n",
    "\n",
    "If you are familiar with the AuxTel lab environment, you might be able to authenticate using the generic `saluser`. Ping me at Slack (`@afausti`) if you have any problem."
   ]
  },
  {
   "cell_type": "code",
   "execution_count": null,
   "metadata": {},
   "outputs": [],
   "source": [
    "username = \"saluser\"\n",
    "password = getpass.getpass(f\"Password for {username}:\")"
   ]
  },
  {
   "cell_type": "markdown",
   "metadata": {},
   "source": [
    "The following configures the `aioinflux` Python client to connect to the DM-EFD InfluxDB instance. "
   ]
  },
  {
   "cell_type": "code",
   "execution_count": null,
   "metadata": {},
   "outputs": [],
   "source": [
    "client = aioinflux.InfluxDBClient(host='summit-influxdb-efd.lsst.codes', \n",
    "                                  port='443', \n",
    "                                  ssl=True, \n",
    "                                  username=username, \n",
    "                                  password=password,\n",
    "                                  db='efd')"
   ]
  },
  {
   "cell_type": "markdown",
   "metadata": {},
   "source": [
    "We can configure the output to be a Pandas dataframe, which is very convenient for data analysis.  Specify a time range for data in `InfluxQL`.  The default is 20hrs ago, but this may need to be changed depending on how recently data was taken."
   ]
  },
  {
   "cell_type": "code",
   "execution_count": null,
   "metadata": {},
   "outputs": [],
   "source": [
    "client.output = 'dataframe'\n",
    "#time_span = \"time >= '2019-09-08T01:41:00Z' AND time <= '2019-09-08T01:44:00Z'\"\n",
    "#time_span = \"time >= '2019-09-18T00:47:00Z' AND time <= '2019-09-19T04:49:00Z'\"\n",
    "time_span = \"time >= '2019-09-20T04:00:00Z' AND time <= '2019-09-20T04:04:00Z'\"\n",
    "time_span = \"time >= '2019-09-20T03:55:00Z' AND time <= '2019-09-20T04:02:00Z'\"\n",
    "# Had a stop tracking issue occur at 9:49pm"
   ]
  },
  {
   "cell_type": "markdown",
   "metadata": {},
   "source": [
    "Query each of the measurements we may want to correlate later in the notebook.  Note that this could be done as a single query, but the result is a dictionary of `DataFrames` which I find less convenient to use than named variables corresponding to one `DataFrame` each."
   ]
  },
  {
   "cell_type": "code",
   "execution_count": null,
   "metadata": {},
   "outputs": [],
   "source": [
    "async def get_data_frame(field_base, topic, els=100):\n",
    "    fields = \", \".join([f'\"{field_base}{i}\"' for i in range(100)])\n",
    "    df = await client.query(f'SELECT \"cRIO_timestamp\", \"private_sndStamp\", {fields} FROM \"efd\".\"autogen\".\"{topic}\" WHERE {time_span}')\n",
    "\n",
    "    times = []\n",
    "    timestamps = []\n",
    "    vals = []\n",
    "    step = 1./els\n",
    "    for row in df.itertuples():\n",
    "        for i in range(els):\n",
    "            times.append(row.cRIO_timestamp + i*step)\n",
    "            timestamps.append((pd.Timestamp(row.cRIO_timestamp, unit='s', tz='GMT') + pd.Timedelta(i*step, unit='s')))\n",
    "            vals.append(getattr(row, f'{field_base}{i}'))\n",
    "\n",
    "    return pd.DataFrame({'times':times, field_base:vals}, index=timestamps)"
   ]
  },
  {
   "cell_type": "code",
   "execution_count": null,
   "metadata": {},
   "outputs": [],
   "source": [
    "az = await get_data_frame('azimuthCalculatedAngle', 'lsst.sal.ATMCS.mount_AzEl_Encoders')\n",
    "az1 = await get_data_frame('azimuthEncoder1Raw', 'lsst.sal.ATMCS.mount_AzEl_Encoders')\n",
    "az2 = await get_data_frame('azimuthEncoder2Raw', 'lsst.sal.ATMCS.mount_AzEl_Encoders')\n",
    "az3 = await get_data_frame('azimuthEncoder3Raw', 'lsst.sal.ATMCS.mount_AzEl_Encoders')\n",
    "az_raw = await client.query(f'SELECT \"azimuthCalculatedAngle99\", \"private_sndStamp\", \"private_rcvStamp\" FROM \"efd\".\"autogen\".\"lsst.sal.ATMCS.mount_AzEl_Encoders\" WHERE {time_span}')"
   ]
  },
  {
   "cell_type": "code",
   "execution_count": null,
   "metadata": {},
   "outputs": [],
   "source": []
  },
  {
   "cell_type": "code",
   "execution_count": null,
   "metadata": {},
   "outputs": [],
   "source": [
    "commanded_az = await get_data_frame('azimuth', 'lsst.sal.ATMCS.trajectory')\n",
    "commanded_az_raw = await client.query(f'SELECT \"azimuth99\", \"private_sndStamp\", \"private_rcvStamp\" FROM \"efd\".\"autogen\".\"lsst.sal.ATMCS.trajectory\" WHERE {time_span}')"
   ]
  },
  {
   "cell_type": "code",
   "execution_count": null,
   "metadata": {},
   "outputs": [],
   "source": []
  },
  {
   "cell_type": "code",
   "execution_count": null,
   "metadata": {},
   "outputs": [],
   "source": [
    "#commanded_az_ATPng = await get_data_frame('azimuth', 'lsst.sal.ATMCS.command_trackTarget')\n",
    "commanded_az_ATPng = await client.query(f'SELECT \"azimuth\", \"private_sndStamp\", \"private_rcvStamp\" FROM \"efd\".\"autogen\".\"lsst.sal.ATMCS.command_trackTarget\" WHERE {time_span}')\n",
    "#commanded_vel_az = await get_data_frame('azimuthVelocity', 'lsst.sal.ATMCS.trajectory')"
   ]
  },
  {
   "cell_type": "code",
   "execution_count": null,
   "metadata": {},
   "outputs": [],
   "source": [
    "print(commanded_az_ATPng['private_sndStamp'][0:2])\n",
    "#print(commanded_az.index.values[0])\n",
    "print(commanded_az_raw['private_sndStamp'][0:2])"
   ]
  },
  {
   "cell_type": "code",
   "execution_count": null,
   "metadata": {},
   "outputs": [],
   "source": [
    "print(commanded_az_ATPng['private_rcvStamp'][0:2])\n",
    "#print(commanded_az.index.values[0])\n",
    "print(commanded_az_raw['private_rcvStamp'][0:2]) # from ATMCS target"
   ]
  },
  {
   "cell_type": "code",
   "execution_count": null,
   "metadata": {},
   "outputs": [],
   "source": [
    "pd.to_datetime(commanded_az_ATPng['private_sndStamp'][0], unit='s')"
   ]
  },
  {
   "cell_type": "markdown",
   "metadata": {},
   "source": [
    "## Look at difference in timestamps that come from SAL"
   ]
  },
  {
   "cell_type": "code",
   "execution_count": null,
   "metadata": {},
   "outputs": [],
   "source": [
    "# print(commanded_az_ATPng['private_sndStamp'][0:8]-commanded_az_ATPng['private_rcvStamp'][0:8])\n",
    "\n",
    "# data = commanded_az_ATPng['private_sndStamp']-commanded_az_ATPng['private_rcvStamp']\n",
    "# hist, edges = np.histogram(data, density=True, bins=200)\n",
    "\n",
    "# p = figure(title='Title', tools='', background_fill_color=\"#fafafa\", x_range=(edges[0], edges[-1]))\n",
    "# p.quad(top=hist*data.size, bottom=0,  left=edges[:-1], right=edges[1:],\n",
    "#        fill_color=\"navy\", line_color=\"white\", alpha=0.5)\n",
    "\n",
    "# p.y_range.start = 0\n",
    "# p.xaxis.axis_label = 'private_sndStamp - private_Stamp'\n",
    "# p.yaxis.axis_label = 'Number'\n",
    "# p.grid.grid_line_color=\"white\"\n",
    "# show(p)"
   ]
  },
  {
   "cell_type": "code",
   "execution_count": null,
   "metadata": {},
   "outputs": [],
   "source": [
    "#data.min(), data.max(), data.median()"
   ]
  },
  {
   "cell_type": "code",
   "execution_count": null,
   "metadata": {},
   "outputs": [],
   "source": [
    "#hist*len(data)"
   ]
  },
  {
   "cell_type": "markdown",
   "metadata": {},
   "source": [
    "## Plot commanded position (by pointing component), target position by ATMCS, Calculated position by ATMCS"
   ]
  },
  {
   "cell_type": "code",
   "execution_count": null,
   "metadata": {},
   "outputs": [],
   "source": [
    "dy=1*1/3600\n",
    "yr_cen=np.median(commanded_az['azimuth'])\n",
    "#yr_cen=0\n",
    "dy=2.2\n",
    "p = figure(x_axis_type='datetime', y_range=(yr_cen-dy, yr_cen+dy), plot_width=800, plot_height=400)\n",
    "p.yaxis.axis_label = \"Azimuth (degrees)\"\n",
    "p.xaxis.axis_label = \"Time\"\n",
    "p.line(x=commanded_az.index.values, y=commanded_az['azimuth'], color='black', line_width=2, legend='Commanded Az')\n",
    "p.cross(x=az.index.values, y=az['azimuthCalculatedAngle'], color='red', line_width=2, line_dash='dashed', legend='Computed Az 100Hz')\n",
    "p.cross(x=pd.to_datetime(commanded_az_raw['private_sndStamp'], unit='s'), y=commanded_az_raw['azimuth99'], color='black', line_width=2, legend='ATMCS Target Az')\n",
    "p.cross(x=pd.to_datetime(commanded_az_ATPng['private_sndStamp'], unit='s'), y=commanded_az_ATPng['azimuth'], color='green', line_width=2, legend='ATPng Target Az')\n",
    "p.line(x=pd.to_datetime(az_raw['private_sndStamp'], unit='s'), y=az_raw['azimuthCalculatedAngle99'], color='lightblue', line_width=2, legend='Computed Az')\n",
    "\n",
    "\n",
    "p.legend.location = 'bottom_left'\n",
    "p.legend.click_policy = 'hide'\n",
    "show(p)"
   ]
  },
  {
   "cell_type": "markdown",
   "metadata": {},
   "source": [
    "## Now look at raw encoder counts to see what that disconitunity is..."
   ]
  },
  {
   "cell_type": "code",
   "execution_count": null,
   "metadata": {},
   "outputs": [],
   "source": [
    "dy=1*1/3600\n",
    "yr_cen=np.median(commanded_az['azimuth'])\n",
    "#yr_cen=0\n",
    "dy=2.2\n",
    "p = figure(x_axis_type='datetime', y_range=(-1e6, 1e6), plot_width=800, plot_height=400)\n",
    "p.yaxis.axis_label = \"Raw Encoder cts - median + X000 offset\"\n",
    "p.xaxis.axis_label = \"Time\"\n",
    "\n",
    "\n",
    "#p.extra_y_ranges = {'encoders': Range1d(start=-1e6, end=1e6)} #Range1d(start=-0.3, end=0.2)\n",
    "\n",
    "print ('az1 [min,max] = [{},{}]'.format(az1['azimuthEncoder1Raw'].min()-az1['azimuthEncoder1Raw'].median(), az1['azimuthEncoder1Raw'].max()-az1['azimuthEncoder1Raw'].median()))\n",
    "p.cross(x=az1.index.values, y=az1['azimuthEncoder1Raw']-az1['azimuthEncoder1Raw'].median(), color='red', alpha=0.5, legend='AzEncoder 1')\n",
    "p.line(x=az1.index.values, y=az1['azimuthEncoder1Raw']-az1['azimuthEncoder1Raw'].median(), color='red', alpha=0.7, legend='AzEncoder 1')\n",
    "\n",
    "print ('az2 [min,max] = [{},{}]'.format(az2['azimuthEncoder2Raw'].min()-az2['azimuthEncoder2Raw'].median(), az2['azimuthEncoder2Raw'].max()-az2['azimuthEncoder2Raw'].median()))\n",
    "p.cross(x=az2.index.values, y=az2['azimuthEncoder2Raw']-az2['azimuthEncoder2Raw'].median()+1000, color='green', alpha=0.5, legend='AzEncoder 2 +1000 offset')\n",
    "p.line(x=az2.index.values, y=az2['azimuthEncoder2Raw']-az2['azimuthEncoder2Raw'].median()+1000, color='green', alpha=0.7, legend='AzEncoder 2 +1000 offset')\n",
    "\n",
    "print ('az3 [min,max] = [{},{}]'.format(az3['azimuthEncoder3Raw'].min()-az3['azimuthEncoder3Raw'].median(), az3['azimuthEncoder3Raw'].max()-az3['azimuthEncoder3Raw'].median()))\n",
    "p.cross(x=az3.index.values, y=az3['azimuthEncoder3Raw']-az3['azimuthEncoder3Raw'].median()-1000, color='blue', alpha=0.5, legend='AzEncoder 3 -1000 offset')\n",
    "p.line(x=az3.index.values, y=az3['azimuthEncoder3Raw']-az3['azimuthEncoder3Raw'].median()-1000, color='blue', alpha=0.7, legend='AzEncoder 3 -1000 offset')\n",
    "\n",
    "\n",
    "p.legend.location = 'bottom_right'\n",
    "p.legend.click_policy = 'hide'\n",
    "show(p)"
   ]
  },
  {
   "cell_type": "markdown",
   "metadata": {},
   "source": [
    "## Plot the ratios of the encoder counts to see if gaps/slopes are different"
   ]
  },
  {
   "cell_type": "code",
   "execution_count": null,
   "metadata": {},
   "outputs": [],
   "source": [
    "p = figure(x_axis_type='datetime', plot_width=800, plot_height=400)\n",
    "p.yaxis.axis_label = \"Raw Encoder counts - median value\"\n",
    "p.xaxis.axis_label = \"Time\"\n",
    "\n",
    "#p.add_layout(LinearAxis(y_range_name='encoders', axis_label='Encoder Counts'), 'right')\n",
    "\n",
    "median31=np.median(az3['azimuthEncoder3Raw']/az1['azimuthEncoder1Raw'])\n",
    "p.cross(x=az3.index.values, y=az3['azimuthEncoder3Raw']/az1['azimuthEncoder1Raw']-median31, color='red', alpha=0.5, legend='AzEncoder 3/1')\n",
    "p.line(x=az3.index.values, y=az3['azimuthEncoder3Raw']/az1['azimuthEncoder1Raw']-median31, color='red', alpha=0.7, legend='AzEncoder 3/1')\n",
    "\n",
    "median21=np.median(az2['azimuthEncoder2Raw']/az1['azimuthEncoder1Raw'])\n",
    "p.cross(x=az2.index.values, y=az2['azimuthEncoder2Raw']/az1['azimuthEncoder1Raw']-median21, color='green', alpha=0.5, legend='AzEncoder 2/1')\n",
    "p.line(x=az2.index.values, y=az2['azimuthEncoder2Raw']/az1['azimuthEncoder1Raw']-median21, color='green', alpha=0.7, legend='AzEncoder 2/1')\n",
    "\n",
    "median32=np.median(az3['azimuthEncoder3Raw']/az2['azimuthEncoder2Raw'])\n",
    "p.cross(x=az2.index.values, y=az3['azimuthEncoder3Raw']/az2['azimuthEncoder2Raw']-median32, color='blue', alpha=0.5, legend='AzEncoder 3/2')\n",
    "p.line(x=az2.index.values, y=az3['azimuthEncoder3Raw']/az2['azimuthEncoder2Raw']-median32, color='blue', alpha=0.7, legend='AzEncoder 3/2')\n",
    "\n",
    "p.legend.location = 'bottom_left'\n",
    "p.legend.click_policy = 'hide'\n",
    "show(p)"
   ]
  },
  {
   "cell_type": "code",
   "execution_count": null,
   "metadata": {},
   "outputs": [],
   "source": [
    "az1['azimuthEncoder1Raw'].median(), az2['azimuthEncoder2Raw'].median(), az3['azimuthEncoder3Raw'].median()"
   ]
  },
  {
   "cell_type": "markdown",
   "metadata": {},
   "source": [
    "## Look at motor velocities in azimuth"
   ]
  },
  {
   "cell_type": "code",
   "execution_count": null,
   "metadata": {},
   "outputs": [],
   "source": [
    "#Measured\n",
    "measured_vel_az1 = await get_data_frame('azimuthMotor1Velocity', 'lsst.sal.ATMCS.measuredMotorVelocity')\n",
    "measured_vel_az2 = await get_data_frame('azimuthMotor2Velocity', 'lsst.sal.ATMCS.measuredMotorVelocity')\n",
    "# Commanded\n",
    "commanded_az = await get_data_frame('azimuth', 'lsst.sal.ATMCS.trajectory')\n",
    "commanded_vel_az = await get_data_frame('azimuthVelocity', 'lsst.sal.ATMCS.trajectory')"
   ]
  },
  {
   "cell_type": "code",
   "execution_count": null,
   "metadata": {},
   "outputs": [],
   "source": [
    "p = figure(x_axis_type='datetime', y_range=(261., 261.4), plot_width=800, plot_height=400)\n",
    "p.yaxis.axis_label = \"Azimuth (degrees)\"\n",
    "p.xaxis.axis_label = \"Time\"\n",
    "# Positions\n",
    "p.line(x=commanded_az.index.values, y=commanded_az['azimuth'], color='black', line_width=2, legend='Commanded Az Vel')\n",
    "p.line(x=az.index.values, y=az['azimuthCalculatedAngle'], color='lightblue', line_width=2, legend='Computed Az Vel')\n",
    "# Velocities\n",
    "p.extra_y_ranges = {'Velocity': Range1d(start=-0.1, end=0.1)}\n",
    "p.add_layout(LinearAxis(y_range_name='Velocity', axis_label='Velocity'), 'right')\n",
    "p.line(x=commanded_vel_az.index.values, y=commanded_vel_az['azimuthVelocity'], color='black', alpha=0.5, y_range_name='Velocity', legend='Commanded Az Velocity')\n",
    "p.line(x=measured_vel_az1.index.values, y=measured_vel_az1['azimuthMotor1Velocity'], color='red', alpha=0.5, y_range_name='Velocity', legend='Measured Az Velocity Motor 1')\n",
    "p.line(x=measured_vel_az2.index.values, y=measured_vel_az2['azimuthMotor2Velocity'], color='blue', alpha=0.5, y_range_name='Velocity', legend='Measured Az Velocity Motor 2')\n",
    "p.legend.location = 'top_left'\n",
    "p.legend.click_policy = 'hide'\n",
    "show(p)"
   ]
  },
  {
   "cell_type": "markdown",
   "metadata": {},
   "source": [
    "## Now look at the Elevation Axis"
   ]
  },
  {
   "cell_type": "code",
   "execution_count": null,
   "metadata": {},
   "outputs": [],
   "source": [
    "el = await get_data_frame('elevationCalculatedAngle', 'lsst.sal.ATMCS.mount_AzEl_Encoders')"
   ]
  },
  {
   "cell_type": "code",
   "execution_count": null,
   "metadata": {},
   "outputs": [],
   "source": [
    "# Looks like demanded Torques are too small to get measured...\n",
    "#el_motor_torque_demand = await get_data_frame('elevationMotorTorque', 'lsst.sal.ATMCS.ATMCS_torqueDemand')\n",
    "#el_motor_torque_measured = await get_data_frame('elevationMotorTorque', 'lsst.sal.ATMCS.ATMCS_measuredTorque')"
   ]
  },
  {
   "cell_type": "code",
   "execution_count": null,
   "metadata": {},
   "outputs": [],
   "source": [
    "measured_vel_el = await get_data_frame('elevationMotorVelocity', 'lsst.sal.ATMCS.measuredMotorVelocity')\n",
    "#measured_vel_el.to_csv(path_or_buf='/home/patrickingraham/DATA/test.csv', index=True)"
   ]
  },
  {
   "cell_type": "code",
   "execution_count": null,
   "metadata": {},
   "outputs": [],
   "source": [
    "commanded_el = await get_data_frame('elevation', 'lsst.sal.ATMCS.trajectory')\n",
    "commanded_vel_el = await get_data_frame('elevationVelocity', 'lsst.sal.ATMCS.trajectory')"
   ]
  },
  {
   "cell_type": "code",
   "execution_count": null,
   "metadata": {},
   "outputs": [],
   "source": [
    "commanded_el_ATPng = await client.query(f'SELECT \"elevation\", \"private_sndStamp\", \"private_rcvStamp\" FROM \"efd\".\"autogen\".\"lsst.sal.ATMCS.command_trackTarget\" WHERE {time_span}')"
   ]
  },
  {
   "cell_type": "code",
   "execution_count": null,
   "metadata": {},
   "outputs": [],
   "source": [
    "#commanded_el_ATPng"
   ]
  },
  {
   "cell_type": "code",
   "execution_count": null,
   "metadata": {},
   "outputs": [],
   "source": [
    "p = figure(x_axis_type='datetime', y_range=(56,57 ), plot_width=800, plot_height=400)\n",
    "p.yaxis.axis_label = \"Elevation (degrees)\"\n",
    "p.xaxis.axis_label = \"Time\"\n",
    "p.line(x=commanded_el.index.values, y=commanded_el['elevation'], color='black', line_width=2, legend='Commanded Elevation')\n",
    "p.line(x=el.index.values, y=el['elevationCalculatedAngle'], color='lightblue', line_width=2, legend='Computed Elevation')\n",
    "p.cross(x=pd.to_datetime(commanded_el_ATPng['private_sndStamp'], unit='s'), y=commanded_el_ATPng['elevation'], color='green', line_width=2, legend='ATPng Target El')\n",
    "p.extra_y_ranges = {'Velocity': Range1d(start=-0.1, end=0.1)}\n",
    "p.add_layout(LinearAxis(y_range_name='Velocity', axis_label='Velocity'), 'right')\n",
    "p.cross(x=measured_vel_el.index.values, y=measured_vel_el['elevationMotorVelocity'], color='red', alpha=0.5, y_range_name='Velocity', legend='Measured El Velocity Motor')\n",
    "p.line(x=commanded_vel_el.index.values, y=commanded_vel_el['elevationVelocity'], color='black', alpha=0.5, y_range_name='Velocity', legend='Commanded El Velocity')\n",
    "p.legend.location = 'bottom_left'\n",
    "p.legend.click_policy = 'hide'\n",
    "show(p)"
   ]
  },
  {
   "cell_type": "code",
   "execution_count": null,
   "metadata": {},
   "outputs": [],
   "source": []
  },
  {
   "cell_type": "code",
   "execution_count": null,
   "metadata": {},
   "outputs": [],
   "source": [
    "p = figure(x_axis_type='datetime', y_range=(-2e-4,2e-4), plot_width=800, plot_height=400)\n",
    "p.yaxis.axis_label = \"Commanded - measured Elevation (degrees)\"\n",
    "p.xaxis.axis_label = \"Time\"\n",
    "p.line(x=commanded_el.index.values, y=commanded_el['elevation']-el['elevationCalculatedAngle'], color='black', line_width=2, legend='Commanded Elevation')\n",
    "p.legend.location = 'bottom_left'\n",
    "p.legend.click_policy = 'hide'\n",
    "show(p)"
   ]
  },
  {
   "cell_type": "code",
   "execution_count": null,
   "metadata": {},
   "outputs": [],
   "source": []
  },
  {
   "cell_type": "code",
   "execution_count": null,
   "metadata": {},
   "outputs": [],
   "source": []
  },
  {
   "cell_type": "code",
   "execution_count": null,
   "metadata": {},
   "outputs": [],
   "source": []
  }
 ],
 "metadata": {
  "kernelspec": {
   "display_name": "LSST",
   "language": "python",
   "name": "lsst"
  },
  "language_info": {
   "codemirror_mode": {
    "name": "ipython",
    "version": 3
   },
   "file_extension": ".py",
   "mimetype": "text/x-python",
   "name": "python",
   "nbconvert_exporter": "python",
   "pygments_lexer": "ipython3",
   "version": "3.7.2"
  }
 },
 "nbformat": 4,
 "nbformat_minor": 4
}
