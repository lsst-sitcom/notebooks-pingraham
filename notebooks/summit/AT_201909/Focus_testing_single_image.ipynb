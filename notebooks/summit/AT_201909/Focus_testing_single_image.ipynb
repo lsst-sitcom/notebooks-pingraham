{
 "cells": [
  {
   "cell_type": "markdown",
   "metadata": {},
   "source": [
    "### Notebook to be used to perform manual focus testing using ACCS or Generic Camera Images"
   ]
  },
  {
   "cell_type": "code",
   "execution_count": 1,
   "metadata": {},
   "outputs": [],
   "source": [
    "import numpy as np\n",
    "#from lsst.ts import salobj\n",
    "import asyncio\n",
    "from astropy.io import fits\n",
    "\n",
    "import warnings\n",
    "#import matplotlib.pyplot as plt  # imported as py above\n",
    "from astropy.modeling import models, fitting\n",
    "from scipy.ndimage.filters import gaussian_filter as gauss_filt\n",
    "from matplotlib import pyplot as plt\n",
    "\n",
    "import copy\n",
    "from pathlib import Path"
   ]
  },
  {
   "cell_type": "code",
   "execution_count": 2,
   "metadata": {},
   "outputs": [],
   "source": [
    "# Declare function that calculates the CofM\n",
    "import logging\n",
    "logger = logging.getLogger('calc_CofM_logger')\n",
    "\n",
    "def calc_CofM(array, offset=(0,0)):\n",
    "    # Function takes a a 2d Array and computes the CofM\n",
    "    \n",
    "    # offset is the coordinate of the minimum y and x pixel\n",
    "    \n",
    "    \n",
    "    #just make it easier to parse the code below\n",
    "    shape=array.shape\n",
    "        \n",
    "    # Build 2d index arrays for calculations\n",
    "    pix_index_1d_arr=np.arange(0, shape[0], 1)+ offset[0]\n",
    "    ones_array_2d=np.ones([shape[1], shape[0]])\n",
    "    y_index_arr_2d=np.transpose(pix_index_1d_arr*ones_array_2d)\n",
    "    \n",
    "    # Can't just use the transpose of the y_index_arr_2d\n",
    "    # since we're supporting non-symmetrical arrays\n",
    "    pix_index_1d_arr=np.arange(0, shape[1], 1) + offset[1]\n",
    "    ones_array_2d=np.ones([shape[0], shape[1]])\n",
    "    # array will be left to right so need to transpose\n",
    "    x_index_arr_2d=pix_index_1d_arr*ones_array_2d\n",
    "\n",
    "    # Calculate the centroid\n",
    "    y_CofM = np.sum(y_index_arr_2d*array)/np.sum(array)\n",
    "    x_CofM = np.sum(x_index_arr_2d*array)/np.sum(array)\n",
    "    \n",
    "    logger.info('y_CofM is {}'.format(y_CofM))\n",
    "    logger.info('x_CofM is {}'.format(x_CofM))\n",
    "\n",
    "    return(y_CofM, x_CofM)"
   ]
  },
  {
   "cell_type": "code",
   "execution_count": null,
   "metadata": {},
   "outputs": [],
   "source": []
  },
  {
   "cell_type": "code",
   "execution_count": 5,
   "metadata": {},
   "outputs": [],
   "source": [
    "import os\n",
    "os.environ[\"LSST_DDS_DOMAIN\"]\n",
    "import sys\n",
    "import logging\n",
    "import asyncio\n",
    "from lsst.ts import salobj\n",
    "import wget"
   ]
  },
  {
   "cell_type": "code",
   "execution_count": 6,
   "metadata": {},
   "outputs": [],
   "source": []
  },
  {
   "cell_type": "code",
   "execution_count": 7,
   "metadata": {},
   "outputs": [],
   "source": [
    "d = salobj.Domain()\n",
    "gencam = salobj.Remote(d, 'GenericCamera', index=1)\n",
    "await gencam.start_task"
   ]
  },
  {
   "cell_type": "code",
   "execution_count": 8,
   "metadata": {},
   "outputs": [
    {
     "data": {
      "text/plain": [
       "True"
      ]
     },
     "execution_count": 8,
     "metadata": {},
     "output_type": "execute_result"
    }
   ],
   "source": [
    "gencam.cmd_setLogLevel.set(level=logging.DEBUG)"
   ]
  },
  {
   "cell_type": "code",
   "execution_count": 9,
   "metadata": {},
   "outputs": [
    {
     "name": "stdout",
     "output_type": "stream",
     "text": [
      "State.ENABLED\n"
     ]
    }
   ],
   "source": [
    "# Get summary state\n",
    "print(salobj.State(gencam.evt_summaryState.get().summaryState))"
   ]
  },
  {
   "cell_type": "code",
   "execution_count": 244,
   "metadata": {},
   "outputs": [
    {
     "name": "stderr",
     "output_type": "stream",
     "text": [
      "RemoteEvent(GenericCamera, 1, logMessage) falling behind; read 12 messages\n"
     ]
    },
    {
     "name": "stdout",
     "output_type": "stream",
     "text": [
      "1325434633-bet_grus-0-1\n"
     ]
    }
   ],
   "source": [
    "# Take image\n",
    "await gencam.cmd_takeImages.set_start(numImages=1, expTime=2., shutter=True, imageSequenceName='bet_grus')\n",
    "\n",
    "tmp = await gencam.evt_endReadout.next(flush=False, timeout=1)\n",
    "tmp = gencam.evt_endReadout.get()\n",
    "print(tmp.imageName)"
   ]
  },
  {
   "cell_type": "code",
   "execution_count": 233,
   "metadata": {},
   "outputs": [
    {
     "name": "stdout",
     "output_type": "stream",
     "text": [
      "http://192.168.1.216:8000/1325431876-bet_grus-0-1.fits\n"
     ]
    }
   ],
   "source": [
    "# grab image\n",
    "wget_url = 'http://192.168.1.216:8000/'+tmp.imageName+'.fits'\n",
    "print(wget_url)"
   ]
  },
  {
   "cell_type": "code",
   "execution_count": 234,
   "metadata": {},
   "outputs": [
    {
     "name": "stdout",
     "output_type": "stream",
     "text": [
      "Grabbed/Wrote 1325431876-bet_grus-0-1.fits via wget\n"
     ]
    }
   ],
   "source": [
    "filename = wget.download(wget_url)\n",
    "print('Grabbed/Wrote {} via wget'.format(filename))"
   ]
  },
  {
   "cell_type": "code",
   "execution_count": 235,
   "metadata": {},
   "outputs": [],
   "source": [
    "# Declare where data is located and where output will be written, notably the stacked images\n",
    "data_folder = Path(\"/home/saluser/develop/ts_notebooks/pingraham/summit_notebooks/AT_201909\")\n",
    "output_folder = Path(\"/home/saluser/data/output\")"
   ]
  },
  {
   "cell_type": "code",
   "execution_count": 236,
   "metadata": {},
   "outputs": [],
   "source": [
    "im=(fits.open(data_folder / filename))[0].data"
   ]
  },
  {
   "cell_type": "code",
   "execution_count": 237,
   "metadata": {},
   "outputs": [
    {
     "data": {
      "image/png": "[encoded data removed]",
      "text/plain": [
       "<Figure size 432x288 with 1 Axes>"
      ]
     },
     "metadata": {
      "needs_background": "light"
     },
     "output_type": "display_data"
    }
   ],
   "source": [
    "if True:\n",
    "    im_sub=im-np.median(im)\n",
    "    plt.imshow(im_sub)"
   ]
  },
  {
   "cell_type": "code",
   "execution_count": 238,
   "metadata": {},
   "outputs": [
    {
     "name": "stdout",
     "output_type": "stream",
     "text": [
      "14864\n",
      "centroid at y,x: 335 559\n",
      "subimage being made from ymin,ymax,xmin,xmax:235 435 459 659\n",
      "new centroid at y,x: 100 100\n"
     ]
    }
   ],
   "source": [
    "# Find star by convolution with gaussian, then grab the max\n",
    "tmp=gauss_filt(im,[5,5],mode='constant',cval=0)\n",
    "print(np.max(tmp))\n",
    "value=None\n",
    "ind=np.argmax(tmp)\n",
    "ind2d = np.unravel_index(ind,tmp.shape)\n",
    "print('centroid at y,x: {} {}'.format(ind2d[0],ind2d[1]))\n",
    "ind2d0=copy.deepcopy(ind2d)\n",
    "\n",
    "#ymin=1800 ; ymax=2048\n",
    "#xmin=280 ; xmax=450\n",
    "half_side=int(100)\n",
    "ymin = ind2d[0]-half_side if ind2d[0]-half_side > 0 else 0\n",
    "ymax = ind2d[0]+half_side if ind2d[0]+half_side < im.shape[0] else im.shape[1]\n",
    "xmin = ind2d[1]-half_side if ind2d[1]-half_side > 0 else 0\n",
    "xmax = ind2d[1]+half_side if ind2d[1]+half_side < im.shape[1] else im.shape[1]\n",
    "print('subimage being made from ymin,ymax,xmin,xmax:{} {} {} {}'.format(ymin,ymax,xmin,xmax))\n",
    "# new maximum at:\n",
    "ind=np.argmax(tmp[ymin:ymax,xmin:xmax])\n",
    "ind2d = np.unravel_index(ind,tmp[ymin:ymax,xmin:xmax].shape)\n",
    "print('new centroid at y,x: {} {}'.format(ind2d[0],ind2d[1]))"
   ]
  },
  {
   "cell_type": "code",
   "execution_count": 239,
   "metadata": {},
   "outputs": [
    {
     "name": "stdout",
     "output_type": "stream",
     "text": [
      "yoffset = 105.0 pixels\n",
      "xoffset = 23.0 pixels\n"
     ]
    }
   ],
   "source": [
    "im.shape\n",
    "yoffset_pix=im.shape[0]/2 - ind2d0[0]\n",
    "xoffset_pix=im.shape[1]/2 - ind2d0[1]\n",
    "print('yoffset = {} pixels'.format(yoffset_pix))\n",
    "print('xoffset = {} pixels'.format(xoffset_pix))"
   ]
  },
  {
   "cell_type": "code",
   "execution_count": 240,
   "metadata": {},
   "outputs": [
    {
     "name": "stdout",
     "output_type": "stream",
     "text": [
      "yoffset is 15.12 arcsec\n",
      "xoffset is 3.312 arcsec\n"
     ]
    }
   ],
   "source": [
    "binning=4\n",
    "plate_scale = 0.1 *1000 # um/arcsec\n",
    "pix_scl = 3.6*binning # um/pix\n",
    "\n",
    "yoffset_as = yoffset_pix * pix_scl / plate_scale\n",
    "xoffset_as = xoffset_pix * pix_scl / plate_scale\n",
    "print('yoffset is {} arcsec'.format(yoffset_as))\n",
    "print('xoffset is {} arcsec'.format(xoffset_as))"
   ]
  },
  {
   "cell_type": "code",
   "execution_count": 241,
   "metadata": {},
   "outputs": [
    {
     "name": "stdout",
     "output_type": "stream",
     "text": [
      "18584.0\n"
     ]
    },
    {
     "data": {
      "image/png": "[encoded data removed]",
      "text/plain": [
       "<Figure size 432x288 with 1 Axes>"
      ]
     },
     "metadata": {
      "needs_background": "light"
     },
     "output_type": "display_data"
    }
   ],
   "source": [
    "im_sub=im[ymin:ymax,xmin:xmax]\n",
    "im_sub=im_sub-np.median(im_sub)\n",
    "plt.imshow(im_sub)\n",
    "print(np.nanmax(im_sub))"
   ]
  },
  {
   "cell_type": "code",
   "execution_count": 198,
   "metadata": {},
   "outputs": [
    {
     "name": "stdout",
     "output_type": "stream",
     "text": [
      "100\n",
      "100\n"
     ]
    },
    {
     "data": {
      "text/plain": [
       "Text(0.5, 1.0, 'Residual')"
      ]
     },
     "execution_count": 198,
     "metadata": {},
     "output_type": "execute_result"
    },
    {
     "data": {
      "image/png": "[encoded data removed]",
      "text/plain": [
       "<Figure size 648x360 with 3 Axes>"
      ]
     },
     "metadata": {
      "needs_background": "light"
     },
     "output_type": "display_data"
    }
   ],
   "source": [
    "# Generate x,y,z data\n",
    "y, x = np.mgrid[:im_sub.shape[0], :im_sub.shape[1]]\n",
    "print(y[ind2d])\n",
    "print(x[ind2d])\n",
    "z=im_sub\n",
    "# Fit the data using astropy.modeling\n",
    "p_init = models.Gaussian2D(amplitude=np.nanmax(z),x_mean=x[ind2d], y_mean=y[ind2d], fixed={'theta':True})\n",
    "#p_init = models.Gaussian2D(amplitude=np.nanmax(z),x_mean=38, y_mean=51, x_stddev=3, y_stddev=3,  fixed={'theta':True})\n",
    "fit_p = fitting.LevMarLSQFitter()\n",
    "\n",
    "with warnings.catch_warnings():\n",
    "    # Ignore model linearity warning from the fitter\n",
    "    warnings.simplefilter('ignore')\n",
    "    p = fit_p(p_init, x, y, z)\n",
    "\n",
    "# Plot the data with the best-fit model\n",
    "plt.figure(figsize=(9, 5))\n",
    "plt.subplot(1, 3, 1)\n",
    "plt.imshow(z, origin='lower', interpolation='nearest')#, vmin=-1e4, vmax=5e4)\n",
    "plt.title(\"Data\")\n",
    "plt.subplot(1, 3, 2)\n",
    "plt.imshow(p(x, y), origin='lower', interpolation='nearest')#, vmin=-1e4, vmax=5e4)\n",
    "plt.title(\"Model\")\n",
    "plt.subplot(1, 3, 3)\n",
    "plt.imshow(z - p(x, y), origin='lower', interpolation='nearest')#, vmin=-1e4, vmax=5e4)\n",
    "plt.title(\"Residual\")"
   ]
  },
  {
   "cell_type": "code",
   "execution_count": 199,
   "metadata": {},
   "outputs": [
    {
     "data": {
      "text/plain": [
       "'<Gaussian2D(amplitude=15891.64143355, x_mean=108.27275112, y_mean=105.04175138, x_stddev=16.92543918, y_stddev=14.71998924, theta=0.)>'"
      ]
     },
     "execution_count": 199,
     "metadata": {},
     "output_type": "execute_result"
    }
   ],
   "source": [
    "repr(p)"
   ]
  },
  {
   "cell_type": "code",
   "execution_count": 200,
   "metadata": {},
   "outputs": [
    {
     "name": "stdout",
     "output_type": "stream",
     "text": [
      "1325429366-bet_grus-0-1.fits, 16.925439176728673, 14.719989238436273\n"
     ]
    }
   ],
   "source": [
    "print('{}, {}, {}'.format(psf_fname, p.x_stddev.value, p.y_stddev.value))"
   ]
  },
  {
   "cell_type": "code",
   "execution_count": null,
   "metadata": {},
   "outputs": [],
   "source": [
    "# hexapod Z, filename, xsttd, ystddev\n",
    "# 0.300, 1325429366-bet_grus-0-1.fits, 20.17756577291818, 18.49931466099071\n",
    "# 0.032, 1325429366-bet_grus-0-1.fits, 18.605872647081075, 14.995560001304131\n",
    "# 0.33, 1325429366-bet_grus-0-1.fits, 17.535626208313843, 15.471926526885643\n",
    "# 0.35, 1325429366-bet_grus-0-1.fits, 16.925439176728673, 14.719989238436273\n",
    "# 0.34, \n"
   ]
  },
  {
   "cell_type": "markdown",
   "metadata": {},
   "source": [
    "\n"
   ]
  },
  {
   "cell_type": "code",
   "execution_count": 42,
   "metadata": {},
   "outputs": [],
   "source": [
    "# Make an radial plot\n",
    "pix_index_1d_arr=np.arange(0,2*half_side,1)\n",
    "ones_array_2d=np.ones([2*half_side,2*half_side])\n",
    "#print(x_arr)\n",
    "#print(tmp)\n",
    "x_index_arr_2d=pix_index_1d_arr*ones_array_2d\n",
    "x_arr_2d=x_index_arr_2d - p.x_mean.value\n",
    "y_arr_2d= np.transpose(x_index_arr_2d) - p.y_mean.value\n",
    "# create array of radial distances (in pixels)\n",
    "r_arr_2d=np.sqrt(x_arr_2d**2 + y_arr_2d**2)"
   ]
  },
  {
   "cell_type": "code",
   "execution_count": 39,
   "metadata": {},
   "outputs": [],
   "source": [
    "if False:\n",
    "    plt.imshow(r_arr_2d)\n",
    "    plt.colorbar()"
   ]
  },
  {
   "cell_type": "code",
   "execution_count": 40,
   "metadata": {},
   "outputs": [],
   "source": [
    "r_arr_1d=np.reshape(r_arr_2d,(2*half_side)**2)\n",
    "values = np.reshape(z,(2*half_side)**2)"
   ]
  },
  {
   "cell_type": "code",
   "execution_count": 41,
   "metadata": {},
   "outputs": [
    {
     "data": {
      "image/png": "[encoded data removed]",
      "text/plain": [
       "<Figure size 432x288 with 1 Axes>"
      ]
     },
     "metadata": {
      "needs_background": "light"
     },
     "output_type": "display_data"
    }
   ],
   "source": [
    "if True:\n",
    "    plt.ylabel('Intensity (ADU)')\n",
    "    plt.plot(r_arr_1d, values,'.')\n",
    "    plt.title('Radial PSF')\n",
    "    plt.xlabel('radius [pix]')\n",
    "    plt.show()\n",
    "    plt.close()"
   ]
  },
  {
   "cell_type": "code",
   "execution_count": null,
   "metadata": {},
   "outputs": [],
   "source": []
  }
 ],
 "metadata": {
  "kernelspec": {
   "display_name": "LSST",
   "language": "python",
   "name": "lsst"
  },
  "language_info": {
   "codemirror_mode": {
    "name": "ipython",
    "version": 3
   },
   "file_extension": ".py",
   "mimetype": "text/x-python",
   "name": "python",
   "nbconvert_exporter": "python",
   "pygments_lexer": "ipython3",
   "version": "3.8.12"
  }
 },
 "nbformat": 4,
 "nbformat_minor": 4
}
