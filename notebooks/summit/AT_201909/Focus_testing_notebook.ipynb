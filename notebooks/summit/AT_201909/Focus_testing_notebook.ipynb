{
 "cells": [
  {
   "cell_type": "markdown",
   "metadata": {},
   "source": [
    "### Notebook to be used to perform manual focus testing using ACCS Images"
   ]
  },
  {
   "cell_type": "code",
   "execution_count": 4,
   "metadata": {},
   "outputs": [],
   "source": [
    "import numpy as np\n",
    "#from lsst.ts import salobj\n",
    "import asyncio\n",
    "from astropy.io import fits\n",
    "\n",
    "import warnings\n",
    "#import matplotlib.pyplot as plt  # imported as py above\n",
    "from astropy.modeling import models, fitting\n",
    "from scipy.ndimage.filters import gaussian_filter as gauss_filt\n",
    "from matplotlib import pyplot as plt\n",
    "\n",
    "import copy\n",
    "from pathlib import Path"
   ]
  },
  {
   "cell_type": "code",
   "execution_count": 5,
   "metadata": {},
   "outputs": [],
   "source": [
    "import numpy as np\n",
    "import logging\n",
    "logger = logging.getLogger('calc_CofM_logger')\n",
    "\n",
    "def calc_CofM(array, offset=(0,0)):\n",
    "    # Function takes a a 2d Array and computes the CofM\n",
    "    \n",
    "    # offset is the coordinate of the minimum y and x pixel\n",
    "    \n",
    "    \n",
    "    #just make it easier to parse the code below\n",
    "    shape=array.shape\n",
    "        \n",
    "    # Build 2d index arrays for calculations\n",
    "    pix_index_1d_arr=np.arange(0, shape[0], 1)+ offset[0]\n",
    "    ones_array_2d=np.ones([shape[1], shape[0]])\n",
    "    y_index_arr_2d=np.transpose(pix_index_1d_arr*ones_array_2d)\n",
    "    \n",
    "    # Can't just use the transpose of the y_index_arr_2d\n",
    "    # since we're supporting non-symmetrical arrays\n",
    "    pix_index_1d_arr=np.arange(0, shape[1], 1) + offset[1]\n",
    "    ones_array_2d=np.ones([shape[0], shape[1]])\n",
    "    # array will be left to right so need to transpose\n",
    "    x_index_arr_2d=pix_index_1d_arr*ones_array_2d\n",
    "\n",
    "    # Calculate the centroid\n",
    "    y_CofM = np.sum(y_index_arr_2d*array)/np.sum(array)\n",
    "    x_CofM = np.sum(x_index_arr_2d*array)/np.sum(array)\n",
    "    \n",
    "    logger.info('y_CofM is {}'.format(y_CofM))\n",
    "    logger.info('x_CofM is {}'.format(x_CofM))\n",
    "\n",
    "    return(y_CofM, x_CofM)"
   ]
  },
  {
   "cell_type": "code",
   "execution_count": 6,
   "metadata": {},
   "outputs": [],
   "source": [
    "# Generate a set of test data\n",
    "if False:\n",
    "    array_size=(3520, 4656)\n",
    "    psf_avg_pos = (array_size[0]/5.03, array_size[1]/3.05)\n",
    "    psf_avg_sigma = float(18) # sigma in pixels\n",
    "    max_pos_err= float(100.0) # maximum position random error in pixels\n",
    "    max_sigma_err = float(3) # maximum variation in sigma\n",
    "    amplitude = float(1000) #amplitude of gaussian\n",
    "    dark_curr = 100\n",
    "    n_frames = 11\n",
    "\n",
    "    # Generate x,y,z data, where z is generated in the loop\n",
    "    y, x = np.mgrid[:array_size[0], :array_size[1]]\n",
    "\n",
    "    for n in np.arange(0,n_frames):\n",
    "        # create base detector array\n",
    "        im0 = np.zeros((array_size))+dark_curr\n",
    "        # make Z array\n",
    "        z=copy.deepcopy(im0)\n",
    "\n",
    "        # put random offsets on parameters\n",
    "        xoffset = max_pos_err*np.random.random()\n",
    "        yoffset = max_pos_err*np.random.random()\n",
    "        stddev_offset = max_sigma_err*np.random.random()\n",
    "\n",
    "        # create data using astropy.modeling\n",
    "        psf = models.Gaussian2D.evaluate(x,y, amplitude=amplitude, x_mean=psf_avg_pos[1]+xoffset,\n",
    "                               y_mean=psf_avg_pos[0]+yoffset, \n",
    "                               x_stddev=psf_avg_sigma+stddev_offset,\n",
    "                               y_stddev=psf_avg_sigma+stddev_offset,\n",
    "                               theta=0.0)\n",
    "\n",
    "        #add shot noise\n",
    "        #psf+= (np.sqrt(psf)*np.random.randn(array_size[0], array_size[1]))\n",
    "\n",
    "        # Display image?\n",
    "        if False:\n",
    "            fig2, ax2 = plt.subplots(figsize=(7,6))\n",
    "            ax2.imshow(psf, interpolation='none')\n",
    "\n",
    "        # Write the fits files\n",
    "        hdu=None\n",
    "        hdu = fits.PrimaryHDU(psf)\n",
    "        hdul = fits.HDUList([hdu])\n",
    "        fname = '20190910-generated-psf'+str(n)+'.fits'\n",
    "        output_folder = Path(\"/home/saluser/data/20190910\")\n",
    "        print('writing psf file {}'.format(fname))\n",
    "        hdul.writeto(output_folder / fname, overwrite=True)"
   ]
  },
  {
   "cell_type": "code",
   "execution_count": 7,
   "metadata": {},
   "outputs": [
    {
     "data": {
      "text/plain": [
       "array([[0.54663126, 0.86904071]])"
      ]
     },
     "execution_count": 7,
     "metadata": {},
     "output_type": "execute_result"
    }
   ],
   "source": [
    "np.random.random((1,2))"
   ]
  },
  {
   "cell_type": "code",
   "execution_count": null,
   "metadata": {},
   "outputs": [],
   "source": []
  },
  {
   "cell_type": "code",
   "execution_count": 34,
   "metadata": {},
   "outputs": [],
   "source": [
    "# Declare where data is located and where output will be written, notably the stacked images\n",
    "data_folder = Path(\"/home/saluser/data/20190912\")\n",
    "output_folder = Path(\"/home/saluser/data/output\")\n",
    "\n",
    "# Raw image list from a manually made txt file\n",
    "file_to_open = data_folder / \"HD193896_focus_sweep0.dat\"\n",
    "tmp=file_to_open.read_text()\n",
    "image_fnames=tmp.split('\\n')\n",
    "for i,f in enumerate(image_fnames):\n",
    "    image_fnames[i]+='.fits'\n",
    "    \n",
    "# remove last line as it has just .fits\n",
    "image_fnames.remove(image_fnames[-1])"
   ]
  },
  {
   "cell_type": "code",
   "execution_count": 35,
   "metadata": {},
   "outputs": [
    {
     "data": {
      "text/plain": [
       "['1325426681-HD193896_z0.10_10s-0-3.fits',\n",
       " '1325426715-HD193896_z0.15_10s-0-3.fits',\n",
       " '1325426749-HD193896_z0.20_10s-0-3.fits',\n",
       " '1325426823-HD193896_z0.25_10s-0-3.fits',\n",
       " '1325426857-HD193896_z0.30_10s-0-3.fits',\n",
       " '1325426891-HD193896_z0.35_10s-0-3.fits']"
      ]
     },
     "execution_count": 35,
     "metadata": {},
     "output_type": "execute_result"
    }
   ],
   "source": [
    "image_fnames\n"
   ]
  },
  {
   "cell_type": "code",
   "execution_count": 14,
   "metadata": {},
   "outputs": [
    {
     "name": "stdout",
     "output_type": "stream",
     "text": [
      "Displaying image 20190910-generated-psf6.fits\n"
     ]
    },
    {
     "data": {
      "image/png": "[encoded data removed]",
      "text/plain": [
       "<Figure size 504x432 with 1 Axes>"
      ]
     },
     "metadata": {
      "needs_background": "light"
     },
     "output_type": "display_data"
    },
    {
     "data": {
      "image/png": "[encoded data removed]",
      "text/plain": [
       "<Figure size 504x432 with 1 Axes>"
      ]
     },
     "metadata": {
      "needs_background": "light"
     },
     "output_type": "display_data"
    },
    {
     "data": {
      "image/png": "[encoded data removed]",
      "text/plain": [
       "<Figure size 504x432 with 1 Axes>"
      ]
     },
     "metadata": {
      "needs_background": "light"
     },
     "output_type": "display_data"
    }
   ],
   "source": [
    "# declare size of image array\n",
    "img_size=(3520, 4656) # y,x\n",
    "\n",
    "# Declare center of first image (guess)\n",
    "center_of_ref=(710, 1500)\n",
    "logger.info('Center of image 0 is set as: {}'.format(center_of_ref))\n",
    "\n",
    "# Declare sub-array size for centroiding\n",
    "side=None\n",
    "side=300\n",
    "#Declare array for final doughnut\n",
    "stacked_PSF = np.zeros((2*side, 2*side), dtype=float)\n",
    "\n",
    "#Loop over all files in list\n",
    "for i,fname in enumerate(image_fnames):\n",
    "    \n",
    "    with fits.open(data_folder / fname) as hdul0:\n",
    "        logger.info(\"Processing file {}\".format(fname))\n",
    "        # data is [y,x]\n",
    "\n",
    "        #raw_frame = circle\n",
    "        raw_frame = copy.deepcopy(hdul0[0].data)\n",
    "        #raw_frame[raw_frame<1e-2]=0\n",
    "        \n",
    "        # Create subimage\n",
    "        d0=raw_frame[center_of_ref[0]-side:center_of_ref[0]+side, \n",
    "                        center_of_ref[1]-side:center_of_ref[1]+side].copy()\n",
    "        \n",
    "        #convert to float\n",
    "        d1=copy.deepcopy(d0.astype(float))\n",
    "        logger.debug('shape of d1: {}'.format(d1.shape))\n",
    "\n",
    "        # subtract median background... which should do nothing to the centroid\n",
    "        #d1= d0- np.median(d0)\n",
    "        #d1 = copy.deepcopy(d0)\n",
    "        #d_full=hdul0[0].data\n",
    "        \n",
    "        #boxcar smooth to remove hot pixels\n",
    "        #d = ndimage.median_filter(d1, size=15)\n",
    "        d = copy.deepcopy(d1)\n",
    "        \n",
    "        # Measure centroid (CofM) with corner reference \n",
    "        # FIX ME: DON\"T KNOW WHY THIS DOESN'T WORK\n",
    "        #corner=np.array(center_of_ref)-side\n",
    "        #d_CofM = calc_CofM(d, corner) # y,x is 3179,923 (add y=20 gives 3160,923)\n",
    "        #print('Corner coor d_CofM {}'.format(d_CofM))\n",
    "        \n",
    "        # Measure centroid (CofM)        \n",
    "        #now without the reference\n",
    "        d_CofM = np.array(calc_CofM(d)) # y,x i\n",
    "        logger.debug('No corner correction d_CofM as calculated {}'.format(d_CofM))\n",
    "    \n",
    "        yoffset_to_center_of_ref = (d_CofM[0]-side)\n",
    "        xoffset_to_center_of_ref = (d_CofM[1]-side)\n",
    "        logger.debug('yoffset: {}'.format(yoffset_to_center_of_ref))\n",
    "        logger.debug('xoffset: {}'.format(xoffset_to_center_of_ref))\n",
    "\n",
    "        new_center = np.array((center_of_ref[0]+yoffset_to_center_of_ref,\n",
    "                     center_of_ref[1]+xoffset_to_center_of_ref), dtype=int)\n",
    "        \n",
    "        logger.debug('new center is: {}'.format(new_center))\n",
    "        \n",
    "        # Create new stamp at CofM\n",
    "        #del stamp\n",
    "        stamp=raw_frame[new_center[0]-side:new_center[0]+side, \n",
    "                        new_center[1]-side:new_center[1]+side].copy()\n",
    "        \n",
    "        # Add it to the stack of doughnuts\n",
    "        stacked_PSF+=stamp\n",
    "  \n",
    "        # Take the new center and use it as first guess at\n",
    "        # position for next image\n",
    "        center_of_ref = copy.deepcopy(new_center)\n",
    "        \n",
    "        # Display Imagefor troubleshooting (or finding first center)\n",
    "        if i >= 7 and True: #7 is problematic\n",
    "            mag=1\n",
    "            print('Displaying image {}'.format(fname))\n",
    "            #plt.rcParams['figure.figsize'] = [7*mag, 6*mag]\n",
    "            #plt.imshow(d)\n",
    "            \n",
    "            fig, ax = plt.subplots(figsize=(7,6))\n",
    "\n",
    "            ax.imshow(d, interpolation='none')#, extent=[center_of_ref[1]+side,\n",
    "                                              #       center_of_ref[1]-side, \n",
    "                                              #       center_of_ref[0]+side,\n",
    "                                              #       center_of_ref[0]-side])\n",
    "            \n",
    "            fig2, ax2 = plt.subplots(figsize=(7,6))\n",
    "            ax2.imshow(stamp, interpolation='none')\n",
    "            \n",
    "            fig3, ax3 = plt.subplots(figsize=(7,6))\n",
    "            ax3.imshow(stacked_PSF, interpolation='none')\n",
    "            \n",
    "            # show full frame\n",
    "            #fig, ax = plt.subplots(figsize=(7,6))\n",
    "            #ax.imshow(d_full, interpolation='none')\n",
    "            \n",
    "            break"
   ]
  },
  {
   "cell_type": "code",
   "execution_count": null,
   "metadata": {},
   "outputs": [],
   "source": []
  },
  {
   "cell_type": "code",
   "execution_count": 15,
   "metadata": {},
   "outputs": [
    {
     "data": {
      "text/plain": [
       "<matplotlib.image.AxesImage at 0x7ff72e0d3650>"
      ]
     },
     "execution_count": 15,
     "metadata": {},
     "output_type": "execute_result"
    },
    {
     "data": {
      "image/png": "[encoded data removed]",
      "text/plain": [
       "<Figure size 504x432 with 1 Axes>"
      ]
     },
     "metadata": {
      "needs_background": "light"
     },
     "output_type": "display_data"
    }
   ],
   "source": [
    "# Show final stacked doughnut\n",
    "fig4, ax4 = plt.subplots(figsize=(7,6))\n",
    "ax4.imshow(stacked_PSF, interpolation='none')"
   ]
  },
  {
   "cell_type": "code",
   "execution_count": null,
   "metadata": {},
   "outputs": [],
   "source": []
  },
  {
   "cell_type": "code",
   "execution_count": 17,
   "metadata": {},
   "outputs": [
    {
     "name": "stdout",
     "output_type": "stream",
     "text": [
      "writing stacked PSF file PSF_20190908.fits\n"
     ]
    }
   ],
   "source": [
    "#Write fits files (if you want)\n",
    "stacked_fname='PSF_20190908.fits'\n",
    "\n",
    "if True:\n",
    "    hdu=None\n",
    "    hdu = fits.PrimaryHDU(stacked_PSF)\n",
    "    hdul = fits.HDUList([hdu])\n",
    "    print('writing stacked PSF file {}'.format(stacked_fname))\n",
    "    hdul.writeto(output_folder / stacked_fname, overwrite=False)"
   ]
  },
  {
   "cell_type": "code",
   "execution_count": null,
   "metadata": {},
   "outputs": [],
   "source": []
  },
  {
   "cell_type": "code",
   "execution_count": 79,
   "metadata": {},
   "outputs": [],
   "source": [
    "# Open fits files, note you can start here if your files exist already\n",
    "#psf_fname = stacked_fname\n",
    "#im=(fits.open(output_folder / psf_fname))[0].data\n",
    "\n",
    "psf_fname=image_fnames[5]\n",
    "im=(fits.open(data_folder / psf_fname))[0].data"
   ]
  },
  {
   "cell_type": "code",
   "execution_count": null,
   "metadata": {},
   "outputs": [],
   "source": []
  },
  {
   "cell_type": "code",
   "execution_count": 80,
   "metadata": {},
   "outputs": [
    {
     "data": {
      "image/png": "[encoded data removed]",
      "text/plain": [
       "<Figure size 432x288 with 1 Axes>"
      ]
     },
     "metadata": {
      "needs_background": "light"
     },
     "output_type": "display_data"
    }
   ],
   "source": [
    "if True:\n",
    "    im_sub=im-np.median(im)\n",
    "    plt.imshow(im_sub)"
   ]
  },
  {
   "cell_type": "code",
   "execution_count": 81,
   "metadata": {},
   "outputs": [
    {
     "name": "stdout",
     "output_type": "stream",
     "text": [
      "44954\n",
      "centroid at y,x: 513 462\n",
      "subimage being made from ymin,ymax,xmin,xmax:413 613 362 562\n",
      "new centroid at y,x: 100 100\n"
     ]
    }
   ],
   "source": [
    "# Find star by convolution with gaussian, then grab the max\n",
    "tmp=gauss_filt(im,[5,5],mode='constant',cval=0)\n",
    "print(np.max(tmp))\n",
    "value=None\n",
    "ind=np.argmax(tmp)\n",
    "ind2d = np.unravel_index(ind,tmp.shape)\n",
    "print('centroid at y,x: {} {}'.format(ind2d[0],ind2d[1]))\n",
    "\n",
    "#ymin=1800 ; ymax=2048\n",
    "#xmin=280 ; xmax=450\n",
    "half_side=int(100)\n",
    "ymin = ind2d[0]-half_side if ind2d[0]-half_side > 0 else 0\n",
    "ymax = ind2d[0]+half_side if ind2d[0]+half_side < im.shape[0] else im.shape[1]\n",
    "xmin = ind2d[1]-half_side if ind2d[1]-half_side > 0 else 0\n",
    "xmax = ind2d[1]+half_side if ind2d[1]+half_side < im.shape[1] else im.shape[1]\n",
    "print('subimage being made from ymin,ymax,xmin,xmax:{} {} {} {}'.format(ymin,ymax,xmin,xmax))\n",
    "# new maximum at:\n",
    "ind=np.argmax(tmp[ymin:ymax,xmin:xmax])\n",
    "ind2d = np.unravel_index(ind,tmp[ymin:ymax,xmin:xmax].shape)\n",
    "print('new centroid at y,x: {} {}'.format(ind2d[0],ind2d[1]))"
   ]
  },
  {
   "cell_type": "code",
   "execution_count": 82,
   "metadata": {},
   "outputs": [
    {
     "data": {
      "text/plain": [
       "<matplotlib.image.AxesImage at 0x7f61ecf8dd10>"
      ]
     },
     "execution_count": 82,
     "metadata": {},
     "output_type": "execute_result"
    },
    {
     "data": {
      "image/png": "[encoded data removed]",
      "text/plain": [
       "<Figure size 432x288 with 1 Axes>"
      ]
     },
     "metadata": {
      "needs_background": "light"
     },
     "output_type": "display_data"
    }
   ],
   "source": [
    "im_sub=im[ymin:ymax,xmin:xmax]\n",
    "im_sub=im_sub-np.median(im_sub)\n",
    "plt.imshow(im_sub)\n"
   ]
  },
  {
   "cell_type": "code",
   "execution_count": 83,
   "metadata": {},
   "outputs": [
    {
     "name": "stdout",
     "output_type": "stream",
     "text": [
      "100\n",
      "100\n"
     ]
    },
    {
     "data": {
      "text/plain": [
       "Text(0.5, 1.0, 'Residual')"
      ]
     },
     "execution_count": 83,
     "metadata": {},
     "output_type": "execute_result"
    },
    {
     "data": {
      "image/png": "[encoded data removed]",
      "text/plain": [
       "<Figure size 648x360 with 3 Axes>"
      ]
     },
     "metadata": {
      "needs_background": "light"
     },
     "output_type": "display_data"
    }
   ],
   "source": [
    "# Generate x,y,z data\n",
    "y, x = np.mgrid[:im_sub.shape[0], :im_sub.shape[1]]\n",
    "print(y[ind2d])\n",
    "print(x[ind2d])\n",
    "z=im_sub\n",
    "# Fit the data using astropy.modeling\n",
    "p_init = models.Gaussian2D(amplitude=np.nanmax(z),x_mean=x[ind2d], y_mean=y[ind2d], fixed={'theta':True})\n",
    "#p_init = models.Gaussian2D(amplitude=np.nanmax(z),x_mean=38, y_mean=51, x_stddev=3, y_stddev=3,  fixed={'theta':True})\n",
    "fit_p = fitting.LevMarLSQFitter()\n",
    "\n",
    "with warnings.catch_warnings():\n",
    "    # Ignore model linearity warning from the fitter\n",
    "    warnings.simplefilter('ignore')\n",
    "    p = fit_p(p_init, x, y, z)\n",
    "\n",
    "# Plot the data with the best-fit model\n",
    "plt.figure(figsize=(9, 5))\n",
    "plt.subplot(1, 3, 1)\n",
    "plt.imshow(z, origin='lower', interpolation='nearest')#, vmin=-1e4, vmax=5e4)\n",
    "plt.title(\"Data\")\n",
    "plt.subplot(1, 3, 2)\n",
    "plt.imshow(p(x, y), origin='lower', interpolation='nearest')#, vmin=-1e4, vmax=5e4)\n",
    "plt.title(\"Model\")\n",
    "plt.subplot(1, 3, 3)\n",
    "plt.imshow(z - p(x, y), origin='lower', interpolation='nearest')#, vmin=-1e4, vmax=5e4)\n",
    "plt.title(\"Residual\")"
   ]
  },
  {
   "cell_type": "code",
   "execution_count": 84,
   "metadata": {},
   "outputs": [
    {
     "data": {
      "text/plain": [
       "'<Gaussian2D(amplitude=56136.7412369, x_mean=101.69399475, y_mean=100.67235508, x_stddev=9.17725095, y_stddev=9.38806965, theta=0.)>'"
      ]
     },
     "execution_count": 84,
     "metadata": {},
     "output_type": "execute_result"
    }
   ],
   "source": [
    "repr(p)"
   ]
  },
  {
   "cell_type": "code",
   "execution_count": 78,
   "metadata": {},
   "outputs": [
    {
     "name": "stdout",
     "output_type": "stream",
     "text": [
      "1325426857-HD193896_z0.30_10s-0-3.fits, 8.787345733187014, 8.68808705153245\n"
     ]
    }
   ],
   "source": [
    "print('{}, {}, {}'.format(psf_fname, p.x_stddev.value, p.y_stddev.value))"
   ]
  },
  {
   "cell_type": "code",
   "execution_count": null,
   "metadata": {},
   "outputs": [],
   "source": [
    "#1325426681-HD193896_z0.10_10s-0-3.fits, 7.909535652568106, 7.415938904684992\n",
    "#1325426715-HD193896_z0.15_10s-0-3.fits, 7.0362664260724195, 7.077225535220662\n",
    "#1325426749-HD193896_z0.20_10s-0-3.fits, 8.373154192884762, 6.855650132070028\n",
    "#1325426823-HD193896_z0.25_10s-0-3.fits, 8.546413036571328, 7.339744233839437\n",
    "#1325426857-HD193896_z0.30_10s-0-3.fits, 8.787345733187014, 8.68808705153245\n"
   ]
  },
  {
   "cell_type": "markdown",
   "metadata": {},
   "source": [
    "\n"
   ]
  },
  {
   "cell_type": "code",
   "execution_count": 42,
   "metadata": {},
   "outputs": [],
   "source": [
    "# Make an radial plot\n",
    "pix_index_1d_arr=np.arange(0,2*half_side,1)\n",
    "ones_array_2d=np.ones([2*half_side,2*half_side])\n",
    "#print(x_arr)\n",
    "#print(tmp)\n",
    "x_index_arr_2d=pix_index_1d_arr*ones_array_2d\n",
    "x_arr_2d=x_index_arr_2d - p.x_mean.value\n",
    "y_arr_2d= np.transpose(x_index_arr_2d) - p.y_mean.value\n",
    "# create array of radial distances (in pixels)\n",
    "r_arr_2d=np.sqrt(x_arr_2d**2 + y_arr_2d**2)"
   ]
  },
  {
   "cell_type": "code",
   "execution_count": 39,
   "metadata": {},
   "outputs": [],
   "source": [
    "if False:\n",
    "    plt.imshow(r_arr_2d)\n",
    "    plt.colorbar()"
   ]
  },
  {
   "cell_type": "code",
   "execution_count": 40,
   "metadata": {},
   "outputs": [],
   "source": [
    "r_arr_1d=np.reshape(r_arr_2d,(2*half_side)**2)\n",
    "values = np.reshape(z,(2*half_side)**2)"
   ]
  },
  {
   "cell_type": "code",
   "execution_count": 41,
   "metadata": {},
   "outputs": [
    {
     "data": {
      "image/png": "[encoded data removed]",
      "text/plain": [
       "<Figure size 432x288 with 1 Axes>"
      ]
     },
     "metadata": {
      "needs_background": "light"
     },
     "output_type": "display_data"
    }
   ],
   "source": [
    "if True:\n",
    "    plt.ylabel('Intensity (ADU)')\n",
    "    plt.plot(r_arr_1d, values,'.')\n",
    "    plt.title('Radial PSF')\n",
    "    plt.xlabel('radius [pix]')\n",
    "    plt.show()\n",
    "    plt.close()"
   ]
  },
  {
   "cell_type": "code",
   "execution_count": null,
   "metadata": {},
   "outputs": [],
   "source": []
  }
 ],
 "metadata": {
  "kernelspec": {
   "display_name": "Python 3",
   "language": "python",
   "name": "python3"
  },
  "language_info": {
   "codemirror_mode": {
    "name": "ipython",
    "version": 3
   },
   "file_extension": ".py",
   "mimetype": "text/x-python",
   "name": "python",
   "nbconvert_exporter": "python",
   "pygments_lexer": "ipython3",
   "version": "3.7.4"
  }
 },
 "nbformat": 4,
 "nbformat_minor": 4
}
