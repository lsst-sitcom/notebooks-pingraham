{
 "cells": [
  {
   "cell_type": "code",
   "execution_count": 1,
   "metadata": {
    "collapsed": true
   },
   "outputs": [],
   "source": [
    "import logging\n",
    "import yaml\n",
    "import asyncio\n",
    "\n",
    "import numpy as np\n",
    "import astropy.units as u\n",
    "from astropy.time import Time\n",
    "from astropy.coordinates import AltAz, ICRS, EarthLocation, Angle\n",
    "\n",
    "from lsst.ts import salobj\n",
    "from lsst.ts.standardscripts.auxtel import ATTCS\n",
    "\n",
    "import SALPY_ATPtg"
   ]
  },
  {
   "cell_type": "code",
   "execution_count": 2,
   "metadata": {
    "collapsed": true
   },
   "outputs": [],
   "source": [
    "import matplotlib.pyplot as plt\n",
    "%matplotlib inline"
   ]
  },
  {
   "cell_type": "code",
   "execution_count": 3,
   "metadata": {
    "collapsed": true
   },
   "outputs": [],
   "source": [
    "# Brings up remotes \n",
    "attcs = ATTCS()"
   ]
  },
  {
   "cell_type": "code",
   "execution_count": 4,
   "metadata": {
    "collapsed": true
   },
   "outputs": [],
   "source": [
    "# attcs.log.setLevel(logging.DEBUG)"
   ]
  },
  {
   "cell_type": "code",
   "execution_count": 239,
   "metadata": {},
   "outputs": [
    {
     "data": {
      "text/plain": [
       "<State.ENABLED: 2>"
      ]
     },
     "execution_count": 239,
     "metadata": {},
     "output_type": "execute_result"
    }
   ],
   "source": [
    "salobj.State(attcs.atpneumatics.evt_summaryState.get().summaryState)"
   ]
  },
  {
   "cell_type": "code",
   "execution_count": 297,
   "metadata": {},
   "outputs": [],
   "source": [
    "await salobj.set_summary_state(attcs.atpneumatics, salobj.State.STANDBY, timeout=60)"
   ]
  },
  {
   "cell_type": "code",
   "execution_count": null,
   "metadata": {
    "collapsed": true
   },
   "outputs": [],
   "source": [
    "for c in attcs.components():\n",
    "    r = getattr(attcs, c.lower())\n",
    "    state_topic = await r.evt_summaryState.next(flush=False, timeout=5.)\n",
    "    state = salobj.State(state_topic.summaryState)\n",
    "    print(f\"{c}::{state!r}\")"
   ]
  },
  {
   "cell_type": "code",
   "execution_count": null,
   "metadata": {},
   "outputs": [],
   "source": [
    "state_topic = await attcs.atpneumatics.evt_summaryState.next(flush=False, timeout=5.)\n",
    "state = salobj.State(state_topic.summaryState)\n",
    "print(f\"{attcs.atpneumatics.salinfo.name}::{state!r}\")"
   ]
  },
  {
   "cell_type": "code",
   "execution_count": null,
   "metadata": {},
   "outputs": [],
   "source": [
    "await attcs.atpneumatics.cmd_start.start(timeout=300)"
   ]
  },
  {
   "cell_type": "code",
   "execution_count": null,
   "metadata": {},
   "outputs": [],
   "source": [
    "await attcs.atpneumatics.cmd_enable.start(timeout=300)"
   ]
  },
  {
   "cell_type": "code",
   "execution_count": null,
   "metadata": {},
   "outputs": [],
   "source": [
    "await attcs.atpneumatics.cmd_openMasterAirSupply.start(timeout=300)"
   ]
  },
  {
   "cell_type": "code",
   "execution_count": 325,
   "metadata": {},
   "outputs": [
    {
     "data": {
      "text/plain": [
       "CommandIdAck(cmd_id=1564155809, ack=(ack=303, error=0, result='Ok'))"
      ]
     },
     "execution_count": 325,
     "metadata": {},
     "output_type": "execute_result"
    }
   ],
   "source": [
    "#await attcs.atpneumatics.cmd_openM1CellVents.start(timeout=10)\n",
    "await attcs.atpneumatics.cmd_closeM1CellVents.start(timeout=10)"
   ]
  },
  {
   "cell_type": "code",
   "execution_count": null,
   "metadata": {},
   "outputs": [],
   "source": [
    "await attcs.atpneumatics.cmd_openInstrumentAirValve.start(timeout=300)"
   ]
  },
  {
   "cell_type": "code",
   "execution_count": 199,
   "metadata": {
    "collapsed": true
   },
   "outputs": [
    {
     "data": {
      "text/plain": [
       "CommandIdAck(cmd_id=1564481722, ack=(ack=303, error=0, result='Ok'))"
      ]
     },
     "execution_count": 199,
     "metadata": {},
     "output_type": "execute_result"
    }
   ],
   "source": [
    "await attcs.atpneumatics.cmd_m1OpenAirValve.start()\n",
    "#await attcs.atpneumatics.cmd_m1CloseAirValve.start()"
   ]
  },
  {
   "cell_type": "code",
   "execution_count": 200,
   "metadata": {
    "collapsed": true
   },
   "outputs": [
    {
     "data": {
      "text/plain": [
       "False"
      ]
     },
     "execution_count": 200,
     "metadata": {},
     "output_type": "execute_result"
    }
   ],
   "source": [
    "#attcs.atpneumatics.cmd_m1SetPressure.set(pressure=0.1)\n",
    "#attcs.atpneumatics.cmd_m1SetPressure.set(pressure=9.18799152e+04) # \n",
    "attcs.atpneumatics.cmd_m1SetPressure.set(pressure=500.0) # "
   ]
  },
  {
   "cell_type": "code",
   "execution_count": 201,
   "metadata": {
    "collapsed": true
   },
   "outputs": [
    {
     "data": {
      "text/plain": [
       "CommandIdAck(cmd_id=1564514560, ack=(ack=303, error=0, result='Ok'))"
      ]
     },
     "execution_count": 201,
     "metadata": {},
     "output_type": "execute_result"
    }
   ],
   "source": [
    "await attcs.atpneumatics.cmd_m1SetPressure.start()"
   ]
  },
  {
   "cell_type": "code",
   "execution_count": 296,
   "metadata": {
    "collapsed": true
   },
   "outputs": [
    {
     "data": {
      "text/plain": [
       "CommandIdAck(cmd_id=1564252341, ack=(ack=303, error=0, result='Ok'))"
      ]
     },
     "execution_count": 296,
     "metadata": {},
     "output_type": "execute_result"
    }
   ],
   "source": [
    "await attcs.atpneumatics.cmd_closeM1Cover.start()"
   ]
  },
  {
   "cell_type": "markdown",
   "metadata": {},
   "source": [
    "# Measure maximum load on cell at a specified altitude"
   ]
  },
  {
   "cell_type": "code",
   "execution_count": 6,
   "metadata": {
    "collapsed": true
   },
   "outputs": [],
   "source": [
    "class MeasureM1Pressure():\n",
    "    \n",
    "    def __init__(self, attcs):\n",
    "        \n",
    "        self.attcs = attcs\n",
    "        self.elevation = np.array([])\n",
    "        self.pressure = np.array([])\n",
    "        self.load_off = np.array([])\n",
    "        self.max_load = np.array([])\n",
    "        self.min_load = np.array([])\n",
    "        \n",
    "        self.min_allowed_load = 120.\n",
    "        self.optimum_fraction = 1./3.\n",
    "        self.tolerance = 0.01\n",
    "        \n",
    "    async def get_load(self, n=10):\n",
    "        \n",
    "        load_measures = np.zeros(n)\n",
    "        for i in range(n):\n",
    "            load = await self.attcs.atpneumatics.tel_loadCell.next(flush=True, timeout=2)\n",
    "            load_measures[i] = load.cellLoad\n",
    "            \n",
    "        return np.mean(load_measures), np.std(load_measures)\n",
    "    \n",
    "    async def get_pressure(self, n=10):\n",
    "        # Averages 10 pressure measurements\n",
    "        pressure_measures = np.zeros(n)\n",
    "        for i in range(n):\n",
    "            topic = await self.attcs.atpneumatics.tel_m1AirPressure.next(flush=True, timeout=3)\n",
    "            pressure_measures[i] = topic.pressure\n",
    "            \n",
    "        #return np.mean(pressure_measures)*u.Pa\n",
    "        return np.mean(pressure_measures)*u.Pa, np.std(pressure_measures)*u.Pa  \n",
    "\n",
    "    async def measure_optimum_pressure(self):\n",
    "        \n",
    "        attcs = self.attcs\n",
    "        \n",
    "        encoders = attcs.atmcs.tel_mountEncoders.get()\n",
    "        \n",
    "        await attcs.atpneumatics.cmd_m1CloseAirValve.start()\n",
    "        await asyncio.sleep(5.)\n",
    "        \n",
    "        closed_air_load, closed_air_load_std = await self.get_load()\n",
    "        \n",
    "        optimum_load = closed_air_load * self.optimum_fraction\n",
    "\n",
    "        print(f\"Optimum load [N]: {optimum_load}\")\n",
    "        \n",
    "        await attcs.atpneumatics.cmd_m1OpenAirValve.start()    \n",
    "\n",
    "        attcs.atpneumatics.cmd_m1SetPressure.set(pressure=0.1)\n",
    "        self.attcs.atpneumatics.evt_m1SetPressure.flush()\n",
    "        await attcs.atpneumatics.cmd_m1SetPressure.start()\n",
    "        # should put a wait in here.. takes a couple seconds to adjust/settle\n",
    "        try:\n",
    "            sp = await self.attcs.atpneumatics.evt_m1SetPressure.next(flush=False, timeout=30)\n",
    "        except asyncio.TimeoutError:\n",
    "            pass\n",
    "\n",
    "        min_pressure, min_pressure_std = await self.get_pressure()\n",
    "\n",
    "        print(f\"Minimum pressure [Pa] (mean, std): [{min_pressure}, {min_pressure_std}]\")\n",
    "\n",
    "#         max_pressure = 15.*np.sin(np.radians(encoders.elevationCalculatedAngle))*u.imperial.psi\n",
    "# Where does this come from? The min pressure here is essentially zero always.\n",
    "# and what is the 9?\n",
    "        max_pressure = 9. * np.sin(np.radians(encoders.elevationCalculatedAngle)) * min_pressure\n",
    "\n",
    "        print(f\"Maximum pressure [Pa]: {max_pressure.to(u.Pa)}\")\n",
    "\n",
    "        print(f\"Max/Min pressure: {max_pressure.to(u.Pa)/min_pressure}\")\n",
    "\n",
    "        max_load, max_load_std = await self.get_load()  # Max load is with minumum pressure \n",
    "\n",
    "        print(f\"Max load [N] (mean, std): [{max_load}, {max_load_std}]\")\n",
    "        \n",
    "#         if max_load > optimum_load:\n",
    "#             print(f\"Max load larger then optimum. Operation complete.\")\n",
    "#             self.elevation = np.append(self.elevation, encoders.elevationCalculatedAngle)\n",
    "#             self.pressure = np.append(self.pressure, min_pressure)\n",
    "#             return \n",
    "\n",
    "        attcs.atpneumatics.cmd_m1SetPressure.set(pressure=max_pressure.to(u.Pa).value)\n",
    "        self.attcs.atpneumatics.evt_m1SetPressure.flush()\n",
    "        await attcs.atpneumatics.cmd_m1SetPressure.start()\n",
    "        try:\n",
    "            sp = await self.attcs.atpneumatics.evt_m1SetPressure.next(flush=False, timeout=120)\n",
    "        except asyncio.TimeoutError:\n",
    "            pass\n",
    "\n",
    "        measured_pressure, measured_pressure_std = await self.get_pressure()\n",
    "\n",
    "        min_load, min_load_std = await self.get_load()\n",
    "        \n",
    "        if min_load < self.min_allowed_load:\n",
    "#             attcs.atpneumatics.cmd_m1SetPressure.set(pressure=0.1)\n",
    "#             await attcs.atpneumatics.cmd_m1SetPressure.start()\n",
    "            print(f\"Min load {min_load} to small {self.min_allowed_load}. \")\n",
    "#             return \n",
    "            \n",
    "        print(f\"Min load [Pa] (mean, std): ({min_load}, {min_load_std})\")\n",
    "\n",
    "        init_pressure = (min_pressure+max_pressure.to(u.Pa))/2.\n",
    "        print(f\"Init pressure: {init_pressure} ({init_pressure/max_pressure.to(u.Pa)})\")\n",
    "\n",
    "        attcs.atpneumatics.cmd_m1SetPressure.set(pressure=init_pressure.to(u.Pa).value)\n",
    "        self.attcs.atpneumatics.evt_m1SetPressure.flush()\n",
    "        await attcs.atpneumatics.cmd_m1SetPressure.start()\n",
    "        try:\n",
    "            sp = await self.attcs.atpneumatics.evt_m1SetPressure.next(flush=False, timeout=30)\n",
    "        except asyncio.TimeoutError:\n",
    "            pass\n",
    "\n",
    "        niter = 0\n",
    "        max_iter = 11\n",
    "        success = True\n",
    "\n",
    "        # You did this up there, why here too?\n",
    "        init_pressure = (min_pressure+max_pressure.to(u.Pa))/2.\n",
    "        print(f\"Init pressure: {init_pressure} ({init_pressure/max_pressure.to(u.Pa)})\")\n",
    "\n",
    "        attcs.atpneumatics.cmd_m1SetPressure.set(pressure=init_pressure.to(u.Pa).value)\n",
    "        self.attcs.atpneumatics.evt_m1SetPressure.flush()\n",
    "        await attcs.atpneumatics.cmd_m1SetPressure.start()\n",
    "        try:\n",
    "            sp = await self.attcs.atpneumatics.evt_m1SetPressure.next(flush=False, timeout=30)\n",
    "        except asyncio.TimeoutError:\n",
    "            pass\n",
    "\n",
    "        load, load_std = await self.get_load()\n",
    "        \n",
    "        print(\"****\")\n",
    "        print(f\"load: {load}\")\n",
    "        print(f\"Optimum load: {optimum_load}\")\n",
    "        delta = np.abs(load - optimum_load)/optimum_load\n",
    "        print(f\"{delta} > 0.1\")\n",
    "        print(\"****\")\n",
    "\n",
    "        \n",
    "        while delta > self.tolerance:\n",
    "            niter += 1\n",
    "            print(f\"Iter {niter}\")\n",
    "            print(f\"Dif: {load-optimum_load}\")\n",
    "\n",
    "            if load - optimum_load < 0.:\n",
    "                max_pressure = init_pressure\n",
    "            else:\n",
    "                min_pressure = init_pressure\n",
    "            init_pressure = (min_pressure+max_pressure)/2.\n",
    "            print(f\"Init pressure: {init_pressure} ({init_pressure/max_pressure.to(u.Pa)})\")\n",
    "\n",
    "            attcs.atpneumatics.cmd_m1SetPressure.set(pressure=init_pressure.to(u.Pa).value)\n",
    "            self.attcs.atpneumatics.evt_m1SetPressure.flush()\n",
    "            await attcs.atpneumatics.cmd_m1SetPressure.start()\n",
    "            try:\n",
    "                sp = await self.attcs.atpneumatics.evt_m1SetPressure.next(flush=False, timeout=30)\n",
    "            except asyncio.TimeoutError:\n",
    "                pass\n",
    "            \n",
    "            measured_pressure, measured_pressure_std = await self.get_pressure()\n",
    "            \n",
    "            print(f\"Set pressure: {init_pressure.to(u.Pa)}\")\n",
    "            print(f\"Measured pressure [Pa] (mean, std): ({measured_pressure}, {measured_pressure_std})\")\n",
    "            print(f\"Diff: {init_pressure.to(u.Pa).value-measured_pressure.to(u.Pa).value}\")\n",
    "\n",
    "            load, load_std = await self.get_load()\n",
    "\n",
    "            print(\"****\")\n",
    "            print(f\"load [Pa] (mean,std): ({load}, {load_std})\")\n",
    "            print(f\"Optimum load [Pa]: {optimum_load}\")\n",
    "            delta = np.abs(load - optimum_load)/optimum_load\n",
    "            print(f\"diff: {delta} | tol: {self.tolerance}\")\n",
    "            print(\"****\")\n",
    "            \n",
    "            \n",
    "\n",
    "            if niter > max_iter:\n",
    "                print(\"Failed\")\n",
    "                success = False\n",
    "                break\n",
    "\n",
    "        if success:\n",
    "            print(\"Success!\")\n",
    "            optimum_pressure, optimum_pressure_std = await self.get_pressure()\n",
    "            print(f\"Optimum pressure: {optimum_pressure} @ el {encoders.elevationCalculatedAngle}\")        \n",
    "            self.elevation = np.append(self.elevation, encoders.elevationCalculatedAngle)\n",
    "            self.pressure = np.append(self.pressure, optimum_pressure.to(u.Pa).value)    \n",
    "            \n",
    "        attcs.atpneumatics.cmd_m1SetPressure.set(pressure=0.1)\n",
    "        await attcs.atpneumatics.cmd_m1SetPressure.start()"
   ]
  },
  {
   "cell_type": "code",
   "execution_count": 7,
   "metadata": {
    "collapsed": true
   },
   "outputs": [],
   "source": [
    "#attcs = ATTCS()"
   ]
  },
  {
   "cell_type": "code",
   "execution_count": 8,
   "metadata": {
    "collapsed": true
   },
   "outputs": [],
   "source": [
    "mp = MeasureM1Pressure(attcs)\n",
    "mp.optimum_fraction = 1./3."
   ]
  },
  {
   "cell_type": "code",
   "execution_count": 332,
   "metadata": {},
   "outputs": [
    {
     "name": "stdout",
     "output_type": "stream",
     "text": [
      "Mirror mass [lbs]: 3.0010038610038614\n",
      "Desired Load at zenith [kg]: 14.720833333333333\n",
      "Desired Load at zenith [lbs]: 32.38583333333334\n",
      "Desired Load at current elevation 84.99999906597077 is [kg]: 43.99444829173049\n",
      "Desired Load at current elevation 84.99999906597077 is [lbs]: 96.7877862418071\n"
     ]
    }
   ],
   "source": [
    "#235/24.\n",
    "#353./3.\n",
    "# Mass of mirror is 353.3 kg\n",
    "mirror_mass = 353.3\n",
    "#  HARDPOINT SHOULD READ 259 LBS\n",
    "print(f\"Mirror mass [lbs]: {mirror_mass*2.2/259.}\")\n",
    "print(f'Desired Load at zenith [kg]: {mirror_mass/24.0}')\n",
    "print(f'Desired Load at zenith [lbs]: {mirror_mass/24.0*2.2}')\n",
    "elevation=(attcs.atmcs.tel_mountEncoders.get()).elevationCalculatedAngle\n",
    "adjusted_load=mirror_mass/24.0*np.sin(elevation*np.pi/180.)*3.\n",
    "print(f'Desired Load at current elevation {elevation} is [kg]: {adjusted_load}')\n",
    "print(f'Desired Load at current elevation {elevation} is [lbs]: {adjusted_load*2.2}')\n",
    "\n",
    "# print(f'Desired Load at current elevation {elevation} is [kg]: {adjusted_load*2.5}')\n",
    "# print(f'Desired Load at current elevation {elevation} is [lbs]: {adjusted_load*2.2*2.5}')"
   ]
  },
  {
   "cell_type": "code",
   "execution_count": null,
   "metadata": {},
   "outputs": [],
   "source": []
  },
  {
   "cell_type": "code",
   "execution_count": 175,
   "metadata": {},
   "outputs": [],
   "source": [
    "#THIS IS FOR TESTING - DELETE!!\n",
    "#print(f'Desired Load at current elevation {elevation} is [lbs]: {28/32.*adjusted_load*2.2}')"
   ]
  },
  {
   "cell_type": "code",
   "execution_count": 307,
   "metadata": {},
   "outputs": [],
   "source": [
    "#await mp.measure_optimum_pressure()"
   ]
  },
  {
   "cell_type": "code",
   "execution_count": 295,
   "metadata": {},
   "outputs": [
    {
     "data": {
      "text/plain": [
       "CommandIdAck(cmd_id=1564448958, ack=(ack=303, error=0, result='Ok'))"
      ]
     },
     "execution_count": 295,
     "metadata": {},
     "output_type": "execute_result"
    }
   ],
   "source": [
    "#await attcs.atpneumatics.cmd_m1OpenAirValve.start()\n",
    "await attcs.atpneumatics.cmd_m1CloseAirValve.start()"
   ]
  },
  {
   "cell_type": "code",
   "execution_count": 293,
   "metadata": {},
   "outputs": [
    {
     "data": {
      "text/plain": [
       "True"
      ]
     },
     "execution_count": 293,
     "metadata": {},
     "output_type": "execute_result"
    }
   ],
   "source": [
    "attcs.atpneumatics.cmd_m1SetPressure.set(pressure=20.000) # "
   ]
  },
  {
   "cell_type": "code",
   "execution_count": 294,
   "metadata": {},
   "outputs": [
    {
     "data": {
      "text/plain": [
       "CommandIdAck(cmd_id=1564514594, ack=(ack=303, error=0, result='Ok'))"
      ]
     },
     "execution_count": 294,
     "metadata": {},
     "output_type": "execute_result"
    }
   ],
   "source": [
    "await attcs.atpneumatics.cmd_m1SetPressure.start()"
   ]
  },
  {
   "cell_type": "code",
   "execution_count": 333,
   "metadata": {},
   "outputs": [
    {
     "name": "stdout",
     "output_type": "stream",
     "text": [
      "Elevation [deg]: 84.99999951302016\n",
      "Pressure [Pa] (mean, std): 78291.54842773438 Pa, 514.704936759586 Pa\n",
      "Load [N] (mean, std): [473.9323822631836, 7.064001274791568]\n",
      "Mass Supported [kg] (mean, std): [48.31115007779649, 0.7200816793875197]\n"
     ]
    }
   ],
   "source": [
    "load, load_std = await mp.get_load(n=7)\n",
    "tmp_mean, tmp_std = await mp.get_pressure(n=5)\n",
    "elevation=(attcs.atmcs.tel_mountEncoders.get()).elevationCalculatedAngle\n",
    "print(f'Elevation [deg]: {elevation}')\n",
    "print(f'Pressure [Pa] (mean, std): {tmp_mean}, {tmp_std}')\n",
    "print(f'Load [N] (mean, std): [{load}, {load_std}]')\n",
    "print(f'Mass Supported [kg] (mean, std): [{load/9.81}, {load_std/9.81}]')"
   ]
  },
  {
   "cell_type": "markdown",
   "metadata": {},
   "source": [
    "### set to 23000 and it went mental and back to 3.2 PSI!\n",
    "# mirror lost air at pressure = 22100 but could be between 21900 and 22100\n",
    "# dropped on 22100\n",
    "\n",
    "#Elevation [deg]: 86.66942902978917\n",
    "#Pressure [Pa] (mean, std): 22725.13008219401 Pa, 118.90673555913712 Pa\n",
    "#Load [N]: 866.0481259643554\n",
    "#Mass Supported [kg]: 88.37225775146483"
   ]
  },
  {
   "cell_type": "code",
   "execution_count": null,
   "metadata": {},
   "outputs": [],
   "source": [
    "m1pressure= [10, 100, 1000, 2000, 4000, 6000, 8000, 12000,\n",
    "            15000, 20000, 17500 ]\n",
    "measured_pressure = [9469, 9570, 9584, 9389, 11444.9, 13638, 17205, 30170.2,\n",
    "                    52330, 101140, 83395.8 ]\n",
    "Load = [967.4, 966.4, 967.9, 971.4, 951.05, 939.37, 912.77, 815.72,\n",
    "       641.98, 264, 392.8 ]"
   ]
  },
  {
   "cell_type": "code",
   "execution_count": null,
   "metadata": {},
   "outputs": [],
   "source": [
    "m1pressure= [12000, 20000, 20500, 21000, 21300, 21600, 21900, 21950, 22000,]\n",
    "measured_pressure = [30155, 100726, 109020, 113473, 114548, 116661, 122531, 122559, 123693]\n",
    "Load = [811, 263.3, 192, 165, 154, 134, 9.1, 8.95, 7.95, ]"
   ]
  },
  {
   "cell_type": "code",
   "execution_count": null,
   "metadata": {},
   "outputs": [],
   "source": [
    "await mp.measure_optimum_pressure()"
   ]
  },
  {
   "cell_type": "code",
   "execution_count": null,
   "metadata": {},
   "outputs": [],
   "source": [
    "await mp.measure_optimum_pressure()"
   ]
  },
  {
   "cell_type": "code",
   "execution_count": null,
   "metadata": {},
   "outputs": [],
   "source": [
    "await mp.measure_optimum_pressure()"
   ]
  },
  {
   "cell_type": "code",
   "execution_count": null,
   "metadata": {},
   "outputs": [],
   "source": [
    "mp.elevation, mp.pressure"
   ]
  },
  {
   "cell_type": "code",
   "execution_count": null,
   "metadata": {
    "collapsed": true
   },
   "outputs": [],
   "source": [
    "data = np.array([mp.elevation, mp.pressure])"
   ]
  },
  {
   "cell_type": "code",
   "execution_count": null,
   "metadata": {},
   "outputs": [],
   "source": [
    "data"
   ]
  },
  {
   "cell_type": "code",
   "execution_count": null,
   "metadata": {
    "collapsed": true
   },
   "outputs": [],
   "source": [
    "np.save(\"alt_pressure_2019-07-17.npy\", data)"
   ]
  },
  {
   "cell_type": "code",
   "execution_count": null,
   "metadata": {
    "collapsed": true
   },
   "outputs": [],
   "source": [
    "fit = np.polyfit(mp.elevation, mp.pressure, 2)"
   ]
  },
  {
   "cell_type": "code",
   "execution_count": null,
   "metadata": {},
   "outputs": [],
   "source": [
    "poly = np.poly1d(fit)\n",
    "x = np.linspace(22., 90., 100)\n",
    "y = poly(x)\n",
    "plt.plot(mp.elevation, mp.pressure/1e3, 'o')\n",
    "plt.plot(x, y/1e3, '-')\n",
    "plt.xlabel(\"Altitude (deg)\")\n",
    "plt.ylabel(\"Pressure (kPa)\")"
   ]
  },
  {
   "cell_type": "code",
   "execution_count": null,
   "metadata": {},
   "outputs": [],
   "source": [
    "print(fit)"
   ]
  },
  {
   "cell_type": "code",
   "execution_count": null,
   "metadata": {
    "collapsed": true
   },
   "outputs": [],
   "source": [
    "tmp=np.array([1,2,3,4,5,6])\n",
    "np.std(tmp)\n",
    "np.mean(tmp)"
   ]
  },
  {
   "cell_type": "code",
   "execution_count": null,
   "metadata": {
    "collapsed": true
   },
   "outputs": [],
   "source": []
  },
  {
   "cell_type": "code",
   "execution_count": null,
   "metadata": {},
   "outputs": [],
   "source": [
    "ss = attcs.atdome.evt_summaryState.get()\n",
    "print(ss)"
   ]
  },
  {
   "cell_type": "code",
   "execution_count": null,
   "metadata": {},
   "outputs": [],
   "source": [
    "salobj.State(ss.summaryState)"
   ]
  },
  {
   "cell_type": "code",
   "execution_count": null,
   "metadata": {
    "collapsed": true
   },
   "outputs": [],
   "source": [
    "await salobj.set_summary_state(attcs.atdome, salobj.State.ENABLED, settingsToApply='test')"
   ]
  },
  {
   "cell_type": "code",
   "execution_count": null,
   "metadata": {
    "collapsed": true
   },
   "outputs": [],
   "source": [
    "await salobj.set_summary_state(attcs.atdome, salobj.State.STANDBY)"
   ]
  },
  {
   "cell_type": "code",
   "execution_count": null,
   "metadata": {},
   "outputs": [],
   "source": [
    "attcs.atdome.cmd_moveAzimuth.set(azimuth=0.)"
   ]
  },
  {
   "cell_type": "code",
   "execution_count": null,
   "metadata": {},
   "outputs": [],
   "source": [
    "await attcs.atdome.cmd_moveAzimuth.start()"
   ]
  },
  {
   "cell_type": "code",
   "execution_count": null,
   "metadata": {},
   "outputs": [],
   "source": [
    "await attcs.atdome.cmd_openShutter.start()"
   ]
  },
  {
   "cell_type": "code",
   "execution_count": null,
   "metadata": {},
   "outputs": [],
   "source": [
    "await attcs.atdome.cmd_closeShutter.start()"
   ]
  },
  {
   "cell_type": "code",
   "execution_count": null,
   "metadata": {
    "collapsed": true
   },
   "outputs": [],
   "source": [
    "await mp.attcs.atpneumatics.evt_m"
   ]
  },
  {
   "cell_type": "code",
   "execution_count": null,
   "metadata": {
    "collapsed": true
   },
   "outputs": [],
   "source": [
    "sp = await mp.attcs.atpneumatics.evt_m1SetPressure.next(flush=False, timeout=5)"
   ]
  },
  {
   "cell_type": "code",
   "execution_count": null,
   "metadata": {
    "collapsed": true
   },
   "outputs": [],
   "source": [
    "sp.pressure"
   ]
  },
  {
   "cell_type": "code",
   "execution_count": null,
   "metadata": {
    "collapsed": true
   },
   "outputs": [],
   "source": [
    "await mp.attcs.atpneumatics.cmd_m1CloseAirValve.start()    "
   ]
  },
  {
   "cell_type": "code",
   "execution_count": null,
   "metadata": {
    "collapsed": true
   },
   "outputs": [],
   "source": [
    "mp.attcs.atpneumatics.cmd_m1SetPressure.set(pressure=0.1)\n",
    "await mp.attcs.atpneumatics.cmd_m1SetPressure.start()"
   ]
  },
  {
   "cell_type": "code",
   "execution_count": null,
   "metadata": {
    "collapsed": true
   },
   "outputs": [],
   "source": [
    "pressure = 15.*u.imperial.psi\n",
    "mp.attcs.atpneumatics.cmd_m1SetPressure.set(pressure=pressure.to(u.Pa).value)\n",
    "await mp.attcs.atpneumatics.cmd_m1SetPressure.start()"
   ]
  },
  {
   "cell_type": "code",
   "execution_count": null,
   "metadata": {
    "collapsed": true
   },
   "outputs": [],
   "source": [
    "load = await mp.get_load()"
   ]
  },
  {
   "cell_type": "code",
   "execution_count": null,
   "metadata": {
    "collapsed": true
   },
   "outputs": [],
   "source": [
    "print(load)"
   ]
  },
  {
   "cell_type": "code",
   "execution_count": null,
   "metadata": {
    "collapsed": true
   },
   "outputs": [],
   "source": [
    "load2 = await mp.get_load()"
   ]
  },
  {
   "cell_type": "code",
   "execution_count": null,
   "metadata": {
    "collapsed": true
   },
   "outputs": [],
   "source": [
    "print(load2/3.)"
   ]
  },
  {
   "cell_type": "code",
   "execution_count": null,
   "metadata": {
    "collapsed": true
   },
   "outputs": [],
   "source": [
    "mp.min_allowed_load = load"
   ]
  },
  {
   "cell_type": "code",
   "execution_count": null,
   "metadata": {
    "collapsed": true
   },
   "outputs": [],
   "source": [
    "mp.min_allowed_load"
   ]
  },
  {
   "cell_type": "markdown",
   "metadata": {},
   "source": [
    "## Get the optimum pressure for a specified load"
   ]
  },
  {
   "cell_type": "markdown",
   "metadata": {},
   "source": [
    "Set the optimum load. Measure the minimum pressure and load and get maximum pressure to run a search for the best pressure. "
   ]
  },
  {
   "cell_type": "code",
   "execution_count": null,
   "metadata": {
    "collapsed": true
   },
   "outputs": [],
   "source": []
  },
  {
   "cell_type": "code",
   "execution_count": null,
   "metadata": {
    "collapsed": true
   },
   "outputs": [],
   "source": [
    "optimum_pressure = await get_pressure(10, attcs.atpneumatics.tel_m1AirPressure)\n",
    "print(f\"Optimum pressure: {optimum_pressure}\")"
   ]
  },
  {
   "cell_type": "code",
   "execution_count": null,
   "metadata": {
    "collapsed": true
   },
   "outputs": [],
   "source": [
    "for c in attcs.components():\n",
    "    r = getattr(attcs, c.lower())\n",
    "    await salobj.set_summary_state(r, salobj.State.STANDBY)"
   ]
  },
  {
   "cell_type": "code",
   "execution_count": null,
   "metadata": {
    "collapsed": true
   },
   "outputs": [],
   "source": []
  }
 ],
 "metadata": {
  "kernelspec": {
   "display_name": "Python 3",
   "language": "python",
   "name": "python3"
  },
  "language_info": {
   "codemirror_mode": {
    "name": "ipython",
    "version": 3
   },
   "file_extension": ".py",
   "mimetype": "text/x-python",
   "name": "python",
   "nbconvert_exporter": "python",
   "pygments_lexer": "ipython3",
   "version": "3.6.6"
  }
 },
 "nbformat": 4,
 "nbformat_minor": 2
}
