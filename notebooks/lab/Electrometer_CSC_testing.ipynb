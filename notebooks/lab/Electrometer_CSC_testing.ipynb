{
 "cells": [
  {
   "cell_type": "code",
   "execution_count": null,
   "metadata": {},
   "outputs": [],
   "source": [
    "from lsst.ts import salobj\n",
    "import asyncio"
   ]
  },
  {
   "cell_type": "code",
   "execution_count": null,
   "metadata": {},
   "outputs": [],
   "source": [
    "import os\n",
    "#os.environ[\"LSST_DDS_PARTITION_PREFIX\"] = \"citest\""
   ]
  },
  {
   "cell_type": "code",
   "execution_count": null,
   "metadata": {},
   "outputs": [],
   "source": [
    "domain = salobj.Domain()\n",
    "electrometer1 = salobj.Remote(name=\"Electrometer\", domain=domain, index=1) # 1 is AuxTel (loonie), 2 is CIMACS (toonie)\n",
    "electrometer2 = salobj.Remote(name=\"Electrometer\", domain=domain, index=2) # 1 is AuxTel (loonie), 2 is CIMACS (toonie)\n",
    "await electrometer1.start_task\n",
    "await electrometer2.start_task"
   ]
  },
  {
   "cell_type": "code",
   "execution_count": null,
   "metadata": {},
   "outputs": [],
   "source": [
    "tmp = await electrometer2.evt_summaryState.aget(timeout=10)\n",
    "print(salobj.State(tmp.summaryState))"
   ]
  },
  {
   "cell_type": "code",
   "execution_count": null,
   "metadata": {},
   "outputs": [],
   "source": [
    "tmp = await electrometer2.evt_heartbeat.next(flush=True, timeout=5)\n",
    "print(tmp)"
   ]
  },
  {
   "cell_type": "code",
   "execution_count": null,
   "metadata": {},
   "outputs": [],
   "source": [
    "# # Send the CSC offline and shut it down\n",
    "# tmp=await salobj.set_summary_state(electrometer, salobj.State.OFFLINE, timeout=10)\n",
    "# #print(tmp)"
   ]
  },
  {
   "cell_type": "code",
   "execution_count": null,
   "metadata": {},
   "outputs": [],
   "source": [
    "tmp = await electrometer1.evt_settingVersions.aget(timeout=5)\n",
    "print(tmp)"
   ]
  },
  {
   "cell_type": "code",
   "execution_count": null,
   "metadata": {},
   "outputs": [],
   "source": [
    "tmp = await electrometer1.evt_softwareVersions.aget(timeout=5)\n",
    "print(tmp)"
   ]
  },
  {
   "cell_type": "code",
   "execution_count": null,
   "metadata": {},
   "outputs": [],
   "source": [
    "# Bring to enabled with proper config file\n",
    "tmp = await salobj.set_summary_state(electrometer2, salobj.State.STANDBY, settingsToApply=\"2022-01-24-calibration_lab.yaml\", timeout=20)\n",
    "print(tmp)"
   ]
  },
  {
   "cell_type": "code",
   "execution_count": null,
   "metadata": {},
   "outputs": [],
   "source": [
    "# Bring to enabled with proper config file\n",
    "tmp=await electrometer1.cmd_start.set_start(settingsToApply=\"2022-01-24-calibration_lab.yaml\", timeout=20)\n",
    "print(tmp)"
   ]
  },
  {
   "cell_type": "code",
   "execution_count": null,
   "metadata": {},
   "outputs": [],
   "source": [
    "# Bring to enabled with proper config file\n",
    "tmp=await electrometer1.cmd_enable.start(timeout=20)\n",
    "print(tmp)"
   ]
  },
  {
   "cell_type": "code",
   "execution_count": null,
   "metadata": {},
   "outputs": [],
   "source": [
    "tmp=await electrometer1.cmd_standby.start(timeout=20)\n",
    "print(tmp)"
   ]
  },
  {
   "cell_type": "code",
   "execution_count": null,
   "metadata": {},
   "outputs": [],
   "source": [
    "tmp=await electrometer1.cmd_exitControl.start(timeout=20)\n",
    "print(tmp)"
   ]
  },
  {
   "cell_type": "code",
   "execution_count": null,
   "metadata": {},
   "outputs": [],
   "source": [
    "# Bring to enabled with proper config file\n",
    "tmp=await electrometer1.cmd_enable.start(timeout=20)\n",
    "print(tmp)"
   ]
  },
  {
   "cell_type": "code",
   "execution_count": null,
   "metadata": {},
   "outputs": [],
   "source": [
    "await electrometer2.cmd_performZeroCalib.set_start(timeout=10)"
   ]
  },
  {
   "cell_type": "code",
   "execution_count": null,
   "metadata": {},
   "outputs": [],
   "source": [
    "await electrometer1.cmd_setDigitalFilter.set_start(activateFilter=True, activateAvgFilter=True, activateMedFilter=False, timeout=10)"
   ]
  },
  {
   "cell_type": "code",
   "execution_count": null,
   "metadata": {},
   "outputs": [],
   "source": [
    "tmp = await electrometer1.evt_digitalFilterChange.aget(timeout=10)\n",
    "print(tmp)"
   ]
  },
  {
   "cell_type": "code",
   "execution_count": null,
   "metadata": {},
   "outputs": [],
   "source": []
  },
  {
   "cell_type": "code",
   "execution_count": null,
   "metadata": {},
   "outputs": [],
   "source": [
    "tmp1=await electrometer1.cmd_startScan.set_start(timeout=10)\n",
    "print(tmp1)\n",
    "await asyncio.sleep(1)\n",
    "tmp2=await electrometer1.cmd_stopScan.set_start(timeout=10)\n",
    "print(tmp2)\n",
    "message_object = await electrometer1.evt_logMessage.aget(timeout=10)\n",
    "print(message_object.message)"
   ]
  },
  {
   "cell_type": "code",
   "execution_count": null,
   "metadata": {},
   "outputs": [],
   "source": []
  },
  {
   "cell_type": "code",
   "execution_count": null,
   "metadata": {},
   "outputs": [],
   "source": [
    "tmp2=await electrometer.cmd_stopScan.set_start(timeout=10)"
   ]
  },
  {
   "cell_type": "code",
   "execution_count": null,
   "metadata": {},
   "outputs": [],
   "source": [
    "# # This is either broken or I don't remember how to use it.\n",
    "# tmp = await electrometer.cmd_startScanDt.set_start(scanDuration=0.1)\n",
    "# print(tmp)"
   ]
  },
  {
   "cell_type": "code",
   "execution_count": null,
   "metadata": {},
   "outputs": [],
   "source": []
  }
 ],
 "metadata": {
  "kernelspec": {
   "display_name": "LSST",
   "language": "python",
   "name": "lsst"
  },
  "language_info": {
   "codemirror_mode": {
    "name": "ipython",
    "version": 3
   },
   "file_extension": ".py",
   "mimetype": "text/x-python",
   "name": "python",
   "nbconvert_exporter": "python",
   "pygments_lexer": "ipython3",
   "version": "3.8.13"
  }
 },
 "nbformat": 4,
 "nbformat_minor": 4
}
