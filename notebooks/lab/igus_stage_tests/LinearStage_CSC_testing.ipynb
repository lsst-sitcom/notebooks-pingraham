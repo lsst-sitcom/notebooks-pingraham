{
 "cells": [
  {
   "cell_type": "markdown",
   "metadata": {},
   "source": [
    "## Tests the LinearStage CSC(s)\n",
    "This is now configured for cycle 25 and salobj7"
   ]
  },
  {
   "cell_type": "code",
   "execution_count": null,
   "metadata": {},
   "outputs": [],
   "source": [
    "from lsst.ts import salobj"
   ]
  },
  {
   "cell_type": "code",
   "execution_count": null,
   "metadata": {},
   "outputs": [],
   "source": [
    "import os\n",
    "# os.environ[\"LSST_DDS_PARTITION_PREFIX\"] = \"citest\""
   ]
  },
  {
   "cell_type": "code",
   "execution_count": null,
   "metadata": {},
   "outputs": [],
   "source": [
    "# domain = salobj.Domain()\n",
    "\n",
    "# axis='X'\n",
    "# if axis=='Y':\n",
    "#     # INDEX NOT YET IMPLEMENTED\n",
    "#     linear_stage = salobj.Remote(name=\"LinearStage\", domain=domain, index=1) # 2 is drive 2 (small)\n",
    "#     label='igusY'\n",
    "\n",
    "# elif axis=='X':\n",
    "#     linear_stage = salobj.Remote(name=\"LinearStage\", domain=domain, index=1) # 1 is drive 1 (big)\n",
    "#     label='igusX'\n",
    "# else:\n",
    "#     raise IOError('Invalid selction')\n",
    "# await linear_stage.start_task"
   ]
  },
  {
   "cell_type": "code",
   "execution_count": null,
   "metadata": {},
   "outputs": [],
   "source": [
    "domain = salobj.Domain()\n",
    "igusX = salobj.Remote(name=\"LinearStage\", domain=domain, index=1) # 1 is drive 1 (big)\n",
    "igusY = salobj.Remote(name=\"LinearStage\", domain=domain, index=2) # 1 is drive 1 (big)"
   ]
  },
  {
   "cell_type": "code",
   "execution_count": null,
   "metadata": {},
   "outputs": [],
   "source": [
    "tmp = await igusX.evt_summaryState.aget()\n",
    "print(salobj.State(tmp.summaryState))"
   ]
  },
  {
   "cell_type": "code",
   "execution_count": null,
   "metadata": {},
   "outputs": [],
   "source": [
    "tmp = await igusY.evt_summaryState.aget()\n",
    "print(salobj.State(tmp.summaryState))"
   ]
  },
  {
   "cell_type": "code",
   "execution_count": null,
   "metadata": {},
   "outputs": [],
   "source": [
    "# tmp=await salobj.set_summary_state(igusY, salobj.State.OFFLINE, timeout=10)\n",
    "# print(tmp)"
   ]
  },
  {
   "cell_type": "code",
   "execution_count": null,
   "metadata": {},
   "outputs": [],
   "source": [
    "tmp = await igusX.evt_heartbeat.next(flush=True)\n",
    "print(tmp)"
   ]
  },
  {
   "cell_type": "code",
   "execution_count": null,
   "metadata": {},
   "outputs": [],
   "source": [
    "tmp = await igusY.evt_heartbeat.next(flush=True)\n",
    "print(tmp)"
   ]
  },
  {
   "cell_type": "code",
   "execution_count": null,
   "metadata": {},
   "outputs": [],
   "source": [
    "tmp = await igusY.tel_position.aget(timeout=5)\n",
    "print(tmp)"
   ]
  },
  {
   "cell_type": "code",
   "execution_count": null,
   "metadata": {},
   "outputs": [],
   "source": [
    "tmp = await igusX.cmd_setLogLevel.set_start(level=logging.DEBUG)\n",
    "print(tmp)"
   ]
  },
  {
   "cell_type": "code",
   "execution_count": null,
   "metadata": {},
   "outputs": [],
   "source": [
    "tmp = await igusY.cmd_setLogLevel.set_start(level=logging.DEBUG)\n",
    "print(tmp)"
   ]
  },
  {
   "cell_type": "code",
   "execution_count": null,
   "metadata": {},
   "outputs": [],
   "source": [
    "tmp = await igusY.evt_softwareVersions.aget(timeout=3)\n",
    "print(tmp)"
   ]
  },
  {
   "cell_type": "code",
   "execution_count": null,
   "metadata": {},
   "outputs": [],
   "source": [
    "# tmp = await igusX.evt_settingsVersions.aget(timeout=5)\n",
    "# print(tmp)"
   ]
  },
  {
   "cell_type": "code",
   "execution_count": null,
   "metadata": {},
   "outputs": [],
   "source": [
    "tmpX = await igusX.evt_summaryState.aget()\n",
    "print(salobj.State(tmpX.summaryState))"
   ]
  },
  {
   "cell_type": "code",
   "execution_count": null,
   "metadata": {},
   "outputs": [],
   "source": [
    "# Bring to enabled with proper config file\n",
    "tmp=await salobj.set_summary_state(igusY, salobj.State.OFFLINE, timeout=10)\n",
    "print(tmp)"
   ]
  },
  {
   "cell_type": "code",
   "execution_count": null,
   "metadata": {},
   "outputs": [],
   "source": [
    "tmpX = await igusX.evt_summaryState.aget()\n",
    "print(salobj.State(tmpX.summaryState))\n",
    "# tmpY = await igusX.evt_summaryState.aget()\n",
    "# print(salobj.State(tmpY.summaryState))"
   ]
  },
  {
   "cell_type": "code",
   "execution_count": null,
   "metadata": {},
   "outputs": [],
   "source": [
    "# # Bring to enabled with proper config file\n",
    "# tmp=await salobj.set_summary_state(igusY, salobj.State.OFFLINE, settingsToApply=\"IgusDryveStepper-Yaxis-20220126_v2.yaml\", timeout=20)\n",
    "# print(tmp)"
   ]
  },
  {
   "cell_type": "code",
   "execution_count": null,
   "metadata": {},
   "outputs": [],
   "source": [
    "# tmp = await igusX.cmd_start.set_start(settingsToApply=\"IgusDryveStepper-Xaxis-20220126_v2.yaml\", timeout=10)\n",
    "# print(tmp)"
   ]
  },
  {
   "cell_type": "code",
   "execution_count": null,
   "metadata": {},
   "outputs": [],
   "source": [
    "tmp = await igusY.cmd_start.set_start(override=\"IgusDryveStepper-Yaxis-20220331_v2.yaml\", timeout=10)\n",
    "print(tmp)"
   ]
  },
  {
   "cell_type": "code",
   "execution_count": null,
   "metadata": {},
   "outputs": [],
   "source": [
    "tmp = await igusY.cmd_standby.start(timeout=10)\n",
    "print(tmp)"
   ]
  },
  {
   "cell_type": "code",
   "execution_count": null,
   "metadata": {},
   "outputs": [],
   "source": [
    "tmp = await igusX.cmd_start.start(timeout=5)\n",
    "print(tmp)"
   ]
  },
  {
   "cell_type": "code",
   "execution_count": null,
   "metadata": {},
   "outputs": [],
   "source": [
    "# Bring to enabled with proper config file\n",
    "tmp=await salobj.set_summary_state(igusX, salobj.State.OFFLINE, override=\"IgusDryveStepper-Xaxis-20220331_v3.yaml\", timeout=20)\n",
    "print(tmp)"
   ]
  },
  {
   "cell_type": "code",
   "execution_count": null,
   "metadata": {},
   "outputs": [],
   "source": [
    "# Bring to enabled with proper config file\n",
    "tmp=await salobj.set_summary_state(igusY, salobj.State.OFFLINE, override=\"IgusDryveStepper-Yaxis-20220331_v3.yaml\", timeout=20)\n",
    "print(tmp)"
   ]
  },
  {
   "cell_type": "code",
   "execution_count": null,
   "metadata": {},
   "outputs": [],
   "source": [
    "# Bring to enabled with proper config file\n",
    "tmp=await salobj.set_summary_state(igusY, salobj.State.ENABLED, override=\"IgusDryveStepper-Yaxis-20220331_v3.yaml\", timeout=20)\n",
    "print(tmp)"
   ]
  },
  {
   "cell_type": "code",
   "execution_count": null,
   "metadata": {},
   "outputs": [],
   "source": [
    "tmp = igusY.evt_summaryState.get()\n",
    "print(salobj.State(tmp.summaryState))"
   ]
  },
  {
   "cell_type": "code",
   "execution_count": null,
   "metadata": {},
   "outputs": [],
   "source": [
    "66*25.4"
   ]
  },
  {
   "cell_type": "code",
   "execution_count": null,
   "metadata": {},
   "outputs": [],
   "source": [
    "145*25.4"
   ]
  },
  {
   "cell_type": "markdown",
   "metadata": {},
   "source": [
    "# X-axis"
   ]
  },
  {
   "cell_type": "code",
   "execution_count": null,
   "metadata": {},
   "outputs": [],
   "source": [
    "# Home the stage\n",
    "tmp=await igusX.cmd_getHome.start()\n",
    "print(tmp)"
   ]
  },
  {
   "cell_type": "code",
   "execution_count": null,
   "metadata": {},
   "outputs": [],
   "source": [
    "# Get position, should be zero after homing\n",
    "pos = igusX.tel_position.get()\n",
    "print(pos.position)"
   ]
  },
  {
   "cell_type": "code",
   "execution_count": null,
   "metadata": {
    "scrolled": true
   },
   "outputs": [],
   "source": [
    "# Move to position\n",
    "tmp = await igusX.cmd_moveAbsolute.set_start(distance=30.0, timeout=14)\n",
    "print(tmp)"
   ]
  },
  {
   "cell_type": "code",
   "execution_count": null,
   "metadata": {},
   "outputs": [],
   "source": [
    "pos = igusX.tel_position.get()\n",
    "print(pos.position)"
   ]
  },
  {
   "cell_type": "code",
   "execution_count": null,
   "metadata": {},
   "outputs": [],
   "source": []
  },
  {
   "cell_type": "markdown",
   "metadata": {},
   "source": [
    "#  Y-axis"
   ]
  },
  {
   "cell_type": "code",
   "execution_count": null,
   "metadata": {},
   "outputs": [],
   "source": [
    "# Home the stage\n",
    "tmp=await igusY.cmd_getHome.start(timeout=120)\n",
    "print(tmp)"
   ]
  },
  {
   "cell_type": "code",
   "execution_count": null,
   "metadata": {},
   "outputs": [],
   "source": [
    "# Get position, should be zero after homing\n",
    "pos = await igusY.tel_position.next(flush=True, timeout=10)\n",
    "print(pos.position)"
   ]
  },
  {
   "cell_type": "code",
   "execution_count": null,
   "metadata": {},
   "outputs": [],
   "source": [
    "# Move to position - started at 20\n",
    "tmp = await igusY.cmd_moveAbsolute.set_start(distance=21, timeout=14)\n",
    "print(tmp)\n",
    "\n",
    "# 52.37 --\n",
    "# 54.03\n",
    "# 54.01"
   ]
  },
  {
   "cell_type": "code",
   "execution_count": null,
   "metadata": {},
   "outputs": [],
   "source": []
  },
  {
   "cell_type": "code",
   "execution_count": null,
   "metadata": {},
   "outputs": [],
   "source": []
  }
 ],
 "metadata": {
  "kernelspec": {
   "display_name": "LSST",
   "language": "python",
   "name": "lsst"
  },
  "language_info": {
   "codemirror_mode": {
    "name": "ipython",
    "version": 3
   },
   "file_extension": ".py",
   "mimetype": "text/x-python",
   "name": "python",
   "nbconvert_exporter": "python",
   "pygments_lexer": "ipython3",
   "version": "3.8.12"
  }
 },
 "nbformat": 4,
 "nbformat_minor": 4
}
