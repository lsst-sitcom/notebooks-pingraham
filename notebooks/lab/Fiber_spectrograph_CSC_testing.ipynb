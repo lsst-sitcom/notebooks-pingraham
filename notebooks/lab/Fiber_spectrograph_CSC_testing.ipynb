{
 "cells": [
  {
   "cell_type": "markdown",
   "metadata": {},
   "source": [
    "## This notebook is used to test the FiberSpectrograph CSC\n",
    "This includes testing that the spectra go to the LFA"
   ]
  },
  {
   "cell_type": "code",
   "execution_count": null,
   "metadata": {},
   "outputs": [],
   "source": [
    "from astropy.io import fits\n",
    "import astropy.stats\n",
    "import numpy as np\n",
    "from scipy.optimize import curve_fit\n",
    "import matplotlib.pyplot as plt\n",
    "import csv\n",
    "\n",
    "from lsst.ts import salobj"
   ]
  },
  {
   "cell_type": "code",
   "execution_count": null,
   "metadata": {},
   "outputs": [],
   "source": [
    "d = salobj.Domain()\n",
    "# Index 3 is required for the auxtel spectrograph, blue=1, red=2\n",
    "FiberSpectrograph = salobj.Remote(d, 'FiberSpectrograph', 3)\n",
    "await FiberSpectrograph.start_task"
   ]
  },
  {
   "cell_type": "code",
   "execution_count": null,
   "metadata": {},
   "outputs": [],
   "source": [
    "tmp = await FiberSpectrograph.evt_heartbeat.next(flush=True, timeout=5)\n",
    "print(tmp)"
   ]
  },
  {
   "cell_type": "code",
   "execution_count": null,
   "metadata": {},
   "outputs": [],
   "source": [
    "await FiberSpectrograph.cmd_setLogLevel.set_start(level=logging.DEBUG)"
   ]
  },
  {
   "cell_type": "code",
   "execution_count": null,
   "metadata": {},
   "outputs": [],
   "source": [
    "tmp = await FiberSpectrograph.evt_summaryState.aget()\n",
    "print(salobj.State(tmp.summaryState))"
   ]
  },
  {
   "cell_type": "code",
   "execution_count": null,
   "metadata": {},
   "outputs": [],
   "source": [
    "tmp=await FiberSpectrograph.cmd_standby.start(timeout=15)\n",
    "print(tmp)"
   ]
  },
  {
   "cell_type": "code",
   "execution_count": null,
   "metadata": {},
   "outputs": [],
   "source": [
    "# Send the CSC offline and shut it down\n",
    "tmp=await salobj.set_summary_state(FiberSpectrograph, salobj.State.STANDBY, settingsToApply='tucson.yaml', timeout=10)\n",
    "print(tmp)"
   ]
  },
  {
   "cell_type": "code",
   "execution_count": null,
   "metadata": {},
   "outputs": [],
   "source": [
    "FiberSpectrograph.evt_largeFileObjectAvailable.flush()\n",
    "\n",
    "tmp1 = await FiberSpectrograph.cmd_expose.set_start(duration=1, numExposures=1, type='DARK', source='NONE')\n",
    "lfa = await FiberSpectrograph.evt_largeFileObjectAvailable.next(flush=False, timeout=10)\n",
    "print(lfa)"
   ]
  },
  {
   "cell_type": "code",
   "execution_count": null,
   "metadata": {},
   "outputs": [],
   "source": [
    "FiberSpectrograph.evt_largeFileObjectAvailable.flush()\n",
    "\n",
    "tmp1 = await FiberSpectrograph.cmd_expose.set_start(duration=1, numExposures=1, type='DARK', source='NONE')\n",
    "lfa = await FiberSpectrograph.evt_largeFileObjectAvailable.next(flush=False, timeout=10)\n",
    "print(lfa)"
   ]
  },
  {
   "cell_type": "code",
   "execution_count": null,
   "metadata": {},
   "outputs": [],
   "source": [
    "# download file to a local disk\n",
    "filename=lfa.url.split('FiberSpectrograph:')[-1]\n",
    "os.system(f\"curl {lfa.url} --output /tmp/{filename}\")"
   ]
  },
  {
   "cell_type": "code",
   "execution_count": null,
   "metadata": {},
   "outputs": [],
   "source": [
    "lfa.url.split(\"FiberSpectrograph:\")[-1]"
   ]
  },
  {
   "cell_type": "code",
   "execution_count": null,
   "metadata": {},
   "outputs": [],
   "source": [
    "tmp = await FiberSpectrograph.evt_logMessage.aget(timeout=10)\n",
    "print(tmp.message)"
   ]
  },
  {
   "cell_type": "code",
   "execution_count": null,
   "metadata": {},
   "outputs": [],
   "source": [
    "tmp.message"
   ]
  },
  {
   "cell_type": "code",
   "execution_count": null,
   "metadata": {},
   "outputs": [],
   "source": [
    "if True:\n",
    "    plt.ylabel('Intensity (ADU)')\n",
    "    plt.plot(xdata, ydata,'-g')\n",
    "    plt.title('Spectral resolution function')\n",
    "    plt.xlabel('wavelength [nm]')\n",
    "    plt.show()\n",
    "    plt.close()"
   ]
  },
  {
   "cell_type": "code",
   "execution_count": null,
   "metadata": {},
   "outputs": [],
   "source": [
    "# Fit a guassian to the profile\n",
    "mean = xdata[np.argmax(ydata)] # assume the peak we want is the maximum value (NOT ALWAYS THE CASE!)\n",
    "#mean = 432.   #note this correction\n",
    "sigma = 2.0        #note this correction\n",
    "offset=np.median(ydata)\n",
    "\n",
    "def gaus(x,a,x0,sigma, offset):\n",
    "    return a*np.exp(-(x-x0)**2/(2*sigma**2))+offset\n",
    "\n",
    "popt,pcov = curve_fit(gaus,xdata,ydata,p0=[8000.0,mean,sigma, offset])\n",
    "\n",
    "plt.plot(xdata,ydata,'b+:',label='data')\n",
    "plt.plot(xdata,gaus(xdata,*popt),'r:',label='fit')\n",
    "dx=50\n",
    "plt.xlim([mean-dx,mean+dx])\n",
    "#plt.ylim([0,2000])\n",
    "plt.legend()\n",
    "plt.title('Fit to fiber spectrograph data')\n",
    "plt.ylabel('Intensity [ADU]')\n",
    "plt.xlabel('Wavelength [nm]')\n",
    "plt.show()\n",
    "\n",
    "print('Amplitude [ADU] = {:.0f}'.format(popt[0]))\n",
    "print('peak (mean) [nm] = {:.2f}'.format(popt[1]))\n",
    "print('width (sigma) [nm] = {:0.3f}'.format(popt[2]))\n",
    "print('FWHM [nm] = {:0.3f}'.format(popt[2]*2.355))"
   ]
  },
  {
   "cell_type": "code",
   "execution_count": null,
   "metadata": {},
   "outputs": [],
   "source": [
    "# Now read in the camera image to look at the signal of the flats"
   ]
  },
  {
   "cell_type": "code",
   "execution_count": null,
   "metadata": {},
   "outputs": [],
   "source": [
    "# Now read in the camera image\n",
    "# For now just calculate the mediam signal per amp\n",
    "\n",
    "# Read in image\n",
    "dir = '/mnt/dmcs/2019-04-03/'\n",
    "atcamera_fname=data_reader_list[-1]['ATArchiver Image Name']\n",
    "atcamera_fname='AT_O_20190403_000071-ats-wfs_ccd.fits'\n",
    "\n",
    "full_file_name=dir+atcamera_fname\n",
    "print('Opening {}'.format(full_file_name))\n",
    "hdu_list = fits.open(full_file_name)\n",
    "#hdu_list.info()\n",
    "im=hdu_list[12].data # for camera data"
   ]
  },
  {
   "cell_type": "code",
   "execution_count": null,
   "metadata": {},
   "outputs": [],
   "source": [
    "# Check median counts on amplifiers (for flat level testing)\n",
    "if False:\n",
    "    # Create an array of the median values\n",
    "    med_arr=np.zeros(16)\n",
    "    stddev_arr=np.zeros(16)\n",
    "\n",
    "    for amp in range(len(hdu_list)-1):\n",
    "        if amp == 0:\n",
    "            continue\n",
    "    #    med_arr[amp]=np.median(hdu_list[amp].data)\n",
    "        # Calculate mean, median, stddev\n",
    "        tmp = astropy.stats.sigma_clipped_stats(hdu_list[amp].data, sigma=2)\n",
    "        med_arr[amp]= tmp[1]\n",
    "        stddev_arr[amp] = tmp[2]\n",
    "        print('Median and Stddev values of amplifier {} is {} and {}'.format(amp,med_arr[amp], stddev_arr[amp]))"
   ]
  },
  {
   "cell_type": "code",
   "execution_count": null,
   "metadata": {},
   "outputs": [],
   "source": []
  },
  {
   "cell_type": "code",
   "execution_count": null,
   "metadata": {},
   "outputs": [],
   "source": [
    "plt.imshow(hdu_list[12].data)"
   ]
  },
  {
   "cell_type": "code",
   "execution_count": null,
   "metadata": {},
   "outputs": [],
   "source": [
    "hdu_list[0].header"
   ]
  },
  {
   "cell_type": "code",
   "execution_count": null,
   "metadata": {},
   "outputs": [],
   "source": [
    "tmp[3]"
   ]
  },
  {
   "cell_type": "code",
   "execution_count": null,
   "metadata": {},
   "outputs": [],
   "source": []
  }
 ],
 "metadata": {
  "kernelspec": {
   "display_name": "LSST",
   "language": "python",
   "name": "lsst"
  },
  "language_info": {
   "codemirror_mode": {
    "name": "ipython",
    "version": 3
   },
   "file_extension": ".py",
   "mimetype": "text/x-python",
   "name": "python",
   "nbconvert_exporter": "python",
   "pygments_lexer": "ipython3",
   "version": "3.8.12"
  }
 },
 "nbformat": 4,
 "nbformat_minor": 4
}
