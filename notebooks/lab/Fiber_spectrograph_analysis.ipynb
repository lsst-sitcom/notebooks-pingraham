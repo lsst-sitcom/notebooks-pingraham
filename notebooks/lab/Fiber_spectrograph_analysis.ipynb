{
 "cells": [
  {
   "cell_type": "markdown",
   "metadata": {},
   "source": [
    "# This notebook is used to determine the output of the calibration illumination system and measure the amount of signal on the detector from an ATArchiver image. The code is meant for flats, but can be used for other purposes."
   ]
  },
  {
   "cell_type": "code",
   "execution_count": null,
   "metadata": {},
   "outputs": [],
   "source": [
    "from astropy.io import fits\n",
    "import astropy.stats\n",
    "import numpy as np\n",
    "from scipy.optimize import curve_fit\n",
    "import matplotlib.pyplot as plt\n",
    "import csv"
   ]
  },
  {
   "cell_type": "code",
   "execution_count": 2,
   "metadata": {},
   "outputs": [
    {
     "name": "stderr",
     "output_type": "stream",
     "text": [
      "Could not import lsstcppimport; please ensure the base package has been built (not just setup).\n",
      "\n"
     ]
    }
   ],
   "source": [
    "import lsst.ts"
   ]
  },
  {
   "cell_type": "code",
   "execution_count": 3,
   "metadata": {},
   "outputs": [
    {
     "ename": "ModuleNotFoundError",
     "evalue": "No module named 'lsst.ts.standardscripts'",
     "output_type": "error",
     "traceback": [
      "\u001b[0;31m---------------------------------------------------------------------------\u001b[0m",
      "\u001b[0;31mModuleNotFoundError\u001b[0m                       Traceback (most recent call last)",
      "\u001b[0;32m<ipython-input-3-f0b4b5059222>\u001b[0m in \u001b[0;36m<module>\u001b[0;34m\u001b[0m\n\u001b[0;32m----> 1\u001b[0;31m \u001b[0;32mimport\u001b[0m \u001b[0mlsst\u001b[0m\u001b[0;34m.\u001b[0m\u001b[0mts\u001b[0m\u001b[0;34m.\u001b[0m\u001b[0mstandardscripts\u001b[0m\u001b[0;34m\u001b[0m\u001b[0m\n\u001b[0m",
      "\u001b[0;31mModuleNotFoundError\u001b[0m: No module named 'lsst.ts.standardscripts'"
     ]
    }
   ],
   "source": [
    "import lsst.ts"
   ]
  },
  {
   "cell_type": "code",
   "execution_count": 3,
   "metadata": {},
   "outputs": [
    {
     "ename": "ModuleNotFoundError",
     "evalue": "No module named 'lsst.ts.standardscripts'",
     "output_type": "error",
     "traceback": [
      "\u001b[0;31m---------------------------------------------------------------------------\u001b[0m",
      "\u001b[0;31mModuleNotFoundError\u001b[0m                       Traceback (most recent call last)",
      "\u001b[0;32m<ipython-input-3-93536232166f>\u001b[0m in \u001b[0;36m<module>\u001b[0;34m\u001b[0m\n\u001b[1;32m      4\u001b[0m \u001b[0;34m\u001b[0m\u001b[0m\n\u001b[1;32m      5\u001b[0m     \u001b[0;32mfrom\u001b[0m \u001b[0mlsst\u001b[0m\u001b[0;34m.\u001b[0m\u001b[0mts\u001b[0m \u001b[0;32mimport\u001b[0m \u001b[0msalobj\u001b[0m\u001b[0;34m\u001b[0m\u001b[0m\n\u001b[0;32m----> 6\u001b[0;31m     \u001b[0;32mfrom\u001b[0m \u001b[0mlsst\u001b[0m\u001b[0;34m.\u001b[0m\u001b[0mts\u001b[0m\u001b[0;34m.\u001b[0m\u001b[0mstandardscripts\u001b[0m\u001b[0;34m.\u001b[0m\u001b[0mscripts\u001b[0m\u001b[0;34m.\u001b[0m\u001b[0mauxtel\u001b[0m \u001b[0;32mimport\u001b[0m \u001b[0mcalsys_take_narrowband_data\u001b[0m\u001b[0;34m\u001b[0m\u001b[0m\n\u001b[0m\u001b[1;32m      7\u001b[0m \u001b[0;34m\u001b[0m\u001b[0m\n\u001b[1;32m      8\u001b[0m     \u001b[0;34masync\u001b[0m \u001b[0;32mdef\u001b[0m \u001b[0mmain\u001b[0m\u001b[0;34m(\u001b[0m\u001b[0mindex\u001b[0m\u001b[0;34m)\u001b[0m\u001b[0;34m:\u001b[0m\u001b[0;34m\u001b[0m\u001b[0m\n",
      "\u001b[0;31mModuleNotFoundError\u001b[0m: No module named 'lsst.ts.standardscripts'"
     ]
    }
   ],
   "source": [
    "if True:\n",
    "    import asyncio\n",
    "    import logging\n",
    "\n",
    "    from lsst.ts import salobj\n",
    "    from lsst.ts.standardscripts.scripts.auxtel import calsys_take_narrowband_data\n",
    "\n",
    "    async def main(index):\n",
    "        script = calsys_take_narrowband_data(index=index)\n",
    "        script.log.setLevel(logging.INFO)\n",
    "        script.log.addHandler(logging.StreamHandler())\n",
    "        print(\"*** configure\")\n",
    "        config_data = script.cmd_configure.DataType()\n",
    "        config_data.config = \"develop/config/calsys_take_narrowband_data.yaml\"\n",
    "        config_id_data = salobj.CommandIdData(1, config_data)\n",
    "        await script.do_configure(config_id_data)\n",
    "        print(\"*** run\")\n",
    "        await script.do_run(None)\n",
    "        print(\"*** done\")\n"
   ]
  },
  {
   "cell_type": "code",
   "execution_count": null,
   "metadata": {},
   "outputs": [],
   "source": [
    "asyncio.get_event_loop().run_until_complete(main(index=1))"
   ]
  },
  {
   "cell_type": "code",
   "execution_count": null,
   "metadata": {},
   "outputs": [],
   "source": []
  },
  {
   "cell_type": "code",
   "execution_count": 4,
   "metadata": {},
   "outputs": [
    {
     "name": "stdout",
     "output_type": "stream",
     "text": [
      "['ATArchiver Image Name', 'ATArchiver Image Sequence Name', 'Exposure Time', 'Fiber Spectrograph Exposure Time', 'Monochromator Grating', 'Monochromator Wavelength', 'Monochromator Entrance Slit Size', 'Monochromator Exit Slit Size', 'Fiber Spectrograph Fits File', 'Electrometer Fits File']\n"
     ]
    }
   ],
   "source": [
    "# the calsys_take_narrowband_data script outputs a CSV file, but the URLs are messed up. So this fixes them and writes a new file\n",
    "new_rows = []\n",
    "csv_dir='/home/saluser/develop/calsys_take_narrowband_data_fits_files/'\n",
    "#csv_dir='/home/saluser/develop/calsys_take_test_data_fits_files/'\n",
    "#csv_dir='/home/saluser/develop/'\n",
    "csv_filename_root='calsys_take_narrowband_data_2019-04-03'\n",
    "with open(csv_dir+csv_filename_root+'.csv',\"r\") as csvfile:\n",
    "    data_reader = csv.DictReader(csvfile)\n",
    "    headers = data_reader.fieldnames\n",
    "    for row in data_reader:\n",
    "        new_row = row\n",
    "        electrometer_url = row[\"Electrometer Fits File\"]\n",
    "        fiber_spectrograph_url = row[\"Fiber Spectrograph Fits File\"]\n",
    "        electrometer_name = electrometer_url.split('/')[-1]\n",
    "        new_row[\"Electrometer Fits File\"] = electrometer_name + \".fits\"\n",
    "        fiber_spectrograph_name = fiber_spectrograph_url.split('/')[-1]\n",
    "        new_row[\"Fiber Spectrograph Fits File\"] = fiber_spectrograph_name\n",
    "        new_rows.append(new_row)\n",
    "with open(csv_dir+csv_filename_root+'-reformatted.csv',\"w\") as csvfile:\n",
    "    data_writer = csv.DictWriter(csvfile, fieldnames=headers)\n",
    "    data_writer.writeheader()\n",
    "    for row in new_rows:\n",
    "        data_writer.writerow(row)\n",
    "\n",
    "# Read in the CSV file which has cleaned URLs\n",
    "new_rows = []\n",
    "with open(csv_dir+csv_filename_root+'-reformatted.csv',\"r\") as csvfile:\n",
    "    data_reader = csv.DictReader(csvfile)\n",
    "    data_reader_list = list(data_reader)\n",
    "    #exposure_time_1 = data_reader_list[0][\"Exposure Time\"]\n",
    "    #print(exposure_time_1)\n",
    "        \n",
    "print(data_reader.fieldnames)"
   ]
  },
  {
   "cell_type": "code",
   "execution_count": 5,
   "metadata": {},
   "outputs": [
    {
     "name": "stdout",
     "output_type": "stream",
     "text": [
      "AT_O_20190403_000072-ats-wfs_ccd.fits\n",
      "1.0\n",
      "0.2\n",
      "432.0\n",
      "0.15\n"
     ]
    }
   ],
   "source": [
    "print(data_reader_list[-1]['ATArchiver Image Name'])\n",
    "print(data_reader_list[-1]['Exposure Time'])\n",
    "print(data_reader_list[-1]['Fiber Spectrograph Exposure Time'])\n",
    "print(data_reader_list[-1]['Monochromator Wavelength'])\n",
    "print(data_reader_list[-1]['Monochromator Exit Slit Size'])"
   ]
  },
  {
   "cell_type": "code",
   "execution_count": 6,
   "metadata": {},
   "outputs": [
    {
     "name": "stdout",
     "output_type": "stream",
     "text": [
      "Opening file /home/saluser/develop/calsys_take_narrowband_data_fits_files/fiber_spectrograph_fits_files/testKiloarc1554332280.834453.fits\n"
     ]
    }
   ],
   "source": [
    "# Read in a fiber spectrograph file, which is just the last one in the list\n",
    "dir='/home/saluser/develop/calsys_take_narrowband_data_fits_files/fiber_spectrograph_fits_files/'\n",
    "#dir='/home/saluser/develop/calsys_take_test_data_fits_files/fiber_spectrograph_fits_files/'\n",
    "#filename=dir+'testKiloarc1553106436.910112.fits'\n",
    "filename=dir+data_reader_list[-1]['Fiber Spectrograph Fits File']\n",
    "\n",
    "print('Opening file {}'.format(filename))\n",
    "#fits_image_filename = fits.util.get_testdata_filepath(filename)\n",
    "hdul = fits.open(filename)\n",
    "xdata=(hdul[0].data)[:,0]\n",
    "ydata=(hdul[0].data)[:,1]\n",
    "#print(repr(hdul[0].header))"
   ]
  },
  {
   "cell_type": "code",
   "execution_count": 7,
   "metadata": {},
   "outputs": [
    {
     "data": {
      "image/png": "[encoded data removed]",
      "text/plain": [
       "<matplotlib.figure.Figure at 0x7ff571aa0e80>"
      ]
     },
     "metadata": {
      "needs_background": "light"
     },
     "output_type": "display_data"
    }
   ],
   "source": [
    "if True:\n",
    "    plt.ylabel('Intensity (ADU)')\n",
    "    plt.plot(xdata, ydata,'-g')\n",
    "    plt.title('Spectral resolution function')\n",
    "    plt.xlabel('wavelength [nm]')\n",
    "    plt.show()\n",
    "    plt.close()"
   ]
  },
  {
   "cell_type": "code",
   "execution_count": 11,
   "metadata": {},
   "outputs": [
    {
     "data": {
      "image/png": "[encoded data removed]",
      "text/plain": [
       "<matplotlib.figure.Figure at 0x7ff56f867630>"
      ]
     },
     "metadata": {
      "needs_background": "light"
     },
     "output_type": "display_data"
    },
    {
     "name": "stdout",
     "output_type": "stream",
     "text": [
      "Amplitude [ADU] = 620\n",
      "peak (mean) [nm] = 426.59\n",
      "width (sigma) [nm] = 2.566\n",
      "FWHM [nm] = 6.043\n"
     ]
    }
   ],
   "source": [
    "# Fit a guassian to the profile\n",
    "mean = xdata[np.argmax(ydata)] # assume the peak we want is the maximum value (NOT ALWAYS THE CASE!)\n",
    "#mean = 432.   #note this correction\n",
    "sigma = 2.0        #note this correction\n",
    "offset=np.median(ydata)\n",
    "\n",
    "def gaus(x,a,x0,sigma, offset):\n",
    "    return a*np.exp(-(x-x0)**2/(2*sigma**2))+offset\n",
    "\n",
    "popt,pcov = curve_fit(gaus,xdata,ydata,p0=[8000.0,mean,sigma, offset])\n",
    "\n",
    "plt.plot(xdata,ydata,'b+:',label='data')\n",
    "plt.plot(xdata,gaus(xdata,*popt),'r:',label='fit')\n",
    "dx=50\n",
    "plt.xlim([mean-dx,mean+dx])\n",
    "#plt.ylim([0,2000])\n",
    "plt.legend()\n",
    "plt.title('Fit to fiber spectrograph data')\n",
    "plt.ylabel('Intensity [ADU]')\n",
    "plt.xlabel('Wavelength [nm]')\n",
    "plt.show()\n",
    "\n",
    "print('Amplitude [ADU] = {:.0f}'.format(popt[0]))\n",
    "print('peak (mean) [nm] = {:.2f}'.format(popt[1]))\n",
    "print('width (sigma) [nm] = {:0.3f}'.format(popt[2]))\n",
    "print('FWHM [nm] = {:0.3f}'.format(popt[2]*2.355))"
   ]
  },
  {
   "cell_type": "code",
   "execution_count": 12,
   "metadata": {},
   "outputs": [],
   "source": [
    "# Now read in the camera image to look at the signal of the flats"
   ]
  },
  {
   "cell_type": "code",
   "execution_count": 16,
   "metadata": {},
   "outputs": [
    {
     "name": "stdout",
     "output_type": "stream",
     "text": [
      "Opening /mnt/dmcs/2019-04-03/AT_O_20190403_000071-ats-wfs_ccd.fits\n"
     ]
    }
   ],
   "source": [
    "# Now read in the camera image\n",
    "# For now just calculate the mediam signal per amp\n",
    "\n",
    "# Read in image\n",
    "dir = '/mnt/dmcs/2019-04-03/'\n",
    "atcamera_fname=data_reader_list[-1]['ATArchiver Image Name']\n",
    "atcamera_fname='AT_O_20190403_000071-ats-wfs_ccd.fits'\n",
    "\n",
    "full_file_name=dir+atcamera_fname\n",
    "print('Opening {}'.format(full_file_name))\n",
    "hdu_list = fits.open(full_file_name)\n",
    "#hdu_list.info()\n",
    "im=hdu_list[12].data # for camera data"
   ]
  },
  {
   "cell_type": "code",
   "execution_count": 18,
   "metadata": {},
   "outputs": [],
   "source": [
    "# Check median counts on amplifiers (for flat level testing)\n",
    "if False:\n",
    "    # Create an array of the median values\n",
    "    med_arr=np.zeros(16)\n",
    "    stddev_arr=np.zeros(16)\n",
    "\n",
    "    for amp in range(len(hdu_list)-1):\n",
    "        if amp == 0:\n",
    "            continue\n",
    "    #    med_arr[amp]=np.median(hdu_list[amp].data)\n",
    "        # Calculate mean, median, stddev\n",
    "        tmp = astropy.stats.sigma_clipped_stats(hdu_list[amp].data, sigma=2)\n",
    "        med_arr[amp]= tmp[1]\n",
    "        stddev_arr[amp] = tmp[2]\n",
    "        print('Median and Stddev values of amplifier {} is {} and {}'.format(amp,med_arr[amp], stddev_arr[amp]))"
   ]
  },
  {
   "cell_type": "code",
   "execution_count": null,
   "metadata": {},
   "outputs": [],
   "source": []
  },
  {
   "cell_type": "code",
   "execution_count": 19,
   "metadata": {},
   "outputs": [
    {
     "data": {
      "text/plain": [
       "<matplotlib.image.AxesImage at 0x7f4afde77630>"
      ]
     },
     "execution_count": 19,
     "metadata": {},
     "output_type": "execute_result"
    },
    {
     "data": {
      "image/png": "[encoded data removed]",
      "text/plain": [
       "<matplotlib.figure.Figure at 0x7f4b048553c8>"
      ]
     },
     "metadata": {
      "needs_background": "light"
     },
     "output_type": "display_data"
    }
   ],
   "source": [
    "plt.imshow(hdu_list[12].data)"
   ]
  },
  {
   "cell_type": "code",
   "execution_count": 31,
   "metadata": {},
   "outputs": [
    {
     "data": {
      "text/plain": [
       "SIMPLE  =                    T / file does conform to FITS standard             \n",
       "BITPIX  =                   16 / number of bits per data pixel                  \n",
       "NAXIS   =                    0 / number of data axes                            \n",
       "EXTEND  =                    T / FITS dataset may contain extensions            \n",
       "COMMENT   FITS (Flexible Image Transport System) format is defined in 'Astronomy\n",
       "COMMENT   and Astrophysics', volume 376, page 359; bibcode: 2001A&A...376..359H \n",
       "EXTNAME = 'PRIMARY '                                                            \n",
       "ORIGIN  = 'LSST DM Header Service' / FITS file originator                       \n",
       "DATE    = '2019-03-22T22:39:43.664' / Creation Date and Time of File            \n",
       "DATE-OBS= '2019-03-22T22:39:25.494' / Date of the observation (image acquisition\n",
       "DATE-END= '2019-03-22T22:39:25.494' / end date of the observation               \n",
       "MJD     =      58564.944255372 / Modified Julian Date that the file was written \n",
       "MJD-OBS =     58564.9440450694 / Modified Julian Date of observation            \n",
       "OBSID   = 'AT_O_20190322_000002' / ImageName from Camera StartIntergration      \n",
       "GROUPID = 'MONOFLAT'                                                            \n",
       "OBSTYPE =                      / BIAS, DARK, FLAT, OBJECT                       \n",
       "BUNIT   = 'adu     '           / Brightness units for pixel array               \n",
       "TELESCOP= 'LSST AuxTelescope'  / Telescope name                                 \n",
       "INSTRUME= 'LATISS  '           / Instrument used to obtain these data           \n",
       "OBSERVER= 'LSST    '           / Observer name(s)                               \n",
       "OBS-LONG=           -70.749417 / [deg] Observatory east longitude               \n",
       "OBS-LAT =           -30.244639 / [deg] Observatory latitude                     \n",
       "OBS-ELEV=                2663. / [m] Observatory elevation                      \n",
       "OBSGEO-X=           1818938.94 / [m] X-axis Geocentric coordinate               \n",
       "OBSGEO-Y=          -5208470.95 / [m] Y-axis Geocentric coordinate               \n",
       "OBSGEO-Z=          -3195172.08 / [m] Z-axis Geocentric coordinate               \n",
       "RATEL   =                      / Telescope RA of observation                    \n",
       "DECTEL  =                      / Telescope DEC of observation                   \n",
       "ROTPATEL=                      / Telescope Rotation                             \n",
       "ROTCOORD=                                                                       \n",
       "RA      =                      / RA of Target                                   \n",
       "DEC     =                      / DEC of Target                                  \n",
       "ROTPA   =                      / Rotation angle relative to the sky (deg)       \n",
       "HASTART =                      / [HH:MM:SS] Telescope hour angle at start       \n",
       "ELSTART =                      / [deg] Telescope zenith distance at start       \n",
       "AZSTART =                      / [deg] Telescope azimuth angle at start         \n",
       "AMSTART =                      / Airmass at start                               \n",
       "HAEND   =                      / [HH:MM:SS] Telescope hour angle at end         \n",
       "ELEND   =                      / [deg] Telescope zenith distance at end         \n",
       "AZEND   =                      / [deg] Telescope azimuth angle at end           \n",
       "AMEND   =                      / Airmass at end                                 \n",
       "TELCODE = 'AT      '           / The code for the telecope                      \n",
       "CONTRLLR=                      / The controller (e.g. O for OCS, C for CCS)     \n",
       "DAYOBS  = '20190322'           / The observation day as defined by image name   \n",
       "SEQNUM  =                    2 / The sequence number from the image name        \n",
       "CCD_MANU= 'ITL     '           / CCD Manufacturer                               \n",
       "CCD_TYPE= '3800C   '           / CCD Model Number                               \n",
       "CCD_SERN= '20304   '           / Manufacturers? CCD Serial Number               \n",
       "LSST_NUM= 'ITL-3800C-098'      / LSST Assigned CCD Number                       \n",
       "SEQCKSUM=                      / Checksum of Sequencer                          \n",
       "SEQNAME =                      / SequenceName from Camera StartIntergration     \n",
       "REBNAME =                      / Name of the REB                                \n",
       "CONTNUM =                      / CCD Controller (WREB) Serial Number            \n",
       "IMAGETAG=                      / DAQ Image id                                   \n",
       "TEMP_SET=                      / Temperature set point (deg C)                  \n",
       "CCDTEMP =                      / Measured temperature (deg C)                   \n",
       "DETSIZE = '[1:4072,1:4000]'    / Size of sensor                                 \n",
       "OVERH   =                   64 / Over-scan pixels                               \n",
       "OVERV   =                   48 / Vert-overscan pix                              \n",
       "PREH    =                    3 / Pre-scan pixels                                \n",
       "FILTER  =                      / Name of the filter                             \n",
       "FILTPOS =                      / Filter position                                \n",
       "GRATING =                      / Name of the second disperser                   \n",
       "GRATPOS =                      / disperser position                             \n",
       "LINSTAGE=                      / Linear Stage                                   \n",
       "EXPTIME =                15.03 / Exposure Time in Seconds                       \n",
       "DARKTIME=                      / Dark Time in Seconds                           \n",
       "FILENAME= 'AT_O_20190322_000002.fits' / Original file name                      \n",
       "HEADVER = 'ACCS_MCM/OCS_Bridge' / Version of header                             \n",
       "                                                                                \n",
       "                                                                                \n",
       "                                                                                "
      ]
     },
     "execution_count": 31,
     "metadata": {},
     "output_type": "execute_result"
    }
   ],
   "source": [
    "hdu_list[0].header"
   ]
  },
  {
   "cell_type": "code",
   "execution_count": 32,
   "metadata": {},
   "outputs": [
    {
     "ename": "IndexError",
     "evalue": "tuple index out of range",
     "output_type": "error",
     "traceback": [
      "\u001b[0;31m---------------------------------------------------------------------------\u001b[0m",
      "\u001b[0;31mIndexError\u001b[0m                                Traceback (most recent call last)",
      "\u001b[0;32m<ipython-input-32-17e703353a5f>\u001b[0m in \u001b[0;36m<module>\u001b[0;34m\u001b[0m\n\u001b[0;32m----> 1\u001b[0;31m \u001b[0mtmp\u001b[0m\u001b[0;34m[\u001b[0m\u001b[0;36m3\u001b[0m\u001b[0;34m]\u001b[0m\u001b[0;34m\u001b[0m\u001b[0m\n\u001b[0m",
      "\u001b[0;31mIndexError\u001b[0m: tuple index out of range"
     ]
    }
   ],
   "source": [
    "tmp[3]"
   ]
  },
  {
   "cell_type": "code",
   "execution_count": null,
   "metadata": {},
   "outputs": [],
   "source": []
  }
 ],
 "metadata": {
  "kernelspec": {
   "display_name": "Python 3",
   "language": "python",
   "name": "python3"
  },
  "language_info": {
   "codemirror_mode": {
    "name": "ipython",
    "version": 3
   },
   "file_extension": ".py",
   "mimetype": "text/x-python",
   "name": "python",
   "nbconvert_exporter": "python",
   "pygments_lexer": "ipython3",
   "version": "3.7.4"
  }
 },
 "nbformat": 4,
 "nbformat_minor": 4
}
